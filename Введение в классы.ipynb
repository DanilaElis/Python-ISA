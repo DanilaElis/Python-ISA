{
 "cells": [
  {
   "cell_type": "markdown",
   "id": "013f4e14",
   "metadata": {},
   "source": [
    "# Корреляции"
   ]
  },
  {
   "cell_type": "code",
   "execution_count": 86,
   "id": "555132c5",
   "metadata": {},
   "outputs": [],
   "source": [
    "from scipy.stats import pearsonr,spearmanr"
   ]
  },
  {
   "cell_type": "code",
   "execution_count": 89,
   "id": "a6a57d77",
   "metadata": {},
   "outputs": [],
   "source": [
    "ph = [60,55,25,50,40,45,35,10,30,20,20]\n",
    "bl = [118,117,120,121,119,122,123,124,125,126,123]"
   ]
  },
  {
   "cell_type": "code",
   "execution_count": 90,
   "id": "43ff5a57",
   "metadata": {},
   "outputs": [
    {
     "data": {
      "text/plain": [
       "(-0.7465589081078603, 0.008305389608463453)"
      ]
     },
     "execution_count": 90,
     "metadata": {},
     "output_type": "execute_result"
    }
   ],
   "source": [
    "pearsonr(ph,bl)"
   ]
  },
  {
   "cell_type": "code",
   "execution_count": 91,
   "id": "bdb4b560",
   "metadata": {},
   "outputs": [
    {
     "data": {
      "text/plain": [
       "SpearmanrResult(correlation=-0.7648401826484018, pvalue=0.006102985056338955)"
      ]
     },
     "execution_count": 91,
     "metadata": {},
     "output_type": "execute_result"
    }
   ],
   "source": [
    "spearmanr(ph,bl)"
   ]
  },
  {
   "cell_type": "code",
   "execution_count": 92,
   "id": "5448fe85",
   "metadata": {},
   "outputs": [
    {
     "data": {
      "text/plain": [
       "array([[ 1.        , -0.74655891],\n",
       "       [-0.74655891,  1.        ]])"
      ]
     },
     "execution_count": 92,
     "metadata": {},
     "output_type": "execute_result"
    }
   ],
   "source": [
    "import numpy as np\n",
    "\n",
    "np.corrcoef(ph,bl)"
   ]
  },
  {
   "cell_type": "markdown",
   "id": "41490360",
   "metadata": {},
   "source": [
    "# Классы"
   ]
  },
  {
   "cell_type": "code",
   "execution_count": 102,
   "id": "7f10d10a",
   "metadata": {},
   "outputs": [],
   "source": [
    "class Student:\n",
    "    def __init__(self):\n",
    "        self.a = a"
   ]
  },
  {
   "cell_type": "code",
   "execution_count": 103,
   "id": "65dd468f",
   "metadata": {},
   "outputs": [],
   "source": [
    "st1 = Student()"
   ]
  },
  {
   "cell_type": "code",
   "execution_count": 107,
   "id": "31189c9c",
   "metadata": {},
   "outputs": [],
   "source": [
    "class Person:\n",
    "    def __init__(self, name, age):\n",
    "        self.name = name\n",
    "        self.age = age\n",
    "\n",
    "    def myfunc(self):\n",
    "        print(\"Hello my name is \" + self.name)\n"
   ]
  },
  {
   "cell_type": "code",
   "execution_count": 112,
   "id": "ff73fc7a",
   "metadata": {},
   "outputs": [],
   "source": [
    "p1 = Person(\"John\", 36)"
   ]
  },
  {
   "cell_type": "code",
   "execution_count": 113,
   "id": "f64a2add",
   "metadata": {},
   "outputs": [
    {
     "name": "stdout",
     "output_type": "stream",
     "text": [
      "Hello my name is John\n"
     ]
    },
    {
     "data": {
      "text/plain": [
       "'Hello my name is John'"
      ]
     },
     "execution_count": 113,
     "metadata": {},
     "output_type": "execute_result"
    }
   ],
   "source": [
    "p1.myfunc()"
   ]
  },
  {
   "cell_type": "code",
   "execution_count": null,
   "id": "fb566094",
   "metadata": {},
   "outputs": [],
   "source": []
  },
  {
   "cell_type": "code",
   "execution_count": 129,
   "id": "7fe67999",
   "metadata": {},
   "outputs": [],
   "source": [
    "class Rectangle():\n",
    "    def __init__(self, l, w):\n",
    "        self.length = l\n",
    "        self.width  = w\n",
    "    \n",
    "    def rectangle_area(self, multipl):\n",
    "        if self.width == 0:\n",
    "            print(\"Нельзя нулевую ширину\")\n",
    "            return\n",
    "        else:\n",
    "            return self.length*self.width*multipl\n",
    "\n",
    "    def rectangle_perimeter(self):\n",
    "        return self.length*2+self.width*2\n",
    "#print(newRectangle.rectangle_area())"
   ]
  },
  {
   "cell_type": "code",
   "execution_count": 130,
   "id": "5e5add66",
   "metadata": {},
   "outputs": [],
   "source": [
    "newRectangle = Rectangle(12,0)\n"
   ]
  },
  {
   "cell_type": "code",
   "execution_count": 131,
   "id": "4509fad0",
   "metadata": {},
   "outputs": [
    {
     "name": "stdout",
     "output_type": "stream",
     "text": [
      "Нельзя нулевую ширину\n"
     ]
    }
   ],
   "source": [
    "newRectangle.rectangle_area(2)"
   ]
  },
  {
   "cell_type": "code",
   "execution_count": 120,
   "id": "dca4d574",
   "metadata": {},
   "outputs": [
    {
     "data": {
      "text/plain": [
       "44"
      ]
     },
     "execution_count": 120,
     "metadata": {},
     "output_type": "execute_result"
    }
   ],
   "source": [
    "newRectangle.rectangle_perimeter()"
   ]
  },
  {
   "cell_type": "code",
   "execution_count": 132,
   "id": "3958cc41",
   "metadata": {},
   "outputs": [
    {
     "name": "stdout",
     "output_type": "stream",
     "text": [
      "200.96\n",
      "50.24\n"
     ]
    }
   ],
   "source": [
    "class Circle():\n",
    "    def __init__(self, r):\n",
    "        self.radius = r\n",
    "        \n",
    "    def area(self):\n",
    "        return self.radius**2*3.14\n",
    "    \n",
    "    def perimeter(self):\n",
    "        return 2*self.radius*3.14\n",
    "    \n",
    "    \n",
    "NewCircle = Circle(8)\n",
    "print(NewCircle.area())\n",
    "print(NewCircle.perimeter())"
   ]
  },
  {
   "cell_type": "code",
   "execution_count": 169,
   "id": "ac48cac8",
   "metadata": {},
   "outputs": [],
   "source": [
    "from math import pi"
   ]
  },
  {
   "cell_type": "code",
   "execution_count": 191,
   "id": "ced6987d",
   "metadata": {},
   "outputs": [],
   "source": [
    "class RoundObject():\n",
    "    def __init__(self, r, flag_3d):\n",
    "        self.radius = r\n",
    "        self.flag_3d = flag_3d\n",
    "        \n",
    "        if self.flag_3d!=0 and self.flag_3d!=1:\n",
    "            print(\"flag_3d must be 1 or 0\")\n",
    "            return\n",
    "\n",
    "    def volume(self):\n",
    "        if self.flag_3d==0:\n",
    "            print(\"Volume in 2D is area\")\n",
    "            return self.radius**2*pi\n",
    "        elif self.flag_3d==1:\n",
    "            return (4/3)*pi*self.radius**3\n",
    "        else:\n",
    "            print(\"flag_3d must be 1 or 0\")\n",
    "            return\n",
    "        \n",
    "    def area_surface(self):\n",
    "        if self.flag_3d==0:\n",
    "            print(\"in 2D area surface is perimeter\")\n",
    "            return 2*self.radius*pi\n",
    "        elif self.flag_3d==1:\n",
    "            return 4*pi*self.radius**2\n",
    "        else:\n",
    "            print(\"flag_3d must be 1 or 0\")\n",
    "            return\n",
    "        \n"
   ]
  },
  {
   "cell_type": "code",
   "execution_count": 192,
   "id": "345c4823",
   "metadata": {},
   "outputs": [
    {
     "name": "stdout",
     "output_type": "stream",
     "text": [
      "flag_3d must be 1 or 0\n"
     ]
    }
   ],
   "source": [
    "s1 = RoundObject(10,\"LALAAL\")"
   ]
  },
  {
   "cell_type": "code",
   "execution_count": 193,
   "id": "8afd18a5",
   "metadata": {},
   "outputs": [
    {
     "name": "stdout",
     "output_type": "stream",
     "text": [
      "flag_3d must be 1 or 0\n"
     ]
    }
   ],
   "source": [
    "s1.area_surface()"
   ]
  },
  {
   "cell_type": "code",
   "execution_count": 196,
   "id": "669c419e",
   "metadata": {},
   "outputs": [
    {
     "name": "stdout",
     "output_type": "stream",
     "text": [
      "flag_3d must be 1 or 0\n"
     ]
    }
   ],
   "source": [
    "x = s1.volume()"
   ]
  },
  {
   "cell_type": "code",
   "execution_count": 322,
   "id": "ea6042ac",
   "metadata": {},
   "outputs": [],
   "source": [
    "x = [1,2,3,2,3.5,2.5,1.5]\n",
    "x2 = [2,3,4,3,2,4,5,6,4.5]\n"
   ]
  },
  {
   "cell_type": "code",
   "execution_count": 242,
   "id": "aaa86b74",
   "metadata": {},
   "outputs": [
    {
     "data": {
      "text/plain": [
       "2.2142857142857144"
      ]
     },
     "execution_count": 242,
     "metadata": {},
     "output_type": "execute_result"
    }
   ],
   "source": [
    "xs.mean()"
   ]
  },
  {
   "cell_type": "code",
   "execution_count": 253,
   "id": "3631aa22",
   "metadata": {},
   "outputs": [],
   "source": [
    "import scipy.stats as st\n",
    "\n",
    "q = st.t.interval(0.95, len(x)-1, loc=np.mean(x)#, scale=st.sem(a)\n",
    "             )"
   ]
  },
  {
   "cell_type": "code",
   "execution_count": 317,
   "id": "4537e2f7",
   "metadata": {},
   "outputs": [],
   "source": [
    "from scipy.stats import ttest_ind"
   ]
  },
  {
   "cell_type": "code",
   "execution_count": 349,
   "id": "3888b6b6",
   "metadata": {},
   "outputs": [],
   "source": [
    "class Statistic_Analysis():\n",
    "    \n",
    "\n",
    "    def __init__(self, row1, alpha = 0.05):\n",
    "        self.row1 = pd.Series(row1)\n",
    "        self.alpha = alpha\n",
    "        \n",
    "    def calc_avg(self):\n",
    "        return self.row1.mean()\n",
    "    \n",
    "    def calc_var(self):\n",
    "        return self.row1.var()\n",
    "    \n",
    "    def calc_stddev(self):\n",
    "        return self.row1.std()\n",
    "    \n",
    "    def quantile_analysis(self, q):\n",
    "        qs = np.quantile(self.row1,q)\n",
    "        for i in range(len(q)):\n",
    "            if q[i]==0.5:\n",
    "                print(\"Mediane = \",qs[i])\n",
    "            elif q[i]==0.25:\n",
    "                print(\"First quartile = \",qs[i])\n",
    "            elif q[i]==0.75:\n",
    "                print(\"Third quartile = \",qs[i])\n",
    "            elif q[i]*100 % 10==0:\n",
    "                print(\"Decile number\",q[i]*10,\" = \",qs[i])\n",
    "            else:\n",
    "                print(\"Quantile \",q[i],\" = \",qs[i])\n",
    "        return qs\n",
    "    \n",
    "    def confidence_interval(self):\n",
    "        return st.t.interval(1-self.alpha, len(self.row1)-1, loc=self.calc_avg())\n",
    "    \n",
    "    def ttest_1samp(self, mu):\n",
    "        ttest, pvalue = ttest_1samp(self.row1, mu)\n",
    "        if pvalue > self.alpha:\n",
    "            print(\"Mean equality hypothesis accepted\")\n",
    "        else:\n",
    "            print(\"Mean equality hypothesis rejected\")\n",
    "        return ttest, pvalue\n",
    "    \n",
    "    \n",
    "    def ttest_2samp(self, row2):\n",
    "        row2 = pd.Series(row2)\n",
    "        ttest_2, pvalue_2 = ttest_ind(self.row1, row2)\n",
    "        if pvalue_2 > self.alpha:\n",
    "            print(\"Mean equality hypothesis accepted\")\n",
    "        else:\n",
    "            print(\"Mean equality hypothesis rejected\")\n",
    "        return ttest_2, pvalue_2\n",
    "    \n",
    "    \n",
    "    \n",
    "    def print_stat_res(self):\n",
    "        print(\"Average of sample = \",self.calc_avg())\n",
    "        print(\"Variance of sample = \",self.calc_var())\n",
    "        print(\"Stddev of sample = \",self.calc_stddev())\n",
    "        print(\"Confidence interval:\",self.confidence_interval())\n",
    "        \n",
    "    "
   ]
  },
  {
   "cell_type": "code",
   "execution_count": 350,
   "id": "35ca5fcf",
   "metadata": {},
   "outputs": [],
   "source": [
    "y = Statistic_Analysis(x, alpha = 0.01)"
   ]
  },
  {
   "cell_type": "code",
   "execution_count": 331,
   "id": "97b6167e",
   "metadata": {},
   "outputs": [
    {
     "data": {
      "text/plain": [
       "(-1.4931423070391925, 5.921713735610622)"
      ]
     },
     "execution_count": 331,
     "metadata": {},
     "output_type": "execute_result"
    }
   ],
   "source": [
    "y.confidence_interval()"
   ]
  },
  {
   "cell_type": "code",
   "execution_count": 332,
   "id": "82900184",
   "metadata": {},
   "outputs": [
    {
     "name": "stdout",
     "output_type": "stream",
     "text": [
      "Average of sample =  2.2142857142857144\n",
      "Variance of sample =  0.7380952380952381\n",
      "Stddev of sample =  0.8591246929842246\n",
      "Confidence interval: (-1.4931423070391925, 5.921713735610622)\n"
     ]
    }
   ],
   "source": [
    "y.print_stat_res()"
   ]
  },
  {
   "cell_type": "code",
   "execution_count": 333,
   "id": "f0516f4e",
   "metadata": {},
   "outputs": [
    {
     "name": "stdout",
     "output_type": "stream",
     "text": [
      "Mean equality hypothesis accepted\n"
     ]
    }
   ],
   "source": [
    "t, q = y.ttest_1samp(2.5)"
   ]
  },
  {
   "cell_type": "code",
   "execution_count": 334,
   "id": "cddfaee8",
   "metadata": {},
   "outputs": [
    {
     "name": "stdout",
     "output_type": "stream",
     "text": [
      "Mean equality hypothesis accepted\n"
     ]
    },
    {
     "data": {
      "text/plain": [
       "(-2.569579400274368, 0.022255436637112748)"
      ]
     },
     "execution_count": 334,
     "metadata": {},
     "output_type": "execute_result"
    }
   ],
   "source": [
    "y.ttest_2samp(x2)"
   ]
  },
  {
   "cell_type": "code",
   "execution_count": 351,
   "id": "c3358103",
   "metadata": {},
   "outputs": [
    {
     "name": "stdout",
     "output_type": "stream",
     "text": [
      "Mediane =  2.0\n",
      "First quartile =  1.75\n",
      "Third quartile =  2.75\n",
      "Decile number 9.0  =  3.2\n",
      "Decile number 3.0  =  1.9\n",
      "Quantile  0.67  =  2.5100000000000002\n"
     ]
    },
    {
     "data": {
      "text/plain": [
       "array([2.  , 1.75, 2.75, 3.2 , 1.9 , 2.51])"
      ]
     },
     "execution_count": 351,
     "metadata": {},
     "output_type": "execute_result"
    }
   ],
   "source": [
    "y.quantile_analysis([0.5,0.25,0.75,0.9,0.3,0.67])"
   ]
  },
  {
   "cell_type": "code",
   "execution_count": null,
   "id": "6a62cc9c",
   "metadata": {},
   "outputs": [],
   "source": []
  }
 ],
 "metadata": {
  "kernelspec": {
   "display_name": "Python 3",
   "language": "python",
   "name": "python3"
  },
  "language_info": {
   "codemirror_mode": {
    "name": "ipython",
    "version": 3
   },
   "file_extension": ".py",
   "mimetype": "text/x-python",
   "name": "python",
   "nbconvert_exporter": "python",
   "pygments_lexer": "ipython3",
   "version": "3.8.8"
  }
 },
 "nbformat": 4,
 "nbformat_minor": 5
}
