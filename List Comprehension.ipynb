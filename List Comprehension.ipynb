{
 "cells": [
  {
   "cell_type": "code",
   "execution_count": 102,
   "id": "b1465f95",
   "metadata": {},
   "outputs": [],
   "source": [
    "import random\n",
    "import numpy as np\n",
    "from numpy import random"
   ]
  },
  {
   "cell_type": "code",
   "execution_count": 2,
   "id": "214a30fe",
   "metadata": {},
   "outputs": [],
   "source": [
    "txns = [15, 16, 23, 11, 42]\n",
    "TAX_RATE = .08\n"
   ]
  },
  {
   "cell_type": "code",
   "execution_count": 16,
   "id": "f62382a3",
   "metadata": {},
   "outputs": [
    {
     "name": "stdout",
     "output_type": "stream",
     "text": [
      "[1.2, 1.28, 1.84, 0.88, 3.36]\n"
     ]
    }
   ],
   "source": [
    "################## ТАК ДЕЛАТЬ НЕ НАДО\n",
    "\n",
    "lst = []\n",
    "\n",
    "for i in txns:\n",
    "    lst.append(i*TAX_RATE)\n",
    "    \n",
    "print(lst)"
   ]
  },
  {
   "cell_type": "code",
   "execution_count": 5,
   "id": "9db6ebb6",
   "metadata": {},
   "outputs": [],
   "source": [
    "def get_price_with_tax(txn):\n",
    "    ###\n",
    "    ###\n",
    "    ###\n",
    "    return txn * (1 + TAX_RATE)"
   ]
  },
  {
   "cell_type": "code",
   "execution_count": 12,
   "id": "94d41cd7",
   "metadata": {},
   "outputs": [],
   "source": [
    "x = get_price_with_tax(7)"
   ]
  },
  {
   "cell_type": "code",
   "execution_count": 13,
   "id": "9b60af2a",
   "metadata": {},
   "outputs": [
    {
     "name": "stdout",
     "output_type": "stream",
     "text": [
      "[16.200000000000003, 17.28, 24.840000000000003, 11.88, 45.36]\n"
     ]
    }
   ],
   "source": [
    "################## ТАК ДЕЛАТЬ НЕ НАДО\n",
    "lst = []\n",
    "\n",
    "for i in txns:\n",
    "    lst.append(get_price_with_tax(i))\n",
    "    \n",
    "print(lst)"
   ]
  },
  {
   "cell_type": "code",
   "execution_count": null,
   "id": "08ceb487",
   "metadata": {},
   "outputs": [],
   "source": []
  },
  {
   "cell_type": "code",
   "execution_count": 31,
   "id": "d231195c",
   "metadata": {},
   "outputs": [],
   "source": []
  },
  {
   "cell_type": "code",
   "execution_count": 33,
   "id": "1c7d6f2d",
   "metadata": {},
   "outputs": [],
   "source": [
    "final_prices = list(map(get_price_with_tax, txns))\n",
    "#print(final_prices)\n",
    "#a = list(final_prices)"
   ]
  },
  {
   "cell_type": "code",
   "execution_count": 34,
   "id": "aea16452",
   "metadata": {},
   "outputs": [
    {
     "data": {
      "text/plain": [
       "[16.200000000000003, 17.28, 24.840000000000003, 11.88, 45.36]"
      ]
     },
     "execution_count": 34,
     "metadata": {},
     "output_type": "execute_result"
    }
   ],
   "source": [
    "final_prices"
   ]
  },
  {
   "cell_type": "code",
   "execution_count": null,
   "id": "db25cdfe",
   "metadata": {},
   "outputs": [],
   "source": []
  },
  {
   "cell_type": "code",
   "execution_count": null,
   "id": "95fe3450",
   "metadata": {},
   "outputs": [],
   "source": []
  },
  {
   "cell_type": "code",
   "execution_count": 35,
   "id": "8fc428e4",
   "metadata": {},
   "outputs": [
    {
     "name": "stdout",
     "output_type": "stream",
     "text": [
      "[16.200000000000003, 17.28, 24.840000000000003, 11.88, 45.36]\n"
     ]
    }
   ],
   "source": [
    "################## LIST APPREHENSION\n",
    "\n",
    "final_prices2 = [get_price_with_tax(i) for i in txns]\n",
    "print(final_prices2)"
   ]
  },
  {
   "cell_type": "code",
   "execution_count": null,
   "id": "8a47f5ec",
   "metadata": {},
   "outputs": [],
   "source": []
  },
  {
   "cell_type": "code",
   "execution_count": 41,
   "id": "ec4501a9",
   "metadata": {},
   "outputs": [
    {
     "data": {
      "text/plain": [
       "4"
      ]
     },
     "execution_count": 41,
     "metadata": {},
     "output_type": "execute_result"
    }
   ],
   "source": [
    "a = 3\n",
    "b = 4\n",
    "a\n",
    "b"
   ]
  },
  {
   "cell_type": "code",
   "execution_count": 42,
   "id": "180bfcea",
   "metadata": {},
   "outputs": [
    {
     "name": "stdout",
     "output_type": "stream",
     "text": [
      "3\n",
      "4\n"
     ]
    }
   ],
   "source": [
    "a = 3\n",
    "b = 4\n",
    "print(a)\n",
    "print(b)"
   ]
  },
  {
   "cell_type": "code",
   "execution_count": 43,
   "id": "04387abe",
   "metadata": {},
   "outputs": [
    {
     "name": "stdout",
     "output_type": "stream",
     "text": [
      "[0, 1, 4, 9, 16, 25, 36, 49, 64, 81]\n"
     ]
    }
   ],
   "source": [
    "squares = [i * i for i in range(10)]\n",
    "print(squares)"
   ]
  },
  {
   "cell_type": "code",
   "execution_count": null,
   "id": "6be24657",
   "metadata": {},
   "outputs": [],
   "source": []
  },
  {
   "cell_type": "code",
   "execution_count": 46,
   "id": "c56c01ba",
   "metadata": {},
   "outputs": [
    {
     "data": {
      "text/plain": [
       "False"
      ]
     },
     "execution_count": 46,
     "metadata": {},
     "output_type": "execute_result"
    }
   ],
   "source": [
    "'c' in 'abba'"
   ]
  },
  {
   "cell_type": "code",
   "execution_count": null,
   "id": "1cb3e7cd",
   "metadata": {},
   "outputs": [],
   "source": []
  },
  {
   "cell_type": "code",
   "execution_count": null,
   "id": "be55e3df",
   "metadata": {},
   "outputs": [],
   "source": []
  },
  {
   "cell_type": "code",
   "execution_count": 47,
   "id": "9a07bb3c",
   "metadata": {},
   "outputs": [
    {
     "data": {
      "text/plain": [
       "['e', 'o', 'e', 'a', 'e', 'a', 'o', 'a']"
      ]
     },
     "execution_count": 47,
     "metadata": {},
     "output_type": "execute_result"
    }
   ],
   "source": [
    "sentence = 'the rocket came back from mars'\n",
    "vowels = [i for i in sentence if i in 'aeiou']\n",
    "vowels"
   ]
  },
  {
   "cell_type": "code",
   "execution_count": null,
   "id": "2554ab66",
   "metadata": {},
   "outputs": [],
   "source": []
  },
  {
   "cell_type": "code",
   "execution_count": 48,
   "id": "5ac83306",
   "metadata": {},
   "outputs": [],
   "source": [
    "sentence = 'The rocket, who was named Ted, came back from Mars because he missed his friends.'\n",
    "\n",
    "def is_consonant(letter):\n",
    "    vowels = 'aeiou'\n",
    "    return letter.isalpha() and letter.lower() not in vowels\n",
    "\n",
    "#"
   ]
  },
  {
   "cell_type": "code",
   "execution_count": 57,
   "id": "66abeea1",
   "metadata": {},
   "outputs": [
    {
     "data": {
      "text/plain": [
       "False"
      ]
     },
     "execution_count": 57,
     "metadata": {},
     "output_type": "execute_result"
    }
   ],
   "source": [
    "is_consonant('1')"
   ]
  },
  {
   "cell_type": "code",
   "execution_count": 70,
   "id": "8dd83537",
   "metadata": {},
   "outputs": [],
   "source": [
    "consonants = [i if is_consonant(i) else 0 for i in sentence ]"
   ]
  },
  {
   "cell_type": "code",
   "execution_count": 67,
   "id": "99cd786d",
   "metadata": {
    "scrolled": true
   },
   "outputs": [],
   "source": [
    "consonants = list(map(is_consonant, sentence))"
   ]
  },
  {
   "cell_type": "code",
   "execution_count": 76,
   "id": "83efa42f",
   "metadata": {},
   "outputs": [
    {
     "name": "stdout",
     "output_type": "stream",
     "text": [
      "[1.25, 10.22, 3.78, 1.16]\n",
      "[1.25, 0, 10.22, 3.78, 0, 1.16]\n"
     ]
    }
   ],
   "source": [
    "original_prices = [1.25, -9.45, 10.22, 3.78, -5.92, 1.16]\n",
    "\n",
    "prices1 = [i for i in original_prices if i > 0]\n",
    "prices2 = [i if i > 0 else 0 for i in original_prices]\n",
    "\n",
    "print(prices1)\n",
    "print(prices2)"
   ]
  },
  {
   "cell_type": "code",
   "execution_count": null,
   "id": "fa295373",
   "metadata": {},
   "outputs": [],
   "source": []
  },
  {
   "cell_type": "code",
   "execution_count": 77,
   "id": "b002c71a",
   "metadata": {},
   "outputs": [
    {
     "data": {
      "text/plain": [
       "[1.25, 0, 10.22, 3.78, 0, 1.16]"
      ]
     },
     "execution_count": 77,
     "metadata": {},
     "output_type": "execute_result"
    }
   ],
   "source": [
    "def get_price(price):\n",
    "     return price if price > 0 else 0\n",
    "    \n",
    "prices = [get_price(i) for i in original_prices]\n",
    "prices"
   ]
  },
  {
   "cell_type": "code",
   "execution_count": 78,
   "id": "bf80dad8",
   "metadata": {},
   "outputs": [
    {
     "data": {
      "text/plain": [
       "[1.25, 0, 10.22, 3.78, 0, 1.16]"
      ]
     },
     "execution_count": 78,
     "metadata": {},
     "output_type": "execute_result"
    }
   ],
   "source": [
    "list(map(get_price, original_prices))"
   ]
  },
  {
   "cell_type": "code",
   "execution_count": null,
   "id": "1e018baf",
   "metadata": {},
   "outputs": [],
   "source": []
  },
  {
   "cell_type": "code",
   "execution_count": 87,
   "id": "206a9066",
   "metadata": {},
   "outputs": [
    {
     "name": "stdout",
     "output_type": "stream",
     "text": [
      "[100, 104, 109, 108, 106, 104, 101, 107, 106]\n"
     ]
    }
   ],
   "source": [
    "##### Самый дурацкий способ\n",
    "\n",
    "lst =[]\n",
    "\n",
    "for i in range(20):\n",
    "    temp = random.randrange(90, 110)\n",
    "    if temp>=100:\n",
    "        lst.append(temp)\n",
    "    \n",
    "print(lst)"
   ]
  },
  {
   "cell_type": "code",
   "execution_count": 99,
   "id": "6225f51e",
   "metadata": {},
   "outputs": [],
   "source": [
    "##### Способ круче\n",
    "\n",
    "tempp = random.randint(90, 110, 20)\n",
    "\n",
    "hot_tempp = [i for i in tempp if i>=100]"
   ]
  },
  {
   "cell_type": "code",
   "execution_count": 100,
   "id": "7766d044",
   "metadata": {},
   "outputs": [
    {
     "data": {
      "text/plain": [
       "[109, 102, 101, 109, 100, 105, 103, 107, 103, 103, 107, 108, 109]"
      ]
     },
     "execution_count": 100,
     "metadata": {},
     "output_type": "execute_result"
    }
   ],
   "source": [
    "##### Способ самый крутой\n",
    "\n",
    "hot_temps = [temp for i in range(20) if (temp := random.randrange(90, 110)) >= 100]\n",
    "hot_temps"
   ]
  },
  {
   "cell_type": "code",
   "execution_count": 103,
   "id": "f3437754",
   "metadata": {},
   "outputs": [
    {
     "data": {
      "text/plain": [
       "True"
      ]
     },
     "execution_count": 103,
     "metadata": {},
     "output_type": "execute_result"
    }
   ],
   "source": [
    "# = - присваивание\n",
    "# == - это проверка\n",
    "\n",
    "################\n",
    "\n",
    "#:=\n",
    "\n",
    "(a:=3)>2"
   ]
  },
  {
   "cell_type": "markdown",
   "id": "05eb5608",
   "metadata": {},
   "source": [
    "# Тип данных SET"
   ]
  },
  {
   "cell_type": "code",
   "execution_count": 108,
   "id": "28c9691b",
   "metadata": {},
   "outputs": [
    {
     "name": "stdout",
     "output_type": "stream",
     "text": [
      "{1, 3, 5, 7}\n"
     ]
    }
   ],
   "source": [
    "a_set = {1, 3, 5, 7, 7}\n",
    "print(a_set)"
   ]
  },
  {
   "cell_type": "code",
   "execution_count": 109,
   "id": "6e5931a5",
   "metadata": {},
   "outputs": [
    {
     "data": {
      "text/plain": [
       "set"
      ]
     },
     "execution_count": 109,
     "metadata": {},
     "output_type": "execute_result"
    }
   ],
   "source": [
    "type(a_set)"
   ]
  },
  {
   "cell_type": "code",
   "execution_count": 112,
   "id": "02bf18e9",
   "metadata": {},
   "outputs": [],
   "source": [
    "a_dict = {'a':1, 'b':3, 'c':5, 'd':7, 'e':7, 'e':8}"
   ]
  },
  {
   "cell_type": "code",
   "execution_count": 113,
   "id": "691daaf1",
   "metadata": {},
   "outputs": [
    {
     "data": {
      "text/plain": [
       "{'a': 1, 'b': 3, 'c': 5, 'd': 7, 'e': 8}"
      ]
     },
     "execution_count": 113,
     "metadata": {},
     "output_type": "execute_result"
    }
   ],
   "source": [
    "a_dict"
   ]
  },
  {
   "cell_type": "code",
   "execution_count": 114,
   "id": "1296ab77",
   "metadata": {},
   "outputs": [
    {
     "name": "stdout",
     "output_type": "stream",
     "text": [
      "{1, 3, 5, 7}\n",
      "{'ok', 'no', 'yes'}\n"
     ]
    }
   ],
   "source": [
    "b = {1, 3, 5, 7, 1, 3, 5, 7 }\n",
    "print(b)\n",
    "\n",
    "# строки\n",
    "c = {'ok', 'no', 'yes', 'ok', 'no', 'yes'}\n",
    "print(c)\n"
   ]
  },
  {
   "cell_type": "code",
   "execution_count": 192,
   "id": "4111583c",
   "metadata": {},
   "outputs": [],
   "source": [
    "f = {1, 'e', (1,2)}"
   ]
  },
  {
   "cell_type": "code",
   "execution_count": 121,
   "id": "7fd4251e",
   "metadata": {},
   "outputs": [],
   "source": [
    "f = {1, 'e', (3,4)}"
   ]
  },
  {
   "cell_type": "code",
   "execution_count": 127,
   "id": "818a25a6",
   "metadata": {},
   "outputs": [
    {
     "name": "stdout",
     "output_type": "stream",
     "text": [
      "{1, 'e', (3, 4)}\n"
     ]
    }
   ],
   "source": [
    "f = {1, 'e', (3,4)}\n",
    "print(f)"
   ]
  },
  {
   "cell_type": "code",
   "execution_count": 129,
   "id": "a756b170",
   "metadata": {},
   "outputs": [
    {
     "name": "stdout",
     "output_type": "stream",
     "text": [
      "{'в', 'м', 'т', 'н', 'е', 'о', 'с', 'ж'}\n"
     ]
    }
   ],
   "source": [
    "d = set('множество')\n",
    "print(d)"
   ]
  },
  {
   "cell_type": "code",
   "execution_count": 131,
   "id": "1735c170",
   "metadata": {},
   "outputs": [
    {
     "name": "stdout",
     "output_type": "stream",
     "text": [
      "['м', 'н', 'о', 'ж', 'е', 'с', 'т', 'в', 'о']\n"
     ]
    }
   ],
   "source": [
    "d = list('множество')\n",
    "print(d)"
   ]
  },
  {
   "cell_type": "code",
   "execution_count": 132,
   "id": "e6479307",
   "metadata": {},
   "outputs": [
    {
     "name": "stdout",
     "output_type": "stream",
     "text": [
      "('м', 'н', 'о', 'ж', 'е', 'с', 'т', 'в', 'о')\n"
     ]
    }
   ],
   "source": [
    "d = tuple('множество')\n",
    "print(d)"
   ]
  },
  {
   "cell_type": "code",
   "execution_count": 133,
   "id": "6745f387",
   "metadata": {},
   "outputs": [
    {
     "name": "stdout",
     "output_type": "stream",
     "text": [
      "{11, 12, 13, 14}\n",
      "{'list', 'and', 'set'}\n"
     ]
    }
   ],
   "source": [
    "f = set([11, 12, 13, 14, 12, 13])\n",
    "print(f)\n",
    "\n",
    "e = set(['list', 'set', 'and', 'set'])\n",
    "print(e)\n"
   ]
  },
  {
   "cell_type": "code",
   "execution_count": 148,
   "id": "a260e857",
   "metadata": {},
   "outputs": [
    {
     "name": "stdout",
     "output_type": "stream",
     "text": [
      "{'aa', 9, 3, 4}\n",
      "{5, 6, 10, 12, 15, 17}\n"
     ]
    }
   ],
   "source": [
    "w = {3, 4, 9}\n",
    "w.add('aa')\n",
    "print(w)\n",
    "\n",
    "\n",
    "t = {5, 6, 10}\n",
    "t.update([12, 15, 17])\n",
    "print(t)\n",
    "\n",
    "#### list  -  append\n",
    "#### dict  -  update\n",
    "#### tuple  - a = 3,4,5; a = a + (5,)\n",
    "#### set  -  add  +  update"
   ]
  },
  {
   "cell_type": "code",
   "execution_count": 149,
   "id": "027e1725",
   "metadata": {},
   "outputs": [
    {
     "name": "stdout",
     "output_type": "stream",
     "text": [
      "{20, 22}\n"
     ]
    }
   ],
   "source": [
    "y = {20, 21, 22}\n",
    "y.discard(21)\n",
    "print(y)"
   ]
  },
  {
   "cell_type": "code",
   "execution_count": 150,
   "id": "9eabd3bb",
   "metadata": {},
   "outputs": [
    {
     "name": "stdout",
     "output_type": "stream",
     "text": [
      "{28, 29}\n"
     ]
    }
   ],
   "source": [
    "p = {27, 28, 29}\n",
    "p.remove(27)\n",
    "print(p)"
   ]
  },
  {
   "cell_type": "code",
   "execution_count": 151,
   "id": "48609d98",
   "metadata": {},
   "outputs": [
    {
     "name": "stdout",
     "output_type": "stream",
     "text": [
      "{20, 21, 22}\n"
     ]
    }
   ],
   "source": [
    "y = {20, 21, 22}\n",
    "y.discard(23)\n",
    "print(y)"
   ]
  },
  {
   "cell_type": "code",
   "execution_count": 152,
   "id": "452441f1",
   "metadata": {},
   "outputs": [
    {
     "ename": "KeyError",
     "evalue": "30",
     "output_type": "error",
     "traceback": [
      "\u001b[1;31m---------------------------------------------------------------------------\u001b[0m",
      "\u001b[1;31mKeyError\u001b[0m                                  Traceback (most recent call last)",
      "\u001b[1;32m<ipython-input-152-b02b4f9378d6>\u001b[0m in \u001b[0;36m<module>\u001b[1;34m\u001b[0m\n\u001b[0;32m      1\u001b[0m \u001b[0mp\u001b[0m \u001b[1;33m=\u001b[0m \u001b[1;33m{\u001b[0m\u001b[1;36m27\u001b[0m\u001b[1;33m,\u001b[0m \u001b[1;36m28\u001b[0m\u001b[1;33m,\u001b[0m \u001b[1;36m29\u001b[0m\u001b[1;33m}\u001b[0m\u001b[1;33m\u001b[0m\u001b[1;33m\u001b[0m\u001b[0m\n\u001b[1;32m----> 2\u001b[1;33m \u001b[0mp\u001b[0m\u001b[1;33m.\u001b[0m\u001b[0mremove\u001b[0m\u001b[1;33m(\u001b[0m\u001b[1;36m30\u001b[0m\u001b[1;33m)\u001b[0m\u001b[1;33m\u001b[0m\u001b[1;33m\u001b[0m\u001b[0m\n\u001b[0m\u001b[0;32m      3\u001b[0m \u001b[0mprint\u001b[0m\u001b[1;33m(\u001b[0m\u001b[0mp\u001b[0m\u001b[1;33m)\u001b[0m\u001b[1;33m\u001b[0m\u001b[1;33m\u001b[0m\u001b[0m\n",
      "\u001b[1;31mKeyError\u001b[0m: 30"
     ]
    }
   ],
   "source": [
    "p = {27, 28, 29}\n",
    "p.remove(30)\n",
    "print(p)"
   ]
  },
  {
   "cell_type": "code",
   "execution_count": 153,
   "id": "be814511",
   "metadata": {},
   "outputs": [
    {
     "name": "stdout",
     "output_type": "stream",
     "text": [
      "{28, 29}\n"
     ]
    }
   ],
   "source": [
    "g = {27, 28, 29}\n",
    "g.pop()\n",
    "print(g)"
   ]
  },
  {
   "cell_type": "code",
   "execution_count": 155,
   "id": "05f8262c",
   "metadata": {},
   "outputs": [
    {
     "name": "stdout",
     "output_type": "stream",
     "text": [
      "set()\n"
     ]
    }
   ],
   "source": [
    "h = {31, 32, 33}\n",
    "h.clear()\n",
    "print(h)"
   ]
  },
  {
   "cell_type": "code",
   "execution_count": 161,
   "id": "c3b126aa",
   "metadata": {},
   "outputs": [],
   "source": [
    "k1 = [1,2,3]\n",
    "k2 = 1,2,3\n",
    "k3={'a':1,'b':2,'c':3}\n",
    "k4 = {1,2,3,3}"
   ]
  },
  {
   "cell_type": "code",
   "execution_count": 162,
   "id": "e32cbec8",
   "metadata": {},
   "outputs": [
    {
     "data": {
      "text/plain": [
       "3"
      ]
     },
     "execution_count": 162,
     "metadata": {},
     "output_type": "execute_result"
    }
   ],
   "source": [
    "len(k4)"
   ]
  },
  {
   "cell_type": "code",
   "execution_count": 166,
   "id": "8e3c4b07",
   "metadata": {},
   "outputs": [
    {
     "name": "stdout",
     "output_type": "stream",
     "text": [
      "{40, 39}\n"
     ]
    }
   ],
   "source": [
    "l = {38, 39, 40, 41}\n",
    "z = {42, 39, 40, 43}\n",
    "print(l & z)"
   ]
  },
  {
   "cell_type": "code",
   "execution_count": 168,
   "id": "4ad6a0d9",
   "metadata": {},
   "outputs": [
    {
     "data": {
      "text/plain": [
       "[1, 3, 5]"
      ]
     },
     "execution_count": 168,
     "metadata": {},
     "output_type": "execute_result"
    }
   ],
   "source": [
    "a = [1,2,3,4,5]\n",
    "b = [1,3,5,6]\n",
    "\n",
    "#set(a) & set(b)\n",
    "list(set(a) & set(b))"
   ]
  },
  {
   "cell_type": "code",
   "execution_count": 171,
   "id": "7944aa60",
   "metadata": {},
   "outputs": [
    {
     "name": "stdout",
     "output_type": "stream",
     "text": [
      "{52, 53, 54, 55, 56, 57, 58}\n",
      "{64, 59, 60, 61, 62, 63}\n"
     ]
    }
   ],
   "source": [
    "v = {52, 53, 54, 55}\n",
    "b = {55, 56, 57, 58}\n",
    "print(v | b)\n",
    "\n",
    "n = {59, 60, 61}\n",
    "m = {62, 63, 64, 59}\n",
    "print(n.union(m))\n"
   ]
  },
  {
   "cell_type": "code",
   "execution_count": 174,
   "id": "f78c43c1",
   "metadata": {},
   "outputs": [
    {
     "name": "stdout",
     "output_type": "stream",
     "text": [
      "{1, 2, 3, 4}\n"
     ]
    }
   ],
   "source": [
    "a1 = {1,2}\n",
    "a2 = [3,4, 4,2]\n",
    "print(a1 | set(a2))"
   ]
  },
  {
   "cell_type": "code",
   "execution_count": 177,
   "id": "75833aca",
   "metadata": {},
   "outputs": [
    {
     "data": {
      "text/plain": [
       "[1, 2, 4, 5]"
      ]
     },
     "execution_count": 177,
     "metadata": {},
     "output_type": "execute_result"
    }
   ],
   "source": [
    "l1 = [1,2]\n",
    "l2 = [4,5]\n",
    "\n",
    "l1 + l2"
   ]
  },
  {
   "cell_type": "code",
   "execution_count": null,
   "id": "be19103f",
   "metadata": {},
   "outputs": [],
   "source": []
  },
  {
   "cell_type": "code",
   "execution_count": 180,
   "id": "660086b6",
   "metadata": {},
   "outputs": [
    {
     "name": "stdout",
     "output_type": "stream",
     "text": [
      "False\n",
      "False\n"
     ]
    }
   ],
   "source": [
    "one = {71, 72, 73, 74}\n",
    "two = {71, 72, 73, 73}\n",
    "print(one == two)\n",
    "\n",
    "\n",
    "q = {65, 66, 67}\n",
    "z = {68, 69, 70}\n",
    "print(q == z)"
   ]
  },
  {
   "cell_type": "code",
   "execution_count": 183,
   "id": "b65d4093",
   "metadata": {},
   "outputs": [
    {
     "data": {
      "text/plain": [
       "{2}"
      ]
     },
     "execution_count": 183,
     "metadata": {},
     "output_type": "execute_result"
    }
   ],
   "source": [
    "q1 = {2,3,4}\n",
    "q2 = {5,6,7, 4}\n",
    "q3 = {8,9,3}\n",
    "\n",
    "q1.difference(q2,q3)"
   ]
  },
  {
   "cell_type": "code",
   "execution_count": 186,
   "id": "e16b75df",
   "metadata": {},
   "outputs": [],
   "source": [
    "a = [1,2,3,4,5]\n",
    "b = [1,3,5,6]\n",
    "\n",
    "#set(a) & set(b)\n",
    "d = list(set(a) & set(b))"
   ]
  },
  {
   "cell_type": "code",
   "execution_count": 187,
   "id": "683a410f",
   "metadata": {},
   "outputs": [
    {
     "data": {
      "text/plain": [
       "[1, 3, 5]"
      ]
     },
     "execution_count": 187,
     "metadata": {},
     "output_type": "execute_result"
    }
   ],
   "source": [
    "d"
   ]
  },
  {
   "cell_type": "code",
   "execution_count": 191,
   "id": "45511594",
   "metadata": {},
   "outputs": [],
   "source": [
    "a1 = [1,2,3]\n",
    "a2 = [2,3,4,5,6,7]\n",
    "c = set(a+b)\n"
   ]
  },
  {
   "cell_type": "code",
   "execution_count": null,
   "id": "6f35eaa5",
   "metadata": {},
   "outputs": [],
   "source": []
  }
 ],
 "metadata": {
  "kernelspec": {
   "display_name": "Python 3",
   "language": "python",
   "name": "python3"
  },
  "language_info": {
   "codemirror_mode": {
    "name": "ipython",
    "version": 3
   },
   "file_extension": ".py",
   "mimetype": "text/x-python",
   "name": "python",
   "nbconvert_exporter": "python",
   "pygments_lexer": "ipython3",
   "version": "3.8.8"
  }
 },
 "nbformat": 4,
 "nbformat_minor": 5
}
