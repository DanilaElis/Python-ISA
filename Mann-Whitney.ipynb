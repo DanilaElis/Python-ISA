{
 "cells": [
  {
   "cell_type": "code",
   "execution_count": 80,
   "id": "c71b9028",
   "metadata": {},
   "outputs": [],
   "source": [
    "from scipy.stats import mannwhitneyu\n",
    "from scipy.stats import ttest_ind\n",
    "\n",
    "import pandas as pd\n",
    "\n",
    "import seaborn as sns\n",
    "import matplotlib.pyplot as plt\n",
    "#"
   ]
  },
  {
   "cell_type": "code",
   "execution_count": 17,
   "id": "34b7d8bd",
   "metadata": {},
   "outputs": [],
   "source": [
    "X1 = [1\n",
    ",3\n",
    ",5\n",
    ",6\n",
    ",9\n",
    ",11\n",
    ",15\n",
    ",19\n",
    ",26\n",
    ",5\n",
    "      ,16\n",
    "      ,18\n",
    "      ,28\n",
    "      ,4\n",
    "      ,14\n",
    "      ,18,10\n",
    "      ,9\n",
    "      ,9\n",
    "      ,9\n",
    "      ,100\n",
    "      ,100\n",
    "      ,100\n",
    "      ,100\n",
    "      ,150\n",
    "]"
   ]
  },
  {
   "cell_type": "code",
   "execution_count": 18,
   "id": "1bfd22e6",
   "metadata": {},
   "outputs": [],
   "source": [
    "X2 = [\n",
    " 2\n",
    ",4\n",
    ",7\n",
    ",10\n",
    ",12\n",
    ",18\n",
    ",20\n",
    ",21\n",
    ",27  \n",
    "]"
   ]
  },
  {
   "cell_type": "code",
   "execution_count": 19,
   "id": "c1e16eed",
   "metadata": {},
   "outputs": [
    {
     "data": {
      "text/plain": [
       "MannwhitneyuResult(statistic=103.0, pvalue=0.3624000330097466)"
      ]
     },
     "execution_count": 19,
     "metadata": {},
     "output_type": "execute_result"
    }
   ],
   "source": [
    "#U1, p = \n",
    "mannwhitneyu(X1, X2)\n"
   ]
  },
  {
   "cell_type": "code",
   "execution_count": 12,
   "id": "efdd1e97",
   "metadata": {},
   "outputs": [],
   "source": [
    "X11 = [1\n",
    ",3\n",
    ",5\n",
    ",6\n",
    ",9\n",
    ",11\n",
    ",15\n",
    ",19\n",
    ",26\n",
    "]"
   ]
  },
  {
   "cell_type": "code",
   "execution_count": 11,
   "id": "75be0383",
   "metadata": {},
   "outputs": [],
   "source": [
    "X21 = [\n",
    " 102\n",
    ",104\n",
    ",107\n",
    ",100\n",
    ",120\n",
    ",180\n",
    ",200\n",
    ",210\n",
    ",270 \n",
    "]"
   ]
  },
  {
   "cell_type": "code",
   "execution_count": 13,
   "id": "e44b6bdd",
   "metadata": {},
   "outputs": [
    {
     "data": {
      "text/plain": [
       "MannwhitneyuResult(statistic=0.0, pvalue=0.00020614740103084563)"
      ]
     },
     "execution_count": 13,
     "metadata": {},
     "output_type": "execute_result"
    }
   ],
   "source": [
    "mannwhitneyu(X11, X21)\n"
   ]
  },
  {
   "cell_type": "code",
   "execution_count": 23,
   "id": "de44cb82",
   "metadata": {},
   "outputs": [],
   "source": [
    "X12 = [\n",
    "5\n",
    ",6\n",
    ",9\n",
    ",11\n",
    ",15\n",
    ",19\n",
    ",2600\n",
    "]"
   ]
  },
  {
   "cell_type": "code",
   "execution_count": 27,
   "id": "cb92c168",
   "metadata": {},
   "outputs": [
    {
     "name": "stdout",
     "output_type": "stream",
     "text": [
      "13.0\n",
      "19.77777777777778\n"
     ]
    }
   ],
   "source": [
    "print(sum(X12)/len(X12))\n",
    "print(sum(X22)/len(X22))\n"
   ]
  },
  {
   "cell_type": "code",
   "execution_count": 28,
   "id": "4083bbdb",
   "metadata": {},
   "outputs": [],
   "source": [
    "X22 = [\n",
    " 1\n",
    ",2\n",
    ",2\n",
    ",3\n",
    ",4\n",
    ",31000\n",
    ",34000\n",
    ",99999989\n",
    ",1000000000 \n",
    "]"
   ]
  },
  {
   "cell_type": "code",
   "execution_count": 29,
   "id": "6b65d6d4",
   "metadata": {},
   "outputs": [
    {
     "data": {
      "text/plain": [
       "MannwhitneyuResult(statistic=28.0, pvalue=0.37532309402433633)"
      ]
     },
     "execution_count": 29,
     "metadata": {},
     "output_type": "execute_result"
    }
   ],
   "source": [
    "mannwhitneyu(X12, X22)\n"
   ]
  },
  {
   "cell_type": "code",
   "execution_count": 39,
   "id": "499e2bd3",
   "metadata": {},
   "outputs": [],
   "source": [
    "df = pd.read_csv('skybank_late.csv', sep=';'\n",
    "                )"
   ]
  },
  {
   "cell_type": "code",
   "execution_count": 41,
   "id": "f5716df3",
   "metadata": {},
   "outputs": [],
   "source": [
    "XM = df[df['gender']=='M']['amt_loan']\n",
    "XF = df[df['gender']=='F']['amt_loan']"
   ]
  },
  {
   "cell_type": "code",
   "execution_count": 81,
   "id": "ab16b7cc",
   "metadata": {},
   "outputs": [],
   "source": [
    "def two_sample_test(X1,X2,alpha=0.05):\n",
    "    \n",
    "    sns.countplot(x=X1.values#, data=XM\n",
    "                 )\n",
    "    plt.xticks(rotation = 45)\n",
    "    plt.show()\n",
    "    sns.countplot(x=X2.values#, data=XM\n",
    "                 )\n",
    "    plt.xticks(rotation = 45)\n",
    "    plt.show()\n",
    "    \n",
    "    ##### Mann-Whitney\n",
    "    u, p = mannwhitneyu(X1, X2)\n",
    "    \n",
    "    print(\"U_stat = \",u)\n",
    "    print(\"p_value = \",p)\n",
    "    \n",
    "    if p>=alpha:\n",
    "        print(\"Distributions are equal\\n\")\n",
    "    else:\n",
    "        print(\"Distributions are not equal\\n\")\n",
    "    \n",
    "    #print(\"\\n\")\n",
    "    ##### two-sample t-test\n",
    "    t, p_t = ttest_ind(X1, X2)\n",
    "    \n",
    "    print(\"t_stat = \",t)\n",
    "    print(\"p_value = \",p_t)\n",
    "    \n",
    "    if p_t>=alpha:\n",
    "        print(\"Means are equal\")\n",
    "    else:\n",
    "        print(\"Means are not equal\")"
   ]
  },
  {
   "cell_type": "code",
   "execution_count": 82,
   "id": "e309fdb8",
   "metadata": {},
   "outputs": [
    {
     "data": {
      "text/plain": [
       "pandas.core.series.Series"
      ]
     },
     "execution_count": 82,
     "metadata": {},
     "output_type": "execute_result"
    }
   ],
   "source": [
    "type(XM)"
   ]
  },
  {
   "cell_type": "code",
   "execution_count": 83,
   "id": "605a993a",
   "metadata": {},
   "outputs": [
    {
     "data": {
      "image/png": "[encoded data removed]",
      "text/plain": [
       "<Figure size 432x288 with 1 Axes>"
      ]
     },
     "metadata": {
      "needs_background": "light"
     },
     "output_type": "display_data"
    },
    {
     "data": {
      "image/png": "[encoded data removed]",
      "text/plain": [
       "<Figure size 432x288 with 1 Axes>"
      ]
     },
     "metadata": {
      "needs_background": "light"
     },
     "output_type": "display_data"
    },
    {
     "name": "stdout",
     "output_type": "stream",
     "text": [
      "U_stat =  949108.0\n",
      "p_value =  0.3041694039610392\n",
      "Distributions are equal\n",
      "\n",
      "t_stat =  0.1357477417663771\n",
      "p_value =  0.8920301948546419\n",
      "Means are equal\n"
     ]
    }
   ],
   "source": [
    "two_sample_test(XM,XF)"
   ]
  },
  {
   "cell_type": "code",
   "execution_count": null,
   "id": "811eb426",
   "metadata": {},
   "outputs": [],
   "source": []
  },
  {
   "cell_type": "code",
   "execution_count": null,
   "id": "bf29808f",
   "metadata": {},
   "outputs": [],
   "source": []
  },
  {
   "cell_type": "code",
   "execution_count": null,
   "id": "158ebf43",
   "metadata": {},
   "outputs": [],
   "source": []
  }
 ],
 "metadata": {
  "kernelspec": {
   "display_name": "Python 3",
   "language": "python",
   "name": "python3"
  },
  "language_info": {
   "codemirror_mode": {
    "name": "ipython",
    "version": 3
   },
   "file_extension": ".py",
   "mimetype": "text/x-python",
   "name": "python",
   "nbconvert_exporter": "python",
   "pygments_lexer": "ipython3",
   "version": "3.8.8"
  }
 },
 "nbformat": 4,
 "nbformat_minor": 5
}
