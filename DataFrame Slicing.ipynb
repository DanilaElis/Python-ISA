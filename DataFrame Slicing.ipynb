{
 "cells": [
  {
   "cell_type": "code",
   "execution_count": 1,
   "id": "2312ffc4",
   "metadata": {},
   "outputs": [],
   "source": [
    "import pandas as pd"
   ]
  },
  {
   "cell_type": "code",
   "execution_count": 2,
   "id": "1a637e71",
   "metadata": {},
   "outputs": [],
   "source": [
    "df = pd.read_csv('C:/Users/D.Elistratov/Documents/Презентации лекций/Неделя 6/ПИТОН/ORDER_LIST.csv')"
   ]
  },
  {
   "cell_type": "code",
   "execution_count": 27,
   "id": "fa300afd",
   "metadata": {},
   "outputs": [
    {
     "data": {
      "text/plain": [
       "id_order                   int64\n",
       "id_driver                float64\n",
       "order_time                object\n",
       "assign_time               object\n",
       "arrive_to_client_time     object\n",
       "order_finish_time         object\n",
       "id_tariff                float64\n",
       "id_city                    int64\n",
       "dtype: object"
      ]
     },
     "execution_count": 27,
     "metadata": {},
     "output_type": "execute_result"
    }
   ],
   "source": [
    "df.dtypes"
   ]
  },
  {
   "cell_type": "markdown",
   "id": "95e795de",
   "metadata": {},
   "source": [
    "#### Вспомним loc - iloc и индексирование в целом"
   ]
  },
  {
   "cell_type": "code",
   "execution_count": 4,
   "id": "35041aa5",
   "metadata": {},
   "outputs": [
    {
     "data": {
      "text/html": [
       "<div>\n",
       "<style scoped>\n",
       "    .dataframe tbody tr th:only-of-type {\n",
       "        vertical-align: middle;\n",
       "    }\n",
       "\n",
       "    .dataframe tbody tr th {\n",
       "        vertical-align: top;\n",
       "    }\n",
       "\n",
       "    .dataframe thead th {\n",
       "        text-align: right;\n",
       "    }\n",
       "</style>\n",
       "<table border=\"1\" class=\"dataframe\">\n",
       "  <thead>\n",
       "    <tr style=\"text-align: right;\">\n",
       "      <th></th>\n",
       "      <th>id_order</th>\n",
       "      <th>id_driver</th>\n",
       "      <th>order_time</th>\n",
       "      <th>assign_time</th>\n",
       "      <th>arrive_to_client_time</th>\n",
       "      <th>order_finish_time</th>\n",
       "      <th>id_tariff</th>\n",
       "      <th>id_city</th>\n",
       "    </tr>\n",
       "  </thead>\n",
       "  <tbody>\n",
       "    <tr>\n",
       "      <th>0</th>\n",
       "      <td>113612</td>\n",
       "      <td>1644.0</td>\n",
       "      <td>2021-07-01T00:13:39</td>\n",
       "      <td>NaN</td>\n",
       "      <td>NaN</td>\n",
       "      <td>NaN</td>\n",
       "      <td>11.0</td>\n",
       "      <td>117</td>\n",
       "    </tr>\n",
       "    <tr>\n",
       "      <th>1</th>\n",
       "      <td>110195</td>\n",
       "      <td>280.0</td>\n",
       "      <td>2021-07-01T00:17:26</td>\n",
       "      <td>2021-07-01T00:23:26</td>\n",
       "      <td>2021-07-01T00:33:26</td>\n",
       "      <td>NaN</td>\n",
       "      <td>11.0</td>\n",
       "      <td>112</td>\n",
       "    </tr>\n",
       "    <tr>\n",
       "      <th>2</th>\n",
       "      <td>114560</td>\n",
       "      <td>2536.0</td>\n",
       "      <td>2021-07-01T00:36:00</td>\n",
       "      <td>2021-07-01T00:41:00</td>\n",
       "      <td>2021-07-01T00:44:00</td>\n",
       "      <td>2021-07-01T01:42:00</td>\n",
       "      <td>10.0</td>\n",
       "      <td>115</td>\n",
       "    </tr>\n",
       "  </tbody>\n",
       "</table>\n",
       "</div>"
      ],
      "text/plain": [
       "   id_order  id_driver           order_time          assign_time  \\\n",
       "0    113612     1644.0  2021-07-01T00:13:39                  NaN   \n",
       "1    110195      280.0  2021-07-01T00:17:26  2021-07-01T00:23:26   \n",
       "2    114560     2536.0  2021-07-01T00:36:00  2021-07-01T00:41:00   \n",
       "\n",
       "  arrive_to_client_time    order_finish_time  id_tariff  id_city  \n",
       "0                   NaN                  NaN       11.0      117  \n",
       "1   2021-07-01T00:33:26                  NaN       11.0      112  \n",
       "2   2021-07-01T00:44:00  2021-07-01T01:42:00       10.0      115  "
      ]
     },
     "execution_count": 4,
     "metadata": {},
     "output_type": "execute_result"
    }
   ],
   "source": [
    "df.iloc[:3]"
   ]
  },
  {
   "cell_type": "code",
   "execution_count": 8,
   "id": "27a4e27b",
   "metadata": {},
   "outputs": [
    {
     "data": {
      "text/html": [
       "<div>\n",
       "<style scoped>\n",
       "    .dataframe tbody tr th:only-of-type {\n",
       "        vertical-align: middle;\n",
       "    }\n",
       "\n",
       "    .dataframe tbody tr th {\n",
       "        vertical-align: top;\n",
       "    }\n",
       "\n",
       "    .dataframe thead th {\n",
       "        text-align: right;\n",
       "    }\n",
       "</style>\n",
       "<table border=\"1\" class=\"dataframe\">\n",
       "  <thead>\n",
       "    <tr style=\"text-align: right;\">\n",
       "      <th></th>\n",
       "      <th>id_order</th>\n",
       "      <th>id_driver</th>\n",
       "      <th>order_time</th>\n",
       "      <th>assign_time</th>\n",
       "      <th>arrive_to_client_time</th>\n",
       "      <th>order_finish_time</th>\n",
       "      <th>id_tariff</th>\n",
       "      <th>id_city</th>\n",
       "    </tr>\n",
       "  </thead>\n",
       "  <tbody>\n",
       "    <tr>\n",
       "      <th>0</th>\n",
       "      <td>113612</td>\n",
       "      <td>1644.0</td>\n",
       "      <td>2021-07-01T00:13:39</td>\n",
       "      <td>NaN</td>\n",
       "      <td>NaN</td>\n",
       "      <td>NaN</td>\n",
       "      <td>11.0</td>\n",
       "      <td>117</td>\n",
       "    </tr>\n",
       "    <tr>\n",
       "      <th>1</th>\n",
       "      <td>110195</td>\n",
       "      <td>280.0</td>\n",
       "      <td>2021-07-01T00:17:26</td>\n",
       "      <td>2021-07-01T00:23:26</td>\n",
       "      <td>2021-07-01T00:33:26</td>\n",
       "      <td>NaN</td>\n",
       "      <td>11.0</td>\n",
       "      <td>112</td>\n",
       "    </tr>\n",
       "    <tr>\n",
       "      <th>2</th>\n",
       "      <td>114560</td>\n",
       "      <td>2536.0</td>\n",
       "      <td>2021-07-01T00:36:00</td>\n",
       "      <td>2021-07-01T00:41:00</td>\n",
       "      <td>2021-07-01T00:44:00</td>\n",
       "      <td>2021-07-01T01:42:00</td>\n",
       "      <td>10.0</td>\n",
       "      <td>115</td>\n",
       "    </tr>\n",
       "  </tbody>\n",
       "</table>\n",
       "</div>"
      ],
      "text/plain": [
       "   id_order  id_driver           order_time          assign_time  \\\n",
       "0    113612     1644.0  2021-07-01T00:13:39                  NaN   \n",
       "1    110195      280.0  2021-07-01T00:17:26  2021-07-01T00:23:26   \n",
       "2    114560     2536.0  2021-07-01T00:36:00  2021-07-01T00:41:00   \n",
       "\n",
       "  arrive_to_client_time    order_finish_time  id_tariff  id_city  \n",
       "0                   NaN                  NaN       11.0      117  \n",
       "1   2021-07-01T00:33:26                  NaN       11.0      112  \n",
       "2   2021-07-01T00:44:00  2021-07-01T01:42:00       10.0      115  "
      ]
     },
     "execution_count": 8,
     "metadata": {},
     "output_type": "execute_result"
    }
   ],
   "source": [
    "df.iloc[:3,:]"
   ]
  },
  {
   "cell_type": "code",
   "execution_count": 10,
   "id": "7403bc62",
   "metadata": {},
   "outputs": [
    {
     "data": {
      "text/html": [
       "<div>\n",
       "<style scoped>\n",
       "    .dataframe tbody tr th:only-of-type {\n",
       "        vertical-align: middle;\n",
       "    }\n",
       "\n",
       "    .dataframe tbody tr th {\n",
       "        vertical-align: top;\n",
       "    }\n",
       "\n",
       "    .dataframe thead th {\n",
       "        text-align: right;\n",
       "    }\n",
       "</style>\n",
       "<table border=\"1\" class=\"dataframe\">\n",
       "  <thead>\n",
       "    <tr style=\"text-align: right;\">\n",
       "      <th></th>\n",
       "      <th>id_driver</th>\n",
       "      <th>order_time</th>\n",
       "    </tr>\n",
       "  </thead>\n",
       "  <tbody>\n",
       "    <tr>\n",
       "      <th>1</th>\n",
       "      <td>280.0</td>\n",
       "      <td>2021-07-01T00:17:26</td>\n",
       "    </tr>\n",
       "    <tr>\n",
       "      <th>3</th>\n",
       "      <td>NaN</td>\n",
       "      <td>2021-07-01T00:36:32</td>\n",
       "    </tr>\n",
       "    <tr>\n",
       "      <th>5</th>\n",
       "      <td>3597.0</td>\n",
       "      <td>2021-07-01T00:36:35</td>\n",
       "    </tr>\n",
       "  </tbody>\n",
       "</table>\n",
       "</div>"
      ],
      "text/plain": [
       "   id_driver           order_time\n",
       "1      280.0  2021-07-01T00:17:26\n",
       "3        NaN  2021-07-01T00:36:32\n",
       "5     3597.0  2021-07-01T00:36:35"
      ]
     },
     "execution_count": 10,
     "metadata": {},
     "output_type": "execute_result"
    }
   ],
   "source": [
    "df.iloc[[1, 3, 5], 1:3]\n"
   ]
  },
  {
   "cell_type": "code",
   "execution_count": 11,
   "id": "47c5adc3",
   "metadata": {},
   "outputs": [
    {
     "data": {
      "text/html": [
       "<div>\n",
       "<style scoped>\n",
       "    .dataframe tbody tr th:only-of-type {\n",
       "        vertical-align: middle;\n",
       "    }\n",
       "\n",
       "    .dataframe tbody tr th {\n",
       "        vertical-align: top;\n",
       "    }\n",
       "\n",
       "    .dataframe thead th {\n",
       "        text-align: right;\n",
       "    }\n",
       "</style>\n",
       "<table border=\"1\" class=\"dataframe\">\n",
       "  <thead>\n",
       "    <tr style=\"text-align: right;\">\n",
       "      <th></th>\n",
       "      <th>id_order</th>\n",
       "      <th>id_driver</th>\n",
       "      <th>order_time</th>\n",
       "      <th>assign_time</th>\n",
       "      <th>arrive_to_client_time</th>\n",
       "      <th>order_finish_time</th>\n",
       "      <th>id_tariff</th>\n",
       "      <th>id_city</th>\n",
       "    </tr>\n",
       "  </thead>\n",
       "  <tbody>\n",
       "    <tr>\n",
       "      <th>1</th>\n",
       "      <td>110195</td>\n",
       "      <td>280.0</td>\n",
       "      <td>2021-07-01T00:17:26</td>\n",
       "      <td>2021-07-01T00:23:26</td>\n",
       "      <td>2021-07-01T00:33:26</td>\n",
       "      <td>NaN</td>\n",
       "      <td>11.0</td>\n",
       "      <td>112</td>\n",
       "    </tr>\n",
       "    <tr>\n",
       "      <th>2</th>\n",
       "      <td>114560</td>\n",
       "      <td>2536.0</td>\n",
       "      <td>2021-07-01T00:36:00</td>\n",
       "      <td>2021-07-01T00:41:00</td>\n",
       "      <td>2021-07-01T00:44:00</td>\n",
       "      <td>2021-07-01T01:42:00</td>\n",
       "      <td>10.0</td>\n",
       "      <td>115</td>\n",
       "    </tr>\n",
       "  </tbody>\n",
       "</table>\n",
       "</div>"
      ],
      "text/plain": [
       "   id_order  id_driver           order_time          assign_time  \\\n",
       "1    110195      280.0  2021-07-01T00:17:26  2021-07-01T00:23:26   \n",
       "2    114560     2536.0  2021-07-01T00:36:00  2021-07-01T00:41:00   \n",
       "\n",
       "  arrive_to_client_time    order_finish_time  id_tariff  id_city  \n",
       "1   2021-07-01T00:33:26                  NaN       11.0      112  \n",
       "2   2021-07-01T00:44:00  2021-07-01T01:42:00       10.0      115  "
      ]
     },
     "execution_count": 11,
     "metadata": {},
     "output_type": "execute_result"
    }
   ],
   "source": [
    "df.iloc[1:3, :]"
   ]
  },
  {
   "cell_type": "code",
   "execution_count": 12,
   "id": "d33b21b7",
   "metadata": {
    "scrolled": true
   },
   "outputs": [
    {
     "data": {
      "text/html": [
       "<div>\n",
       "<style scoped>\n",
       "    .dataframe tbody tr th:only-of-type {\n",
       "        vertical-align: middle;\n",
       "    }\n",
       "\n",
       "    .dataframe tbody tr th {\n",
       "        vertical-align: top;\n",
       "    }\n",
       "\n",
       "    .dataframe thead th {\n",
       "        text-align: right;\n",
       "    }\n",
       "</style>\n",
       "<table border=\"1\" class=\"dataframe\">\n",
       "  <thead>\n",
       "    <tr style=\"text-align: right;\">\n",
       "      <th></th>\n",
       "      <th>id_driver</th>\n",
       "      <th>order_time</th>\n",
       "    </tr>\n",
       "  </thead>\n",
       "  <tbody>\n",
       "    <tr>\n",
       "      <th>0</th>\n",
       "      <td>1644.0</td>\n",
       "      <td>2021-07-01T00:13:39</td>\n",
       "    </tr>\n",
       "    <tr>\n",
       "      <th>1</th>\n",
       "      <td>280.0</td>\n",
       "      <td>2021-07-01T00:17:26</td>\n",
       "    </tr>\n",
       "    <tr>\n",
       "      <th>2</th>\n",
       "      <td>2536.0</td>\n",
       "      <td>2021-07-01T00:36:00</td>\n",
       "    </tr>\n",
       "    <tr>\n",
       "      <th>3</th>\n",
       "      <td>NaN</td>\n",
       "      <td>2021-07-01T00:36:32</td>\n",
       "    </tr>\n",
       "    <tr>\n",
       "      <th>4</th>\n",
       "      <td>3730.0</td>\n",
       "      <td>2021-07-01T00:36:34</td>\n",
       "    </tr>\n",
       "    <tr>\n",
       "      <th>...</th>\n",
       "      <td>...</td>\n",
       "      <td>...</td>\n",
       "    </tr>\n",
       "    <tr>\n",
       "      <th>4995</th>\n",
       "      <td>3952.0</td>\n",
       "      <td>2021-07-31T22:23:06</td>\n",
       "    </tr>\n",
       "    <tr>\n",
       "      <th>4996</th>\n",
       "      <td>869.0</td>\n",
       "      <td>2021-07-31T22:33:22</td>\n",
       "    </tr>\n",
       "    <tr>\n",
       "      <th>4997</th>\n",
       "      <td>2831.0</td>\n",
       "      <td>2021-07-31T22:38:43</td>\n",
       "    </tr>\n",
       "    <tr>\n",
       "      <th>4998</th>\n",
       "      <td>3443.0</td>\n",
       "      <td>2021-07-31T22:42:38</td>\n",
       "    </tr>\n",
       "    <tr>\n",
       "      <th>4999</th>\n",
       "      <td>1487.0</td>\n",
       "      <td>2021-07-31T23:09:15</td>\n",
       "    </tr>\n",
       "  </tbody>\n",
       "</table>\n",
       "<p>5000 rows × 2 columns</p>\n",
       "</div>"
      ],
      "text/plain": [
       "      id_driver           order_time\n",
       "0        1644.0  2021-07-01T00:13:39\n",
       "1         280.0  2021-07-01T00:17:26\n",
       "2        2536.0  2021-07-01T00:36:00\n",
       "3           NaN  2021-07-01T00:36:32\n",
       "4        3730.0  2021-07-01T00:36:34\n",
       "...         ...                  ...\n",
       "4995     3952.0  2021-07-31T22:23:06\n",
       "4996      869.0  2021-07-31T22:33:22\n",
       "4997     2831.0  2021-07-31T22:38:43\n",
       "4998     3443.0  2021-07-31T22:42:38\n",
       "4999     1487.0  2021-07-31T23:09:15\n",
       "\n",
       "[5000 rows x 2 columns]"
      ]
     },
     "execution_count": 12,
     "metadata": {},
     "output_type": "execute_result"
    }
   ],
   "source": [
    "df.iloc[:, 1:3]\n"
   ]
  },
  {
   "cell_type": "code",
   "execution_count": 226,
   "id": "e139ad8a",
   "metadata": {},
   "outputs": [
    {
     "data": {
      "text/plain": [
       "Series([], Name: arrive_to_client_time, dtype: object)"
      ]
     },
     "execution_count": 226,
     "metadata": {},
     "output_type": "execute_result"
    }
   ],
   "source": [
    "df.iloc[5050:5100,3]"
   ]
  },
  {
   "cell_type": "code",
   "execution_count": 19,
   "id": "cc591e96",
   "metadata": {},
   "outputs": [],
   "source": [
    "ad = df.iloc[1,:]"
   ]
  },
  {
   "cell_type": "code",
   "execution_count": 21,
   "id": "2f52331d",
   "metadata": {},
   "outputs": [
    {
     "data": {
      "text/plain": [
       "Index(['id_order', 'id_driver', 'order_time', 'assign_time',\n",
       "       'arrive_to_client_time', 'order_finish_time', 'id_tariff', 'id_city'],\n",
       "      dtype='object')"
      ]
     },
     "execution_count": 21,
     "metadata": {},
     "output_type": "execute_result"
    }
   ],
   "source": [
    "ad.index"
   ]
  },
  {
   "cell_type": "code",
   "execution_count": 18,
   "id": "b427a3ac",
   "metadata": {},
   "outputs": [
    {
     "data": {
      "text/plain": [
       "pandas.core.series.Series"
      ]
     },
     "execution_count": 18,
     "metadata": {},
     "output_type": "execute_result"
    }
   ],
   "source": [
    "type(ad)"
   ]
  },
  {
   "cell_type": "code",
   "execution_count": 23,
   "id": "3b1805ca",
   "metadata": {},
   "outputs": [
    {
     "data": {
      "text/plain": [
       "['a', 'b', 'c', 'd', 'e', 'f']"
      ]
     },
     "execution_count": 23,
     "metadata": {},
     "output_type": "execute_result"
    }
   ],
   "source": [
    "######## индексы в листах (списках)\n",
    "\n",
    "x = list('abcdef')\n",
    "x"
   ]
  },
  {
   "cell_type": "code",
   "execution_count": 24,
   "id": "cd573392",
   "metadata": {},
   "outputs": [
    {
     "data": {
      "text/plain": [
       "list"
      ]
     },
     "execution_count": 24,
     "metadata": {},
     "output_type": "execute_result"
    }
   ],
   "source": [
    "type(x)"
   ]
  },
  {
   "cell_type": "code",
   "execution_count": 25,
   "id": "1bd53c6b",
   "metadata": {},
   "outputs": [
    {
     "data": {
      "text/plain": [
       "['e', 'f']"
      ]
     },
     "execution_count": 25,
     "metadata": {},
     "output_type": "execute_result"
    }
   ],
   "source": [
    "x[4:10]"
   ]
  },
  {
   "cell_type": "code",
   "execution_count": 28,
   "id": "5f87c7c4",
   "metadata": {},
   "outputs": [
    {
     "data": {
      "text/plain": [
       "['b']"
      ]
     },
     "execution_count": 28,
     "metadata": {},
     "output_type": "execute_result"
    }
   ],
   "source": [
    "x[1:2]"
   ]
  },
  {
   "cell_type": "code",
   "execution_count": 29,
   "id": "4d0fd132",
   "metadata": {},
   "outputs": [],
   "source": [
    "######### loc iloc в сериях\n",
    "\n",
    "s = pd.Series(x)"
   ]
  },
  {
   "cell_type": "code",
   "execution_count": 31,
   "id": "d3acc32d",
   "metadata": {},
   "outputs": [
    {
     "data": {
      "text/plain": [
       "4    e\n",
       "5    f\n",
       "dtype: object"
      ]
     },
     "execution_count": 31,
     "metadata": {},
     "output_type": "execute_result"
    }
   ],
   "source": [
    "s.iloc[4:10]"
   ]
  },
  {
   "cell_type": "code",
   "execution_count": 32,
   "id": "688f868c",
   "metadata": {},
   "outputs": [
    {
     "data": {
      "text/plain": [
       "Series([], dtype: object)"
      ]
     },
     "execution_count": 32,
     "metadata": {},
     "output_type": "execute_result"
    }
   ],
   "source": [
    "s.iloc[8:10]"
   ]
  },
  {
   "cell_type": "markdown",
   "id": "8eeb6a91",
   "metadata": {},
   "source": [
    "### SET - RESET INDEX"
   ]
  },
  {
   "cell_type": "code",
   "execution_count": 81,
   "id": "50cf46ae",
   "metadata": {},
   "outputs": [],
   "source": [
    "df = df.set_index('id_order')\n",
    "#df = df.set_index(df['id_order'])"
   ]
  },
  {
   "cell_type": "code",
   "execution_count": 83,
   "id": "a7d81d78",
   "metadata": {},
   "outputs": [],
   "source": [
    "df = df.reset_index()"
   ]
  },
  {
   "cell_type": "code",
   "execution_count": null,
   "id": "58ce67c4",
   "metadata": {},
   "outputs": [],
   "source": []
  },
  {
   "cell_type": "markdown",
   "id": "c286ba90",
   "metadata": {},
   "source": [
    "## Random Sampling "
   ]
  },
  {
   "cell_type": "code",
   "execution_count": 213,
   "id": "6577420a",
   "metadata": {},
   "outputs": [],
   "source": [
    "students = [\n",
    "\"Егорова Александра\"\n",
    ",\"Сгибнев Эдуард\"\n",
    ",\"Куцаева Таисия\"\n",
    ",\"Морозов Дмитрий\"\n",
    ",\"Воробьева Юлия\"\n",
    ",\"Пищик Андрей\"\n",
    ",\"Бек Дина\"\n",
    ",\"Зеленцова Элина\"\n",
    ",\"Сидоров Евгений\"\n",
    ",\"Спиридонов Денис\"\n",
    ",\"Соколов Глеб\"\n",
    ",\"Паренкова Елена\"\n",
    ",\"Александр Муха\"\n",
    ",\"Захаров Дмитрий\"\n",
    ",\"Гончарук Алиса\"\n",
    ",\"Углева Екатерина\"\n",
    ",\"Витвицкая Ольга\"\n",
    ",\"Батвинов Олег\"\n",
    ",\"Фастахиева Эльмира\"\n",
    ",\"Маркаров Павел\"\n",
    ",\"Артамонов Анатолий\"\n",
    "]"
   ]
  },
  {
   "cell_type": "code",
   "execution_count": 215,
   "id": "c8c5f619",
   "metadata": {},
   "outputs": [],
   "source": [
    "############## random samples\n",
    "\n",
    "s = pd.Series(students)"
   ]
  },
  {
   "cell_type": "code",
   "execution_count": 217,
   "id": "1e239934",
   "metadata": {},
   "outputs": [
    {
     "data": {
      "text/plain": [
       "18    Фастахиева Эльмира\n",
       "9       Спиридонов Денис\n",
       "14        Гончарук Алиса\n",
       "dtype: object"
      ]
     },
     "execution_count": 217,
     "metadata": {},
     "output_type": "execute_result"
    }
   ],
   "source": [
    "s.sample(n=3)"
   ]
  },
  {
   "cell_type": "code",
   "execution_count": 218,
   "id": "2b45f943",
   "metadata": {},
   "outputs": [
    {
     "data": {
      "text/plain": [
       "3        Морозов Дмитрий\n",
       "9       Спиридонов Денис\n",
       "12        Александр Муха\n",
       "18    Фастахиева Эльмира\n",
       "10          Соколов Глеб\n",
       "16       Витвицкая Ольга\n",
       "7        Зеленцова Элина\n",
       "8        Сидоров Евгений\n",
       "14        Гончарук Алиса\n",
       "1         Сгибнев Эдуард\n",
       "dtype: object"
      ]
     },
     "execution_count": 218,
     "metadata": {},
     "output_type": "execute_result"
    }
   ],
   "source": [
    "s.sample(frac=0.5)"
   ]
  },
  {
   "cell_type": "code",
   "execution_count": 223,
   "id": "5394f4c5",
   "metadata": {},
   "outputs": [
    {
     "data": {
      "text/plain": [
       "20    Артамонов Анатолий\n",
       "20    Артамонов Анатолий\n",
       "15      Углева Екатерина\n",
       "16       Витвицкая Ольга\n",
       "4         Воробьева Юлия\n",
       "0     Егорова Александра\n",
       "dtype: object"
      ]
     },
     "execution_count": 223,
     "metadata": {},
     "output_type": "execute_result"
    }
   ],
   "source": [
    "s.sample(n=6, replace=True)"
   ]
  },
  {
   "cell_type": "code",
   "execution_count": 224,
   "id": "f3d21d73",
   "metadata": {},
   "outputs": [],
   "source": [
    "########### Взвешивание с весами\n",
    "\n",
    "example_weights = [0, 0, 0.2, 0.8, 0.2, 0.4]"
   ]
  },
  {
   "cell_type": "code",
   "execution_count": 227,
   "id": "923847f1",
   "metadata": {},
   "outputs": [],
   "source": [
    "#s.sample(n=3, weights=example_weights)"
   ]
  },
  {
   "cell_type": "markdown",
   "id": "4f830d36",
   "metadata": {},
   "source": [
    "## Slicing"
   ]
  },
  {
   "cell_type": "code",
   "execution_count": 178,
   "id": "752de7b8",
   "metadata": {},
   "outputs": [
    {
     "data": {
      "text/html": [
       "<div>\n",
       "<style scoped>\n",
       "    .dataframe tbody tr th:only-of-type {\n",
       "        vertical-align: middle;\n",
       "    }\n",
       "\n",
       "    .dataframe tbody tr th {\n",
       "        vertical-align: top;\n",
       "    }\n",
       "\n",
       "    .dataframe thead th {\n",
       "        text-align: right;\n",
       "    }\n",
       "</style>\n",
       "<table border=\"1\" class=\"dataframe\">\n",
       "  <thead>\n",
       "    <tr style=\"text-align: right;\">\n",
       "      <th></th>\n",
       "      <th>id_driver</th>\n",
       "      <th>order_time</th>\n",
       "      <th>assign_time</th>\n",
       "      <th>arrive_to_client_time</th>\n",
       "      <th>order_finish_time</th>\n",
       "      <th>id_tariff</th>\n",
       "      <th>id_city</th>\n",
       "    </tr>\n",
       "    <tr>\n",
       "      <th>id_order</th>\n",
       "      <th></th>\n",
       "      <th></th>\n",
       "      <th></th>\n",
       "      <th></th>\n",
       "      <th></th>\n",
       "      <th></th>\n",
       "      <th></th>\n",
       "    </tr>\n",
       "  </thead>\n",
       "  <tbody>\n",
       "    <tr>\n",
       "      <th>114776</th>\n",
       "      <td>1487.0</td>\n",
       "      <td>2021-07-17T10:27:29</td>\n",
       "      <td>2021-07-17T10:33:29</td>\n",
       "      <td>2021-07-17T10:37:29</td>\n",
       "      <td>2021-07-17T10:53:29</td>\n",
       "      <td>10.0</td>\n",
       "      <td>111</td>\n",
       "    </tr>\n",
       "    <tr>\n",
       "      <th>110907</th>\n",
       "      <td>1487.0</td>\n",
       "      <td>2021-07-31T23:09:15</td>\n",
       "      <td>2021-07-31T23:15:15</td>\n",
       "      <td>2021-07-31T23:27:15</td>\n",
       "      <td>2021-07-31T23:59:15</td>\n",
       "      <td>10.0</td>\n",
       "      <td>119</td>\n",
       "    </tr>\n",
       "  </tbody>\n",
       "</table>\n",
       "</div>"
      ],
      "text/plain": [
       "          id_driver           order_time          assign_time  \\\n",
       "id_order                                                        \n",
       "114776       1487.0  2021-07-17T10:27:29  2021-07-17T10:33:29   \n",
       "110907       1487.0  2021-07-31T23:09:15  2021-07-31T23:15:15   \n",
       "\n",
       "         arrive_to_client_time    order_finish_time  id_tariff  id_city  \n",
       "id_order                                                                 \n",
       "114776     2021-07-17T10:37:29  2021-07-17T10:53:29       10.0      111  \n",
       "110907     2021-07-31T23:27:15  2021-07-31T23:59:15       10.0      119  "
      ]
     },
     "execution_count": 178,
     "metadata": {},
     "output_type": "execute_result"
    }
   ],
   "source": [
    "df[(df['id_driver']==1487) & (df['arrive_to_client_time'].notnull()  )]"
   ]
  },
  {
   "cell_type": "code",
   "execution_count": 179,
   "id": "a59810a3",
   "metadata": {},
   "outputs": [
    {
     "data": {
      "text/html": [
       "<div>\n",
       "<style scoped>\n",
       "    .dataframe tbody tr th:only-of-type {\n",
       "        vertical-align: middle;\n",
       "    }\n",
       "\n",
       "    .dataframe tbody tr th {\n",
       "        vertical-align: top;\n",
       "    }\n",
       "\n",
       "    .dataframe thead th {\n",
       "        text-align: right;\n",
       "    }\n",
       "</style>\n",
       "<table border=\"1\" class=\"dataframe\">\n",
       "  <thead>\n",
       "    <tr style=\"text-align: right;\">\n",
       "      <th></th>\n",
       "      <th>id_driver</th>\n",
       "      <th>order_time</th>\n",
       "      <th>assign_time</th>\n",
       "      <th>arrive_to_client_time</th>\n",
       "      <th>order_finish_time</th>\n",
       "      <th>id_tariff</th>\n",
       "      <th>id_city</th>\n",
       "    </tr>\n",
       "    <tr>\n",
       "      <th>id_order</th>\n",
       "      <th></th>\n",
       "      <th></th>\n",
       "      <th></th>\n",
       "      <th></th>\n",
       "      <th></th>\n",
       "      <th></th>\n",
       "      <th></th>\n",
       "    </tr>\n",
       "  </thead>\n",
       "  <tbody>\n",
       "    <tr>\n",
       "      <th>112741</th>\n",
       "      <td>1487.0</td>\n",
       "      <td>2021-07-06T17:24:33</td>\n",
       "      <td>2021-07-06T17:25:33</td>\n",
       "      <td>NaN</td>\n",
       "      <td>NaN</td>\n",
       "      <td>11.0</td>\n",
       "      <td>113</td>\n",
       "    </tr>\n",
       "  </tbody>\n",
       "</table>\n",
       "</div>"
      ],
      "text/plain": [
       "          id_driver           order_time          assign_time  \\\n",
       "id_order                                                        \n",
       "112741       1487.0  2021-07-06T17:24:33  2021-07-06T17:25:33   \n",
       "\n",
       "         arrive_to_client_time order_finish_time  id_tariff  id_city  \n",
       "id_order                                                              \n",
       "112741                     NaN               NaN       11.0      113  "
      ]
     },
     "execution_count": 179,
     "metadata": {},
     "output_type": "execute_result"
    }
   ],
   "source": [
    "df[(df['id_driver']==1487) & (df['arrive_to_client_time'].isnull())]"
   ]
  },
  {
   "cell_type": "code",
   "execution_count": 180,
   "id": "34ebc989",
   "metadata": {},
   "outputs": [
    {
     "data": {
      "text/html": [
       "<div>\n",
       "<style scoped>\n",
       "    .dataframe tbody tr th:only-of-type {\n",
       "        vertical-align: middle;\n",
       "    }\n",
       "\n",
       "    .dataframe tbody tr th {\n",
       "        vertical-align: top;\n",
       "    }\n",
       "\n",
       "    .dataframe thead th {\n",
       "        text-align: right;\n",
       "    }\n",
       "</style>\n",
       "<table border=\"1\" class=\"dataframe\">\n",
       "  <thead>\n",
       "    <tr style=\"text-align: right;\">\n",
       "      <th></th>\n",
       "      <th>id_driver</th>\n",
       "      <th>order_time</th>\n",
       "      <th>assign_time</th>\n",
       "      <th>arrive_to_client_time</th>\n",
       "      <th>order_finish_time</th>\n",
       "      <th>id_tariff</th>\n",
       "      <th>id_city</th>\n",
       "    </tr>\n",
       "    <tr>\n",
       "      <th>id_order</th>\n",
       "      <th></th>\n",
       "      <th></th>\n",
       "      <th></th>\n",
       "      <th></th>\n",
       "      <th></th>\n",
       "      <th></th>\n",
       "      <th></th>\n",
       "    </tr>\n",
       "  </thead>\n",
       "  <tbody>\n",
       "    <tr>\n",
       "      <th>114776</th>\n",
       "      <td>1487.0</td>\n",
       "      <td>2021-07-17T10:27:29</td>\n",
       "      <td>2021-07-17T10:33:29</td>\n",
       "      <td>2021-07-17T10:37:29</td>\n",
       "      <td>2021-07-17T10:53:29</td>\n",
       "      <td>10.0</td>\n",
       "      <td>111</td>\n",
       "    </tr>\n",
       "    <tr>\n",
       "      <th>110907</th>\n",
       "      <td>1487.0</td>\n",
       "      <td>2021-07-31T23:09:15</td>\n",
       "      <td>2021-07-31T23:15:15</td>\n",
       "      <td>2021-07-31T23:27:15</td>\n",
       "      <td>2021-07-31T23:59:15</td>\n",
       "      <td>10.0</td>\n",
       "      <td>119</td>\n",
       "    </tr>\n",
       "  </tbody>\n",
       "</table>\n",
       "</div>"
      ],
      "text/plain": [
       "          id_driver           order_time          assign_time  \\\n",
       "id_order                                                        \n",
       "114776       1487.0  2021-07-17T10:27:29  2021-07-17T10:33:29   \n",
       "110907       1487.0  2021-07-31T23:09:15  2021-07-31T23:15:15   \n",
       "\n",
       "         arrive_to_client_time    order_finish_time  id_tariff  id_city  \n",
       "id_order                                                                 \n",
       "114776     2021-07-17T10:37:29  2021-07-17T10:53:29       10.0      111  \n",
       "110907     2021-07-31T23:27:15  2021-07-31T23:59:15       10.0      119  "
      ]
     },
     "execution_count": 180,
     "metadata": {},
     "output_type": "execute_result"
    }
   ],
   "source": [
    "df[(df['id_driver']==1487) & (~df['arrive_to_client_time'].isnull())]"
   ]
  },
  {
   "cell_type": "markdown",
   "id": "ccf56b4f",
   "metadata": {},
   "source": [
    "## Группировка датафреймов"
   ]
  },
  {
   "cell_type": "code",
   "execution_count": 98,
   "id": "65a481ff",
   "metadata": {},
   "outputs": [],
   "source": [
    "df_grouped = df.groupby('id_tariff').sum().reset_index()"
   ]
  },
  {
   "cell_type": "code",
   "execution_count": 118,
   "id": "3e85d041",
   "metadata": {},
   "outputs": [],
   "source": [
    "групп_по_тарифам = df.groupby(['id_city','id_tariff']).count()[['order_time','assign_time']].reset_index()"
   ]
  },
  {
   "cell_type": "code",
   "execution_count": 119,
   "id": "85d1d40d",
   "metadata": {
    "scrolled": true
   },
   "outputs": [
    {
     "data": {
      "text/html": [
       "<div>\n",
       "<style scoped>\n",
       "    .dataframe tbody tr th:only-of-type {\n",
       "        vertical-align: middle;\n",
       "    }\n",
       "\n",
       "    .dataframe tbody tr th {\n",
       "        vertical-align: top;\n",
       "    }\n",
       "\n",
       "    .dataframe thead th {\n",
       "        text-align: right;\n",
       "    }\n",
       "</style>\n",
       "<table border=\"1\" class=\"dataframe\">\n",
       "  <thead>\n",
       "    <tr style=\"text-align: right;\">\n",
       "      <th></th>\n",
       "      <th>id_city</th>\n",
       "      <th>id_tariff</th>\n",
       "      <th>order_time</th>\n",
       "      <th>assign_time</th>\n",
       "    </tr>\n",
       "  </thead>\n",
       "  <tbody>\n",
       "    <tr>\n",
       "      <th>0</th>\n",
       "      <td>111</td>\n",
       "      <td>1.0</td>\n",
       "      <td>647</td>\n",
       "      <td>636</td>\n",
       "    </tr>\n",
       "    <tr>\n",
       "      <th>1</th>\n",
       "      <td>111</td>\n",
       "      <td>10.0</td>\n",
       "      <td>476</td>\n",
       "      <td>332</td>\n",
       "    </tr>\n",
       "    <tr>\n",
       "      <th>2</th>\n",
       "      <td>111</td>\n",
       "      <td>11.0</td>\n",
       "      <td>209</td>\n",
       "      <td>147</td>\n",
       "    </tr>\n",
       "    <tr>\n",
       "      <th>3</th>\n",
       "      <td>111</td>\n",
       "      <td>65.0</td>\n",
       "      <td>205</td>\n",
       "      <td>94</td>\n",
       "    </tr>\n",
       "    <tr>\n",
       "      <th>4</th>\n",
       "      <td>111</td>\n",
       "      <td>78.0</td>\n",
       "      <td>127</td>\n",
       "      <td>114</td>\n",
       "    </tr>\n",
       "    <tr>\n",
       "      <th>5</th>\n",
       "      <td>112</td>\n",
       "      <td>1.0</td>\n",
       "      <td>201</td>\n",
       "      <td>194</td>\n",
       "    </tr>\n",
       "    <tr>\n",
       "      <th>6</th>\n",
       "      <td>112</td>\n",
       "      <td>10.0</td>\n",
       "      <td>109</td>\n",
       "      <td>94</td>\n",
       "    </tr>\n",
       "    <tr>\n",
       "      <th>7</th>\n",
       "      <td>112</td>\n",
       "      <td>11.0</td>\n",
       "      <td>60</td>\n",
       "      <td>55</td>\n",
       "    </tr>\n",
       "    <tr>\n",
       "      <th>8</th>\n",
       "      <td>112</td>\n",
       "      <td>65.0</td>\n",
       "      <td>158</td>\n",
       "      <td>121</td>\n",
       "    </tr>\n",
       "    <tr>\n",
       "      <th>9</th>\n",
       "      <td>112</td>\n",
       "      <td>78.0</td>\n",
       "      <td>100</td>\n",
       "      <td>78</td>\n",
       "    </tr>\n",
       "    <tr>\n",
       "      <th>10</th>\n",
       "      <td>113</td>\n",
       "      <td>1.0</td>\n",
       "      <td>230</td>\n",
       "      <td>224</td>\n",
       "    </tr>\n",
       "    <tr>\n",
       "      <th>11</th>\n",
       "      <td>113</td>\n",
       "      <td>10.0</td>\n",
       "      <td>122</td>\n",
       "      <td>100</td>\n",
       "    </tr>\n",
       "    <tr>\n",
       "      <th>12</th>\n",
       "      <td>113</td>\n",
       "      <td>11.0</td>\n",
       "      <td>61</td>\n",
       "      <td>50</td>\n",
       "    </tr>\n",
       "    <tr>\n",
       "      <th>13</th>\n",
       "      <td>113</td>\n",
       "      <td>65.0</td>\n",
       "      <td>24</td>\n",
       "      <td>10</td>\n",
       "    </tr>\n",
       "    <tr>\n",
       "      <th>14</th>\n",
       "      <td>114</td>\n",
       "      <td>1.0</td>\n",
       "      <td>203</td>\n",
       "      <td>196</td>\n",
       "    </tr>\n",
       "    <tr>\n",
       "      <th>15</th>\n",
       "      <td>114</td>\n",
       "      <td>10.0</td>\n",
       "      <td>97</td>\n",
       "      <td>84</td>\n",
       "    </tr>\n",
       "    <tr>\n",
       "      <th>16</th>\n",
       "      <td>114</td>\n",
       "      <td>11.0</td>\n",
       "      <td>37</td>\n",
       "      <td>32</td>\n",
       "    </tr>\n",
       "    <tr>\n",
       "      <th>17</th>\n",
       "      <td>114</td>\n",
       "      <td>65.0</td>\n",
       "      <td>38</td>\n",
       "      <td>18</td>\n",
       "    </tr>\n",
       "    <tr>\n",
       "      <th>18</th>\n",
       "      <td>114</td>\n",
       "      <td>78.0</td>\n",
       "      <td>1</td>\n",
       "      <td>1</td>\n",
       "    </tr>\n",
       "    <tr>\n",
       "      <th>19</th>\n",
       "      <td>115</td>\n",
       "      <td>1.0</td>\n",
       "      <td>216</td>\n",
       "      <td>208</td>\n",
       "    </tr>\n",
       "    <tr>\n",
       "      <th>20</th>\n",
       "      <td>115</td>\n",
       "      <td>10.0</td>\n",
       "      <td>98</td>\n",
       "      <td>87</td>\n",
       "    </tr>\n",
       "    <tr>\n",
       "      <th>21</th>\n",
       "      <td>115</td>\n",
       "      <td>11.0</td>\n",
       "      <td>49</td>\n",
       "      <td>43</td>\n",
       "    </tr>\n",
       "    <tr>\n",
       "      <th>22</th>\n",
       "      <td>115</td>\n",
       "      <td>65.0</td>\n",
       "      <td>27</td>\n",
       "      <td>8</td>\n",
       "    </tr>\n",
       "    <tr>\n",
       "      <th>23</th>\n",
       "      <td>115</td>\n",
       "      <td>78.0</td>\n",
       "      <td>2</td>\n",
       "      <td>2</td>\n",
       "    </tr>\n",
       "    <tr>\n",
       "      <th>24</th>\n",
       "      <td>116</td>\n",
       "      <td>1.0</td>\n",
       "      <td>219</td>\n",
       "      <td>208</td>\n",
       "    </tr>\n",
       "    <tr>\n",
       "      <th>25</th>\n",
       "      <td>116</td>\n",
       "      <td>10.0</td>\n",
       "      <td>104</td>\n",
       "      <td>86</td>\n",
       "    </tr>\n",
       "    <tr>\n",
       "      <th>26</th>\n",
       "      <td>116</td>\n",
       "      <td>11.0</td>\n",
       "      <td>62</td>\n",
       "      <td>53</td>\n",
       "    </tr>\n",
       "    <tr>\n",
       "      <th>27</th>\n",
       "      <td>116</td>\n",
       "      <td>65.0</td>\n",
       "      <td>38</td>\n",
       "      <td>17</td>\n",
       "    </tr>\n",
       "    <tr>\n",
       "      <th>28</th>\n",
       "      <td>117</td>\n",
       "      <td>1.0</td>\n",
       "      <td>192</td>\n",
       "      <td>53</td>\n",
       "    </tr>\n",
       "    <tr>\n",
       "      <th>29</th>\n",
       "      <td>117</td>\n",
       "      <td>10.0</td>\n",
       "      <td>18</td>\n",
       "      <td>5</td>\n",
       "    </tr>\n",
       "    <tr>\n",
       "      <th>30</th>\n",
       "      <td>117</td>\n",
       "      <td>11.0</td>\n",
       "      <td>44</td>\n",
       "      <td>19</td>\n",
       "    </tr>\n",
       "    <tr>\n",
       "      <th>31</th>\n",
       "      <td>117</td>\n",
       "      <td>65.0</td>\n",
       "      <td>24</td>\n",
       "      <td>8</td>\n",
       "    </tr>\n",
       "    <tr>\n",
       "      <th>32</th>\n",
       "      <td>117</td>\n",
       "      <td>78.0</td>\n",
       "      <td>1</td>\n",
       "      <td>1</td>\n",
       "    </tr>\n",
       "    <tr>\n",
       "      <th>33</th>\n",
       "      <td>118</td>\n",
       "      <td>1.0</td>\n",
       "      <td>167</td>\n",
       "      <td>101</td>\n",
       "    </tr>\n",
       "    <tr>\n",
       "      <th>34</th>\n",
       "      <td>118</td>\n",
       "      <td>10.0</td>\n",
       "      <td>107</td>\n",
       "      <td>92</td>\n",
       "    </tr>\n",
       "    <tr>\n",
       "      <th>35</th>\n",
       "      <td>118</td>\n",
       "      <td>11.0</td>\n",
       "      <td>42</td>\n",
       "      <td>35</td>\n",
       "    </tr>\n",
       "    <tr>\n",
       "      <th>36</th>\n",
       "      <td>118</td>\n",
       "      <td>65.0</td>\n",
       "      <td>34</td>\n",
       "      <td>13</td>\n",
       "    </tr>\n",
       "    <tr>\n",
       "      <th>37</th>\n",
       "      <td>118</td>\n",
       "      <td>78.0</td>\n",
       "      <td>1</td>\n",
       "      <td>1</td>\n",
       "    </tr>\n",
       "    <tr>\n",
       "      <th>38</th>\n",
       "      <td>119</td>\n",
       "      <td>1.0</td>\n",
       "      <td>211</td>\n",
       "      <td>204</td>\n",
       "    </tr>\n",
       "    <tr>\n",
       "      <th>39</th>\n",
       "      <td>119</td>\n",
       "      <td>10.0</td>\n",
       "      <td>130</td>\n",
       "      <td>108</td>\n",
       "    </tr>\n",
       "    <tr>\n",
       "      <th>40</th>\n",
       "      <td>119</td>\n",
       "      <td>11.0</td>\n",
       "      <td>71</td>\n",
       "      <td>64</td>\n",
       "    </tr>\n",
       "    <tr>\n",
       "      <th>41</th>\n",
       "      <td>119</td>\n",
       "      <td>65.0</td>\n",
       "      <td>34</td>\n",
       "      <td>8</td>\n",
       "    </tr>\n",
       "  </tbody>\n",
       "</table>\n",
       "</div>"
      ],
      "text/plain": [
       "    id_city  id_tariff  order_time  assign_time\n",
       "0       111        1.0         647          636\n",
       "1       111       10.0         476          332\n",
       "2       111       11.0         209          147\n",
       "3       111       65.0         205           94\n",
       "4       111       78.0         127          114\n",
       "5       112        1.0         201          194\n",
       "6       112       10.0         109           94\n",
       "7       112       11.0          60           55\n",
       "8       112       65.0         158          121\n",
       "9       112       78.0         100           78\n",
       "10      113        1.0         230          224\n",
       "11      113       10.0         122          100\n",
       "12      113       11.0          61           50\n",
       "13      113       65.0          24           10\n",
       "14      114        1.0         203          196\n",
       "15      114       10.0          97           84\n",
       "16      114       11.0          37           32\n",
       "17      114       65.0          38           18\n",
       "18      114       78.0           1            1\n",
       "19      115        1.0         216          208\n",
       "20      115       10.0          98           87\n",
       "21      115       11.0          49           43\n",
       "22      115       65.0          27            8\n",
       "23      115       78.0           2            2\n",
       "24      116        1.0         219          208\n",
       "25      116       10.0         104           86\n",
       "26      116       11.0          62           53\n",
       "27      116       65.0          38           17\n",
       "28      117        1.0         192           53\n",
       "29      117       10.0          18            5\n",
       "30      117       11.0          44           19\n",
       "31      117       65.0          24            8\n",
       "32      117       78.0           1            1\n",
       "33      118        1.0         167          101\n",
       "34      118       10.0         107           92\n",
       "35      118       11.0          42           35\n",
       "36      118       65.0          34           13\n",
       "37      118       78.0           1            1\n",
       "38      119        1.0         211          204\n",
       "39      119       10.0         130          108\n",
       "40      119       11.0          71           64\n",
       "41      119       65.0          34            8"
      ]
     },
     "execution_count": 119,
     "metadata": {},
     "output_type": "execute_result"
    }
   ],
   "source": [
    "групп_по_тарифам"
   ]
  },
  {
   "cell_type": "code",
   "execution_count": 229,
   "id": "7d18c46c",
   "metadata": {
    "scrolled": true
   },
   "outputs": [],
   "source": [
    "#df_g = df.groupby(by=['id_tariff','id_city']).sum().reset_index()"
   ]
  },
  {
   "cell_type": "code",
   "execution_count": 128,
   "id": "a5433f3d",
   "metadata": {},
   "outputs": [
    {
     "data": {
      "text/plain": [
       "user_id                   int64\n",
       "id_group                  int64\n",
       "ad_date          datetime64[ns]\n",
       "purchase_date    datetime64[ns]\n",
       "promo_type               object\n",
       "time_left        datetime64[ns]\n",
       "dtype: object"
      ]
     },
     "execution_count": 128,
     "metadata": {},
     "output_type": "execute_result"
    }
   ],
   "source": [
    "dfm.dtypes"
   ]
  },
  {
   "cell_type": "code",
   "execution_count": 126,
   "id": "64303a34",
   "metadata": {},
   "outputs": [],
   "source": [
    "dfm['ad_date'] = pd.to_datetime(dfm['ad_date'])\n",
    "dfm['purchase_date'] = pd.to_datetime(dfm['purchase_date'])\n",
    "dfm['time_left'] = pd.to_datetime(dfm['time_left'])\n"
   ]
  },
  {
   "cell_type": "code",
   "execution_count": 127,
   "id": "3faee799",
   "metadata": {},
   "outputs": [
    {
     "data": {
      "text/html": [
       "<div>\n",
       "<style scoped>\n",
       "    .dataframe tbody tr th:only-of-type {\n",
       "        vertical-align: middle;\n",
       "    }\n",
       "\n",
       "    .dataframe tbody tr th {\n",
       "        vertical-align: top;\n",
       "    }\n",
       "\n",
       "    .dataframe thead th {\n",
       "        text-align: right;\n",
       "    }\n",
       "</style>\n",
       "<table border=\"1\" class=\"dataframe\">\n",
       "  <thead>\n",
       "    <tr style=\"text-align: right;\">\n",
       "      <th></th>\n",
       "      <th>user_id</th>\n",
       "      <th>id_group</th>\n",
       "      <th>ad_date</th>\n",
       "      <th>purchase_date</th>\n",
       "      <th>promo_type</th>\n",
       "      <th>time_left</th>\n",
       "    </tr>\n",
       "  </thead>\n",
       "  <tbody>\n",
       "    <tr>\n",
       "      <th>0</th>\n",
       "      <td>5061</td>\n",
       "      <td>1</td>\n",
       "      <td>2021-02-06</td>\n",
       "      <td>NaT</td>\n",
       "      <td>Gold Bundle</td>\n",
       "      <td>2020-08-23</td>\n",
       "    </tr>\n",
       "    <tr>\n",
       "      <th>1</th>\n",
       "      <td>4616</td>\n",
       "      <td>1</td>\n",
       "      <td>2021-03-07</td>\n",
       "      <td>2021-03-20</td>\n",
       "      <td>Platinum Bundle</td>\n",
       "      <td>2020-12-26</td>\n",
       "    </tr>\n",
       "    <tr>\n",
       "      <th>2</th>\n",
       "      <td>842</td>\n",
       "      <td>1</td>\n",
       "      <td>2021-04-13</td>\n",
       "      <td>2021-05-28</td>\n",
       "      <td>Platinum Bundle</td>\n",
       "      <td>2021-01-02</td>\n",
       "    </tr>\n",
       "    <tr>\n",
       "      <th>3</th>\n",
       "      <td>3571</td>\n",
       "      <td>1</td>\n",
       "      <td>2021-04-01</td>\n",
       "      <td>2021-05-10</td>\n",
       "      <td>Bundle Limited</td>\n",
       "      <td>2020-10-21</td>\n",
       "    </tr>\n",
       "    <tr>\n",
       "      <th>4</th>\n",
       "      <td>4642</td>\n",
       "      <td>1</td>\n",
       "      <td>2021-08-18</td>\n",
       "      <td>NaT</td>\n",
       "      <td>Platinum Bundle</td>\n",
       "      <td>2021-06-08</td>\n",
       "    </tr>\n",
       "  </tbody>\n",
       "</table>\n",
       "</div>"
      ],
      "text/plain": [
       "   user_id  id_group    ad_date purchase_date       promo_type  time_left\n",
       "0     5061         1 2021-02-06           NaT      Gold Bundle 2020-08-23\n",
       "1     4616         1 2021-03-07    2021-03-20  Platinum Bundle 2020-12-26\n",
       "2      842         1 2021-04-13    2021-05-28  Platinum Bundle 2021-01-02\n",
       "3     3571         1 2021-04-01    2021-05-10   Bundle Limited 2020-10-21\n",
       "4     4642         1 2021-08-18           NaT  Platinum Bundle 2021-06-08"
      ]
     },
     "execution_count": 127,
     "metadata": {},
     "output_type": "execute_result"
    }
   ],
   "source": [
    "dfm.head(5)"
   ]
  },
  {
   "cell_type": "code",
   "execution_count": 159,
   "id": "ba07c32f",
   "metadata": {},
   "outputs": [],
   "source": [
    "dfm['flag_30'] = (dfm['ad_date'] + pd.Timedelta(days=30) > dfm['purchase_date']).astype(int)\n",
    "dfm['flag_60'] = (dfm['ad_date'] + pd.Timedelta(days=60) > dfm['purchase_date']).astype(int)\n",
    "dfm['flag_90'] = (dfm['ad_date'] + pd.Timedelta(days=90) > dfm['purchase_date']).astype(int)"
   ]
  },
  {
   "cell_type": "code",
   "execution_count": 143,
   "id": "17f419b7",
   "metadata": {},
   "outputs": [
    {
     "data": {
      "text/html": [
       "<div>\n",
       "<style scoped>\n",
       "    .dataframe tbody tr th:only-of-type {\n",
       "        vertical-align: middle;\n",
       "    }\n",
       "\n",
       "    .dataframe tbody tr th {\n",
       "        vertical-align: top;\n",
       "    }\n",
       "\n",
       "    .dataframe thead th {\n",
       "        text-align: right;\n",
       "    }\n",
       "</style>\n",
       "<table border=\"1\" class=\"dataframe\">\n",
       "  <thead>\n",
       "    <tr style=\"text-align: right;\">\n",
       "      <th></th>\n",
       "      <th>promo_type</th>\n",
       "      <th>id_group</th>\n",
       "      <th>flag_30</th>\n",
       "      <th>flag_60</th>\n",
       "      <th>flag_90</th>\n",
       "    </tr>\n",
       "  </thead>\n",
       "  <tbody>\n",
       "    <tr>\n",
       "      <th>0</th>\n",
       "      <td>Bundle Limited</td>\n",
       "      <td>0</td>\n",
       "      <td>326</td>\n",
       "      <td>715</td>\n",
       "      <td>811</td>\n",
       "    </tr>\n",
       "    <tr>\n",
       "      <th>1</th>\n",
       "      <td>Bundle Limited</td>\n",
       "      <td>1</td>\n",
       "      <td>324</td>\n",
       "      <td>690</td>\n",
       "      <td>776</td>\n",
       "    </tr>\n",
       "    <tr>\n",
       "      <th>2</th>\n",
       "      <td>Gold Bundle</td>\n",
       "      <td>0</td>\n",
       "      <td>521</td>\n",
       "      <td>1311</td>\n",
       "      <td>1457</td>\n",
       "    </tr>\n",
       "    <tr>\n",
       "      <th>3</th>\n",
       "      <td>Gold Bundle</td>\n",
       "      <td>1</td>\n",
       "      <td>615</td>\n",
       "      <td>1472</td>\n",
       "      <td>1702</td>\n",
       "    </tr>\n",
       "    <tr>\n",
       "      <th>4</th>\n",
       "      <td>Platinum Bundle</td>\n",
       "      <td>0</td>\n",
       "      <td>638</td>\n",
       "      <td>1258</td>\n",
       "      <td>1379</td>\n",
       "    </tr>\n",
       "    <tr>\n",
       "      <th>5</th>\n",
       "      <td>Platinum Bundle</td>\n",
       "      <td>1</td>\n",
       "      <td>593</td>\n",
       "      <td>1312</td>\n",
       "      <td>1450</td>\n",
       "    </tr>\n",
       "    <tr>\n",
       "      <th>6</th>\n",
       "      <td>Std Bundle</td>\n",
       "      <td>0</td>\n",
       "      <td>420</td>\n",
       "      <td>894</td>\n",
       "      <td>993</td>\n",
       "    </tr>\n",
       "    <tr>\n",
       "      <th>7</th>\n",
       "      <td>Std Bundle</td>\n",
       "      <td>1</td>\n",
       "      <td>394</td>\n",
       "      <td>814</td>\n",
       "      <td>915</td>\n",
       "    </tr>\n",
       "  </tbody>\n",
       "</table>\n",
       "</div>"
      ],
      "text/plain": [
       "        promo_type  id_group  flag_30  flag_60  flag_90\n",
       "0   Bundle Limited         0      326      715      811\n",
       "1   Bundle Limited         1      324      690      776\n",
       "2      Gold Bundle         0      521     1311     1457\n",
       "3      Gold Bundle         1      615     1472     1702\n",
       "4  Platinum Bundle         0      638     1258     1379\n",
       "5  Platinum Bundle         1      593     1312     1450\n",
       "6       Std Bundle         0      420      894      993\n",
       "7       Std Bundle         1      394      814      915"
      ]
     },
     "execution_count": 143,
     "metadata": {},
     "output_type": "execute_result"
    }
   ],
   "source": [
    "dfm.groupby(['promo_type','id_group']).sum()[['flag_30','flag_60','flag_90']].reset_index()"
   ]
  },
  {
   "cell_type": "code",
   "execution_count": 182,
   "id": "561a1eed",
   "metadata": {},
   "outputs": [
    {
     "data": {
      "text/html": [
       "<div>\n",
       "<style scoped>\n",
       "    .dataframe tbody tr th:only-of-type {\n",
       "        vertical-align: middle;\n",
       "    }\n",
       "\n",
       "    .dataframe tbody tr th {\n",
       "        vertical-align: top;\n",
       "    }\n",
       "\n",
       "    .dataframe thead th {\n",
       "        text-align: right;\n",
       "    }\n",
       "</style>\n",
       "<table border=\"1\" class=\"dataframe\">\n",
       "  <thead>\n",
       "    <tr style=\"text-align: right;\">\n",
       "      <th></th>\n",
       "      <th>user_id</th>\n",
       "      <th>id_group</th>\n",
       "      <th>ad_date</th>\n",
       "      <th>purchase_date</th>\n",
       "      <th>promo_type</th>\n",
       "      <th>time_left</th>\n",
       "      <th>flag_30</th>\n",
       "      <th>flag_60</th>\n",
       "      <th>flag_90</th>\n",
       "    </tr>\n",
       "  </thead>\n",
       "  <tbody>\n",
       "    <tr>\n",
       "      <th>0</th>\n",
       "      <td>5061</td>\n",
       "      <td>1</td>\n",
       "      <td>2021-02-06</td>\n",
       "      <td>NaT</td>\n",
       "      <td>Gold Bundle</td>\n",
       "      <td>2020-08-23</td>\n",
       "      <td>0</td>\n",
       "      <td>0</td>\n",
       "      <td>0</td>\n",
       "    </tr>\n",
       "    <tr>\n",
       "      <th>1</th>\n",
       "      <td>4616</td>\n",
       "      <td>1</td>\n",
       "      <td>2021-03-07</td>\n",
       "      <td>2021-03-20</td>\n",
       "      <td>Platinum Bundle</td>\n",
       "      <td>2020-12-26</td>\n",
       "      <td>1</td>\n",
       "      <td>1</td>\n",
       "      <td>1</td>\n",
       "    </tr>\n",
       "    <tr>\n",
       "      <th>2</th>\n",
       "      <td>842</td>\n",
       "      <td>1</td>\n",
       "      <td>2021-04-13</td>\n",
       "      <td>2021-05-28</td>\n",
       "      <td>Platinum Bundle</td>\n",
       "      <td>2021-01-02</td>\n",
       "      <td>0</td>\n",
       "      <td>1</td>\n",
       "      <td>1</td>\n",
       "    </tr>\n",
       "    <tr>\n",
       "      <th>3</th>\n",
       "      <td>3571</td>\n",
       "      <td>1</td>\n",
       "      <td>2021-04-01</td>\n",
       "      <td>2021-05-10</td>\n",
       "      <td>Bundle Limited</td>\n",
       "      <td>2020-10-21</td>\n",
       "      <td>0</td>\n",
       "      <td>1</td>\n",
       "      <td>1</td>\n",
       "    </tr>\n",
       "    <tr>\n",
       "      <th>4</th>\n",
       "      <td>4642</td>\n",
       "      <td>1</td>\n",
       "      <td>2021-08-18</td>\n",
       "      <td>NaT</td>\n",
       "      <td>Platinum Bundle</td>\n",
       "      <td>2021-06-08</td>\n",
       "      <td>0</td>\n",
       "      <td>0</td>\n",
       "      <td>0</td>\n",
       "    </tr>\n",
       "    <tr>\n",
       "      <th>...</th>\n",
       "      <td>...</td>\n",
       "      <td>...</td>\n",
       "      <td>...</td>\n",
       "      <td>...</td>\n",
       "      <td>...</td>\n",
       "      <td>...</td>\n",
       "      <td>...</td>\n",
       "      <td>...</td>\n",
       "      <td>...</td>\n",
       "    </tr>\n",
       "    <tr>\n",
       "      <th>15166</th>\n",
       "      <td>11750</td>\n",
       "      <td>0</td>\n",
       "      <td>2021-03-15</td>\n",
       "      <td>2021-04-12</td>\n",
       "      <td>Platinum Bundle</td>\n",
       "      <td>2020-10-11</td>\n",
       "      <td>1</td>\n",
       "      <td>1</td>\n",
       "      <td>1</td>\n",
       "    </tr>\n",
       "    <tr>\n",
       "      <th>15167</th>\n",
       "      <td>106</td>\n",
       "      <td>1</td>\n",
       "      <td>2021-01-11</td>\n",
       "      <td>2021-02-25</td>\n",
       "      <td>Gold Bundle</td>\n",
       "      <td>2020-09-30</td>\n",
       "      <td>0</td>\n",
       "      <td>1</td>\n",
       "      <td>1</td>\n",
       "    </tr>\n",
       "    <tr>\n",
       "      <th>15168</th>\n",
       "      <td>3706</td>\n",
       "      <td>1</td>\n",
       "      <td>2021-05-11</td>\n",
       "      <td>2021-07-08</td>\n",
       "      <td>Gold Bundle</td>\n",
       "      <td>2021-03-16</td>\n",
       "      <td>0</td>\n",
       "      <td>1</td>\n",
       "      <td>1</td>\n",
       "    </tr>\n",
       "    <tr>\n",
       "      <th>15169</th>\n",
       "      <td>11753</td>\n",
       "      <td>1</td>\n",
       "      <td>2021-02-28</td>\n",
       "      <td>NaT</td>\n",
       "      <td>Std Bundle</td>\n",
       "      <td>2020-12-23</td>\n",
       "      <td>0</td>\n",
       "      <td>0</td>\n",
       "      <td>0</td>\n",
       "    </tr>\n",
       "    <tr>\n",
       "      <th>15170</th>\n",
       "      <td>11754</td>\n",
       "      <td>0</td>\n",
       "      <td>2021-06-08</td>\n",
       "      <td>2021-07-28</td>\n",
       "      <td>Gold Bundle</td>\n",
       "      <td>2021-02-23</td>\n",
       "      <td>0</td>\n",
       "      <td>1</td>\n",
       "      <td>1</td>\n",
       "    </tr>\n",
       "  </tbody>\n",
       "</table>\n",
       "<p>15171 rows × 9 columns</p>\n",
       "</div>"
      ],
      "text/plain": [
       "       user_id  id_group    ad_date purchase_date       promo_type  time_left  \\\n",
       "0         5061         1 2021-02-06           NaT      Gold Bundle 2020-08-23   \n",
       "1         4616         1 2021-03-07    2021-03-20  Platinum Bundle 2020-12-26   \n",
       "2          842         1 2021-04-13    2021-05-28  Platinum Bundle 2021-01-02   \n",
       "3         3571         1 2021-04-01    2021-05-10   Bundle Limited 2020-10-21   \n",
       "4         4642         1 2021-08-18           NaT  Platinum Bundle 2021-06-08   \n",
       "...        ...       ...        ...           ...              ...        ...   \n",
       "15166    11750         0 2021-03-15    2021-04-12  Platinum Bundle 2020-10-11   \n",
       "15167      106         1 2021-01-11    2021-02-25      Gold Bundle 2020-09-30   \n",
       "15168     3706         1 2021-05-11    2021-07-08      Gold Bundle 2021-03-16   \n",
       "15169    11753         1 2021-02-28           NaT       Std Bundle 2020-12-23   \n",
       "15170    11754         0 2021-06-08    2021-07-28      Gold Bundle 2021-02-23   \n",
       "\n",
       "       flag_30  flag_60  flag_90  \n",
       "0            0        0        0  \n",
       "1            1        1        1  \n",
       "2            0        1        1  \n",
       "3            0        1        1  \n",
       "4            0        0        0  \n",
       "...        ...      ...      ...  \n",
       "15166        1        1        1  \n",
       "15167        0        1        1  \n",
       "15168        0        1        1  \n",
       "15169        0        0        0  \n",
       "15170        0        1        1  \n",
       "\n",
       "[15171 rows x 9 columns]"
      ]
     },
     "execution_count": 182,
     "metadata": {},
     "output_type": "execute_result"
    }
   ],
   "source": [
    "dfm"
   ]
  },
  {
   "cell_type": "code",
   "execution_count": 188,
   "id": "edfc86ca",
   "metadata": {},
   "outputs": [],
   "source": []
  },
  {
   "cell_type": "code",
   "execution_count": 186,
   "id": "7548c4c3",
   "metadata": {},
   "outputs": [],
   "source": []
  },
  {
   "cell_type": "code",
   "execution_count": 196,
   "id": "7ba06e74",
   "metadata": {},
   "outputs": [],
   "source": [
    "df = df.rename(columns = {'id_city':'city'})"
   ]
  },
  {
   "cell_type": "code",
   "execution_count": null,
   "id": "f14d0e25",
   "metadata": {},
   "outputs": [],
   "source": []
  },
  {
   "cell_type": "code",
   "execution_count": 432,
   "id": "b8f4c272",
   "metadata": {},
   "outputs": [],
   "source": [
    "#columns = ['a1','a2','a3','a4','a5']\n",
    "dfb = pd.read_csv('C:/Users/D.Elistratov/Documents/Презентации лекций/Неделя 6/ПИТОН/SKYBANK.csv'\n",
    "                 \n",
    "                 #, header = None\n",
    "                 #, names = columns\n",
    "                )"
   ]
  },
  {
   "cell_type": "code",
   "execution_count": 322,
   "id": "4901362c",
   "metadata": {},
   "outputs": [
    {
     "data": {
      "text/html": [
       "<div>\n",
       "<style scoped>\n",
       "    .dataframe tbody tr th:only-of-type {\n",
       "        vertical-align: middle;\n",
       "    }\n",
       "\n",
       "    .dataframe tbody tr th {\n",
       "        vertical-align: top;\n",
       "    }\n",
       "\n",
       "    .dataframe thead th {\n",
       "        text-align: right;\n",
       "    }\n",
       "</style>\n",
       "<table border=\"1\" class=\"dataframe\">\n",
       "  <thead>\n",
       "    <tr style=\"text-align: right;\">\n",
       "      <th></th>\n",
       "      <th>a1</th>\n",
       "      <th>a2</th>\n",
       "      <th>a3</th>\n",
       "      <th>a4</th>\n",
       "      <th>a5</th>\n",
       "    </tr>\n",
       "  </thead>\n",
       "  <tbody>\n",
       "    <tr>\n",
       "      <th>user_id</th>\n",
       "      <td>id_group</td>\n",
       "      <td>ad_date</td>\n",
       "      <td>purchase_date</td>\n",
       "      <td>promo_type</td>\n",
       "      <td>time_left</td>\n",
       "    </tr>\n",
       "    <tr>\n",
       "      <th>5061</th>\n",
       "      <td>1</td>\n",
       "      <td>2021-02-06</td>\n",
       "      <td>NaN</td>\n",
       "      <td>Gold Bundle</td>\n",
       "      <td>2020-08-23</td>\n",
       "    </tr>\n",
       "    <tr>\n",
       "      <th>4616</th>\n",
       "      <td>1</td>\n",
       "      <td>2021-03-07</td>\n",
       "      <td>2021-03-20</td>\n",
       "      <td>Platinum Bundle</td>\n",
       "      <td>2020-12-26</td>\n",
       "    </tr>\n",
       "    <tr>\n",
       "      <th>842</th>\n",
       "      <td>1</td>\n",
       "      <td>2021-04-13</td>\n",
       "      <td>2021-05-28</td>\n",
       "      <td>Platinum Bundle</td>\n",
       "      <td>2021-01-02</td>\n",
       "    </tr>\n",
       "    <tr>\n",
       "      <th>3571</th>\n",
       "      <td>1</td>\n",
       "      <td>2021-04-01</td>\n",
       "      <td>2021-05-10</td>\n",
       "      <td>Bundle Limited</td>\n",
       "      <td>2020-10-21</td>\n",
       "    </tr>\n",
       "    <tr>\n",
       "      <th>...</th>\n",
       "      <td>...</td>\n",
       "      <td>...</td>\n",
       "      <td>...</td>\n",
       "      <td>...</td>\n",
       "      <td>...</td>\n",
       "    </tr>\n",
       "    <tr>\n",
       "      <th>11750</th>\n",
       "      <td>0</td>\n",
       "      <td>2021-03-15</td>\n",
       "      <td>2021-04-12</td>\n",
       "      <td>Platinum Bundle</td>\n",
       "      <td>2020-10-11</td>\n",
       "    </tr>\n",
       "    <tr>\n",
       "      <th>106</th>\n",
       "      <td>1</td>\n",
       "      <td>2021-01-11</td>\n",
       "      <td>2021-02-25</td>\n",
       "      <td>Gold Bundle</td>\n",
       "      <td>2020-09-30</td>\n",
       "    </tr>\n",
       "    <tr>\n",
       "      <th>3706</th>\n",
       "      <td>1</td>\n",
       "      <td>2021-05-11</td>\n",
       "      <td>2021-07-08</td>\n",
       "      <td>Gold Bundle</td>\n",
       "      <td>2021-03-16</td>\n",
       "    </tr>\n",
       "    <tr>\n",
       "      <th>11753</th>\n",
       "      <td>1</td>\n",
       "      <td>2021-02-28</td>\n",
       "      <td>NaN</td>\n",
       "      <td>Std Bundle</td>\n",
       "      <td>2020-12-23</td>\n",
       "    </tr>\n",
       "    <tr>\n",
       "      <th>11754</th>\n",
       "      <td>0</td>\n",
       "      <td>2021-06-08</td>\n",
       "      <td>2021-07-28</td>\n",
       "      <td>Gold Bundle</td>\n",
       "      <td>2021-02-23</td>\n",
       "    </tr>\n",
       "  </tbody>\n",
       "</table>\n",
       "<p>15172 rows × 5 columns</p>\n",
       "</div>"
      ],
      "text/plain": [
       "               a1          a2             a3               a4          a5\n",
       "user_id  id_group     ad_date  purchase_date       promo_type   time_left\n",
       "5061            1  2021-02-06            NaN      Gold Bundle  2020-08-23\n",
       "4616            1  2021-03-07     2021-03-20  Platinum Bundle  2020-12-26\n",
       "842             1  2021-04-13     2021-05-28  Platinum Bundle  2021-01-02\n",
       "3571            1  2021-04-01     2021-05-10   Bundle Limited  2020-10-21\n",
       "...           ...         ...            ...              ...         ...\n",
       "11750           0  2021-03-15     2021-04-12  Platinum Bundle  2020-10-11\n",
       "106             1  2021-01-11     2021-02-25      Gold Bundle  2020-09-30\n",
       "3706            1  2021-05-11     2021-07-08      Gold Bundle  2021-03-16\n",
       "11753           1  2021-02-28            NaN       Std Bundle  2020-12-23\n",
       "11754           0  2021-06-08     2021-07-28      Gold Bundle  2021-02-23\n",
       "\n",
       "[15172 rows x 5 columns]"
      ]
     },
     "execution_count": 322,
     "metadata": {},
     "output_type": "execute_result"
    }
   ],
   "source": [
    "df"
   ]
  },
  {
   "cell_type": "code",
   "execution_count": 433,
   "id": "064321b2",
   "metadata": {},
   "outputs": [],
   "source": [
    "df_gr_cnt_city = dfb.groupby(['id_city']).count()['id_client'].reset_index()"
   ]
  },
  {
   "cell_type": "code",
   "execution_count": 239,
   "id": "21b917e5",
   "metadata": {},
   "outputs": [],
   "source": [
    "df_gr_cnt_city['id_city'] = df_gr_cnt_city['id_city'].astype(int)"
   ]
  },
  {
   "cell_type": "code",
   "execution_count": null,
   "id": "ea21d62d",
   "metadata": {},
   "outputs": [],
   "source": []
  },
  {
   "cell_type": "code",
   "execution_count": 279,
   "id": "130beba8",
   "metadata": {},
   "outputs": [],
   "source": []
  },
  {
   "cell_type": "code",
   "execution_count": 278,
   "id": "2891612b",
   "metadata": {},
   "outputs": [
    {
     "data": {
      "text/plain": [
       "pandas.core.frame.DataFrame"
      ]
     },
     "execution_count": 278,
     "metadata": {},
     "output_type": "execute_result"
    }
   ],
   "source": [
    "type(df[(df['amt_loan'] > 100000) & (df['is_active'] == 1)].groupby(['credit_type','cl_segm']).sum()[['amt_loan','age']].reset_index())"
   ]
  },
  {
   "cell_type": "code",
   "execution_count": 280,
   "id": "5e488dbd",
   "metadata": {
    "scrolled": true
   },
   "outputs": [
    {
     "data": {
      "text/html": [
       "<div>\n",
       "<style scoped>\n",
       "    .dataframe tbody tr th:only-of-type {\n",
       "        vertical-align: middle;\n",
       "    }\n",
       "\n",
       "    .dataframe tbody tr th {\n",
       "        vertical-align: top;\n",
       "    }\n",
       "\n",
       "    .dataframe thead th {\n",
       "        text-align: right;\n",
       "    }\n",
       "</style>\n",
       "<table border=\"1\" class=\"dataframe\">\n",
       "  <thead>\n",
       "    <tr style=\"text-align: right;\">\n",
       "      <th></th>\n",
       "      <th></th>\n",
       "      <th>id_client</th>\n",
       "      <th>id_global</th>\n",
       "      <th>id_city</th>\n",
       "      <th>first_time</th>\n",
       "      <th>age</th>\n",
       "      <th>is_educ</th>\n",
       "      <th>cellphone</th>\n",
       "      <th>is_active</th>\n",
       "      <th>amt_loan</th>\n",
       "    </tr>\n",
       "    <tr>\n",
       "      <th>credit_type</th>\n",
       "      <th>cl_segm</th>\n",
       "      <th></th>\n",
       "      <th></th>\n",
       "      <th></th>\n",
       "      <th></th>\n",
       "      <th></th>\n",
       "      <th></th>\n",
       "      <th></th>\n",
       "      <th></th>\n",
       "      <th></th>\n",
       "    </tr>\n",
       "  </thead>\n",
       "  <tbody>\n",
       "    <tr>\n",
       "      <th rowspan=\"4\" valign=\"top\">CC</th>\n",
       "      <th>1.0</th>\n",
       "      <td>4363</td>\n",
       "      <td>5174.0</td>\n",
       "      <td>28.0</td>\n",
       "      <td>2.0</td>\n",
       "      <td>178.0</td>\n",
       "      <td>2.0</td>\n",
       "      <td>0.000000e+00</td>\n",
       "      <td>4.0</td>\n",
       "      <td>2580000</td>\n",
       "    </tr>\n",
       "    <tr>\n",
       "      <th>2.0</th>\n",
       "      <td>293376</td>\n",
       "      <td>537609.0</td>\n",
       "      <td>1252.0</td>\n",
       "      <td>152.0</td>\n",
       "      <td>8810.0</td>\n",
       "      <td>116.0</td>\n",
       "      <td>1.474085e+13</td>\n",
       "      <td>197.0</td>\n",
       "      <td>102295000</td>\n",
       "    </tr>\n",
       "    <tr>\n",
       "      <th>3.0</th>\n",
       "      <td>16919</td>\n",
       "      <td>14774.0</td>\n",
       "      <td>54.0</td>\n",
       "      <td>9.0</td>\n",
       "      <td>488.0</td>\n",
       "      <td>8.0</td>\n",
       "      <td>0.000000e+00</td>\n",
       "      <td>11.0</td>\n",
       "      <td>9385000</td>\n",
       "    </tr>\n",
       "    <tr>\n",
       "      <th>4.0</th>\n",
       "      <td>2960</td>\n",
       "      <td>2672.0</td>\n",
       "      <td>27.0</td>\n",
       "      <td>1.0</td>\n",
       "      <td>96.0</td>\n",
       "      <td>1.0</td>\n",
       "      <td>0.000000e+00</td>\n",
       "      <td>2.0</td>\n",
       "      <td>400000</td>\n",
       "    </tr>\n",
       "    <tr>\n",
       "      <th rowspan=\"4\" valign=\"top\">POS-1</th>\n",
       "      <th>1.0</th>\n",
       "      <td>22210</td>\n",
       "      <td>22323.0</td>\n",
       "      <td>139.0</td>\n",
       "      <td>15.0</td>\n",
       "      <td>704.0</td>\n",
       "      <td>11.0</td>\n",
       "      <td>0.000000e+00</td>\n",
       "      <td>17.0</td>\n",
       "      <td>11700000</td>\n",
       "    </tr>\n",
       "    <tr>\n",
       "      <th>2.0</th>\n",
       "      <td>1096525</td>\n",
       "      <td>1961371.0</td>\n",
       "      <td>4684.0</td>\n",
       "      <td>588.0</td>\n",
       "      <td>33563.0</td>\n",
       "      <td>431.0</td>\n",
       "      <td>5.227616e+13</td>\n",
       "      <td>753.0</td>\n",
       "      <td>426480000</td>\n",
       "    </tr>\n",
       "    <tr>\n",
       "      <th>3.0</th>\n",
       "      <td>77109</td>\n",
       "      <td>60704.0</td>\n",
       "      <td>303.0</td>\n",
       "      <td>38.0</td>\n",
       "      <td>2035.0</td>\n",
       "      <td>33.0</td>\n",
       "      <td>0.000000e+00</td>\n",
       "      <td>46.0</td>\n",
       "      <td>22605000</td>\n",
       "    </tr>\n",
       "    <tr>\n",
       "      <th>4.0</th>\n",
       "      <td>11758</td>\n",
       "      <td>9236.0</td>\n",
       "      <td>49.0</td>\n",
       "      <td>7.0</td>\n",
       "      <td>279.0</td>\n",
       "      <td>4.0</td>\n",
       "      <td>0.000000e+00</td>\n",
       "      <td>7.0</td>\n",
       "      <td>2175000</td>\n",
       "    </tr>\n",
       "    <tr>\n",
       "      <th rowspan=\"4\" valign=\"top\">POS-2</th>\n",
       "      <th>1.0</th>\n",
       "      <td>5020</td>\n",
       "      <td>2709.0</td>\n",
       "      <td>17.0</td>\n",
       "      <td>0.0</td>\n",
       "      <td>104.0</td>\n",
       "      <td>2.0</td>\n",
       "      <td>0.000000e+00</td>\n",
       "      <td>2.0</td>\n",
       "      <td>625000</td>\n",
       "    </tr>\n",
       "    <tr>\n",
       "      <th>2.0</th>\n",
       "      <td>103441</td>\n",
       "      <td>174227.0</td>\n",
       "      <td>369.0</td>\n",
       "      <td>55.0</td>\n",
       "      <td>3129.0</td>\n",
       "      <td>43.0</td>\n",
       "      <td>4.912434e+12</td>\n",
       "      <td>67.0</td>\n",
       "      <td>34345000</td>\n",
       "    </tr>\n",
       "    <tr>\n",
       "      <th>3.0</th>\n",
       "      <td>4568</td>\n",
       "      <td>5215.0</td>\n",
       "      <td>32.0</td>\n",
       "      <td>3.0</td>\n",
       "      <td>182.0</td>\n",
       "      <td>3.0</td>\n",
       "      <td>0.000000e+00</td>\n",
       "      <td>4.0</td>\n",
       "      <td>3100000</td>\n",
       "    </tr>\n",
       "    <tr>\n",
       "      <th>4.0</th>\n",
       "      <td>173</td>\n",
       "      <td>1134.0</td>\n",
       "      <td>5.0</td>\n",
       "      <td>1.0</td>\n",
       "      <td>83.0</td>\n",
       "      <td>1.0</td>\n",
       "      <td>0.000000e+00</td>\n",
       "      <td>1.0</td>\n",
       "      <td>375000</td>\n",
       "    </tr>\n",
       "    <tr>\n",
       "      <th rowspan=\"4\" valign=\"top\">RC</th>\n",
       "      <th>1.0</th>\n",
       "      <td>11212</td>\n",
       "      <td>13296.0</td>\n",
       "      <td>79.0</td>\n",
       "      <td>10.0</td>\n",
       "      <td>488.0</td>\n",
       "      <td>10.0</td>\n",
       "      <td>0.000000e+00</td>\n",
       "      <td>11.0</td>\n",
       "      <td>7980000</td>\n",
       "    </tr>\n",
       "    <tr>\n",
       "      <th>2.0</th>\n",
       "      <td>474384</td>\n",
       "      <td>788075.0</td>\n",
       "      <td>1688.0</td>\n",
       "      <td>225.0</td>\n",
       "      <td>13334.0</td>\n",
       "      <td>180.0</td>\n",
       "      <td>2.046525e+13</td>\n",
       "      <td>290.0</td>\n",
       "      <td>166425000</td>\n",
       "    </tr>\n",
       "    <tr>\n",
       "      <th>3.0</th>\n",
       "      <td>39517</td>\n",
       "      <td>40383.0</td>\n",
       "      <td>175.0</td>\n",
       "      <td>23.0</td>\n",
       "      <td>1481.0</td>\n",
       "      <td>22.0</td>\n",
       "      <td>0.000000e+00</td>\n",
       "      <td>30.0</td>\n",
       "      <td>19400000</td>\n",
       "    </tr>\n",
       "    <tr>\n",
       "      <th>4.0</th>\n",
       "      <td>9702</td>\n",
       "      <td>4862.0</td>\n",
       "      <td>17.0</td>\n",
       "      <td>3.0</td>\n",
       "      <td>117.0</td>\n",
       "      <td>1.0</td>\n",
       "      <td>0.000000e+00</td>\n",
       "      <td>4.0</td>\n",
       "      <td>1410000</td>\n",
       "    </tr>\n",
       "    <tr>\n",
       "      <th rowspan=\"4\" valign=\"top\">TOP-UP</th>\n",
       "      <th>1.0</th>\n",
       "      <td>9708</td>\n",
       "      <td>10745.0</td>\n",
       "      <td>48.0</td>\n",
       "      <td>7.0</td>\n",
       "      <td>399.0</td>\n",
       "      <td>3.0</td>\n",
       "      <td>0.000000e+00</td>\n",
       "      <td>8.0</td>\n",
       "      <td>4620000</td>\n",
       "    </tr>\n",
       "    <tr>\n",
       "      <th>2.0</th>\n",
       "      <td>444947</td>\n",
       "      <td>761027.0</td>\n",
       "      <td>1430.0</td>\n",
       "      <td>231.0</td>\n",
       "      <td>12758.0</td>\n",
       "      <td>151.0</td>\n",
       "      <td>2.054090e+13</td>\n",
       "      <td>283.0</td>\n",
       "      <td>164470000</td>\n",
       "    </tr>\n",
       "    <tr>\n",
       "      <th>3.0</th>\n",
       "      <td>27432</td>\n",
       "      <td>20710.0</td>\n",
       "      <td>77.0</td>\n",
       "      <td>14.0</td>\n",
       "      <td>774.0</td>\n",
       "      <td>8.0</td>\n",
       "      <td>0.000000e+00</td>\n",
       "      <td>16.0</td>\n",
       "      <td>7770000</td>\n",
       "    </tr>\n",
       "    <tr>\n",
       "      <th>4.0</th>\n",
       "      <td>2034</td>\n",
       "      <td>4078.0</td>\n",
       "      <td>14.0</td>\n",
       "      <td>3.0</td>\n",
       "      <td>145.0</td>\n",
       "      <td>2.0</td>\n",
       "      <td>0.000000e+00</td>\n",
       "      <td>3.0</td>\n",
       "      <td>2260000</td>\n",
       "    </tr>\n",
       "    <tr>\n",
       "      <th rowspan=\"3\" valign=\"top\">test</th>\n",
       "      <th>1.0</th>\n",
       "      <td>4903</td>\n",
       "      <td>2652.0</td>\n",
       "      <td>18.0</td>\n",
       "      <td>1.0</td>\n",
       "      <td>85.0</td>\n",
       "      <td>0.0</td>\n",
       "      <td>0.000000e+00</td>\n",
       "      <td>2.0</td>\n",
       "      <td>2000000</td>\n",
       "    </tr>\n",
       "    <tr>\n",
       "      <th>2.0</th>\n",
       "      <td>21571</td>\n",
       "      <td>41357.0</td>\n",
       "      <td>75.0</td>\n",
       "      <td>13.0</td>\n",
       "      <td>668.0</td>\n",
       "      <td>9.0</td>\n",
       "      <td>1.341529e+12</td>\n",
       "      <td>15.0</td>\n",
       "      <td>5875000</td>\n",
       "    </tr>\n",
       "    <tr>\n",
       "      <th>3.0</th>\n",
       "      <td>900</td>\n",
       "      <td>2870.0</td>\n",
       "      <td>6.0</td>\n",
       "      <td>1.0</td>\n",
       "      <td>100.0</td>\n",
       "      <td>0.0</td>\n",
       "      <td>0.000000e+00</td>\n",
       "      <td>2.0</td>\n",
       "      <td>775000</td>\n",
       "    </tr>\n",
       "  </tbody>\n",
       "</table>\n",
       "</div>"
      ],
      "text/plain": [
       "                     id_client  id_global  id_city  first_time      age  \\\n",
       "credit_type cl_segm                                                       \n",
       "CC          1.0           4363     5174.0     28.0         2.0    178.0   \n",
       "            2.0         293376   537609.0   1252.0       152.0   8810.0   \n",
       "            3.0          16919    14774.0     54.0         9.0    488.0   \n",
       "            4.0           2960     2672.0     27.0         1.0     96.0   \n",
       "POS-1       1.0          22210    22323.0    139.0        15.0    704.0   \n",
       "            2.0        1096525  1961371.0   4684.0       588.0  33563.0   \n",
       "            3.0          77109    60704.0    303.0        38.0   2035.0   \n",
       "            4.0          11758     9236.0     49.0         7.0    279.0   \n",
       "POS-2       1.0           5020     2709.0     17.0         0.0    104.0   \n",
       "            2.0         103441   174227.0    369.0        55.0   3129.0   \n",
       "            3.0           4568     5215.0     32.0         3.0    182.0   \n",
       "            4.0            173     1134.0      5.0         1.0     83.0   \n",
       "RC          1.0          11212    13296.0     79.0        10.0    488.0   \n",
       "            2.0         474384   788075.0   1688.0       225.0  13334.0   \n",
       "            3.0          39517    40383.0    175.0        23.0   1481.0   \n",
       "            4.0           9702     4862.0     17.0         3.0    117.0   \n",
       "TOP-UP      1.0           9708    10745.0     48.0         7.0    399.0   \n",
       "            2.0         444947   761027.0   1430.0       231.0  12758.0   \n",
       "            3.0          27432    20710.0     77.0        14.0    774.0   \n",
       "            4.0           2034     4078.0     14.0         3.0    145.0   \n",
       "test        1.0           4903     2652.0     18.0         1.0     85.0   \n",
       "            2.0          21571    41357.0     75.0        13.0    668.0   \n",
       "            3.0            900     2870.0      6.0         1.0    100.0   \n",
       "\n",
       "                     is_educ     cellphone  is_active   amt_loan  \n",
       "credit_type cl_segm                                               \n",
       "CC          1.0          2.0  0.000000e+00        4.0    2580000  \n",
       "            2.0        116.0  1.474085e+13      197.0  102295000  \n",
       "            3.0          8.0  0.000000e+00       11.0    9385000  \n",
       "            4.0          1.0  0.000000e+00        2.0     400000  \n",
       "POS-1       1.0         11.0  0.000000e+00       17.0   11700000  \n",
       "            2.0        431.0  5.227616e+13      753.0  426480000  \n",
       "            3.0         33.0  0.000000e+00       46.0   22605000  \n",
       "            4.0          4.0  0.000000e+00        7.0    2175000  \n",
       "POS-2       1.0          2.0  0.000000e+00        2.0     625000  \n",
       "            2.0         43.0  4.912434e+12       67.0   34345000  \n",
       "            3.0          3.0  0.000000e+00        4.0    3100000  \n",
       "            4.0          1.0  0.000000e+00        1.0     375000  \n",
       "RC          1.0         10.0  0.000000e+00       11.0    7980000  \n",
       "            2.0        180.0  2.046525e+13      290.0  166425000  \n",
       "            3.0         22.0  0.000000e+00       30.0   19400000  \n",
       "            4.0          1.0  0.000000e+00        4.0    1410000  \n",
       "TOP-UP      1.0          3.0  0.000000e+00        8.0    4620000  \n",
       "            2.0        151.0  2.054090e+13      283.0  164470000  \n",
       "            3.0          8.0  0.000000e+00       16.0    7770000  \n",
       "            4.0          2.0  0.000000e+00        3.0    2260000  \n",
       "test        1.0          0.0  0.000000e+00        2.0    2000000  \n",
       "            2.0          9.0  1.341529e+12       15.0    5875000  \n",
       "            3.0          0.0  0.000000e+00        2.0     775000  "
      ]
     },
     "execution_count": 280,
     "metadata": {},
     "output_type": "execute_result"
    }
   ],
   "source": [
    "df_gr_4"
   ]
  },
  {
   "cell_type": "code",
   "execution_count": 270,
   "id": "3d2663ea",
   "metadata": {},
   "outputs": [
    {
     "data": {
      "text/html": [
       "<div>\n",
       "<style scoped>\n",
       "    .dataframe tbody tr th:only-of-type {\n",
       "        vertical-align: middle;\n",
       "    }\n",
       "\n",
       "    .dataframe tbody tr th {\n",
       "        vertical-align: top;\n",
       "    }\n",
       "\n",
       "    .dataframe thead th {\n",
       "        text-align: right;\n",
       "    }\n",
       "</style>\n",
       "<table border=\"1\" class=\"dataframe\">\n",
       "  <thead>\n",
       "    <tr style=\"text-align: right;\">\n",
       "      <th></th>\n",
       "      <th>id_global</th>\n",
       "      <th>id_client</th>\n",
       "    </tr>\n",
       "  </thead>\n",
       "  <tbody>\n",
       "    <tr>\n",
       "      <th>0</th>\n",
       "      <td>1791.0</td>\n",
       "      <td>2756</td>\n",
       "    </tr>\n",
       "    <tr>\n",
       "      <th>1</th>\n",
       "      <td>3978.0</td>\n",
       "      <td>2101</td>\n",
       "    </tr>\n",
       "    <tr>\n",
       "      <th>2</th>\n",
       "      <td>3409.0</td>\n",
       "      <td>684</td>\n",
       "    </tr>\n",
       "    <tr>\n",
       "      <th>3</th>\n",
       "      <td>1880.0</td>\n",
       "      <td>1330</td>\n",
       "    </tr>\n",
       "    <tr>\n",
       "      <th>4</th>\n",
       "      <td>3494.0</td>\n",
       "      <td>734</td>\n",
       "    </tr>\n",
       "    <tr>\n",
       "      <th>...</th>\n",
       "      <td>...</td>\n",
       "      <td>...</td>\n",
       "    </tr>\n",
       "    <tr>\n",
       "      <th>2992</th>\n",
       "      <td>2541.0</td>\n",
       "      <td>822</td>\n",
       "    </tr>\n",
       "    <tr>\n",
       "      <th>2993</th>\n",
       "      <td>2465.0</td>\n",
       "      <td>1068</td>\n",
       "    </tr>\n",
       "    <tr>\n",
       "      <th>2994</th>\n",
       "      <td>2466.0</td>\n",
       "      <td>2232</td>\n",
       "    </tr>\n",
       "    <tr>\n",
       "      <th>2995</th>\n",
       "      <td>2845.0</td>\n",
       "      <td>1167</td>\n",
       "    </tr>\n",
       "    <tr>\n",
       "      <th>2996</th>\n",
       "      <td>3232.0</td>\n",
       "      <td>1693</td>\n",
       "    </tr>\n",
       "  </tbody>\n",
       "</table>\n",
       "<p>2997 rows × 2 columns</p>\n",
       "</div>"
      ],
      "text/plain": [
       "      id_global  id_client\n",
       "0        1791.0       2756\n",
       "1        3978.0       2101\n",
       "2        3409.0        684\n",
       "3        1880.0       1330\n",
       "4        3494.0        734\n",
       "...         ...        ...\n",
       "2992     2541.0        822\n",
       "2993     2465.0       1068\n",
       "2994     2466.0       2232\n",
       "2995     2845.0       1167\n",
       "2996     3232.0       1693\n",
       "\n",
       "[2997 rows x 2 columns]"
      ]
     },
     "execution_count": 270,
     "metadata": {},
     "output_type": "execute_result"
    }
   ],
   "source": [
    "df[['id_global','id_client']]"
   ]
  },
  {
   "cell_type": "code",
   "execution_count": null,
   "id": "d2b1bd82",
   "metadata": {},
   "outputs": [],
   "source": []
  },
  {
   "cell_type": "code",
   "execution_count": 302,
   "id": "8729ba2c",
   "metadata": {},
   "outputs": [],
   "source": []
  },
  {
   "cell_type": "code",
   "execution_count": 301,
   "id": "75527014",
   "metadata": {},
   "outputs": [
    {
     "data": {
      "text/plain": [
       "pandas.core.groupby.generic.DataFrameGroupBy"
      ]
     },
     "execution_count": 301,
     "metadata": {},
     "output_type": "execute_result"
    }
   ],
   "source": [
    "type(df[(df['amt_loan'] > 10000) \n",
    "           & (df['cellphone'].notnull())].groupby(['credit_type'\n",
    "                                                  ,'gender']))"
   ]
  },
  {
   "cell_type": "code",
   "execution_count": 303,
   "id": "dbb86c4c",
   "metadata": {},
   "outputs": [
    {
     "data": {
      "text/plain": [
       "<pandas.core.groupby.generic.SeriesGroupBy object at 0x000002917E72B040>"
      ]
     },
     "execution_count": 303,
     "metadata": {},
     "output_type": "execute_result"
    }
   ],
   "source": [
    "df_gr_5"
   ]
  },
  {
   "cell_type": "code",
   "execution_count": 306,
   "id": "ffd96813",
   "metadata": {},
   "outputs": [
    {
     "data": {
      "text/plain": [
       "amt_loan     867580000\n",
       "id_client         2052\n",
       "dtype: int64"
      ]
     },
     "execution_count": 306,
     "metadata": {},
     "output_type": "execute_result"
    }
   ],
   "source": [
    "df[(df['amt_loan'] > 10000) \n",
    "           & (df['cellphone'].notnull())].agg({\"amt_loan\":'sum'\n",
    "                                                                            , 'id_client':'count'\n",
    "                                                                  })\n",
    "    "
   ]
  },
  {
   "cell_type": "code",
   "execution_count": null,
   "id": "56bba653",
   "metadata": {},
   "outputs": [],
   "source": [
    "google colab"
   ]
  },
  {
   "cell_type": "code",
   "execution_count": 337,
   "id": "0b4c3d11",
   "metadata": {},
   "outputs": [],
   "source": [
    "dfm['flag_30'] = (dfm['ad_date'] + pd.Timedelta(days=30) > dfm['purchase_date']).astype(int)\n",
    "dfm['flag_60'] = (dfm['ad_date'] + pd.Timedelta(days=60) > dfm['purchase_date']).astype(int)\n",
    "dfm['flag_90'] = (dfm['ad_date'] + pd.Timedelta(days=90) > dfm['purchase_date']).astype(int)"
   ]
  },
  {
   "cell_type": "code",
   "execution_count": 332,
   "id": "f6a5829b",
   "metadata": {},
   "outputs": [],
   "source": [
    "a = pd.Timedelta(minutes=30)"
   ]
  },
  {
   "cell_type": "code",
   "execution_count": 334,
   "id": "7a98b0a6",
   "metadata": {},
   "outputs": [
    {
     "data": {
      "text/plain": [
       "pandas._libs.tslibs.timedeltas.Timedelta"
      ]
     },
     "execution_count": 334,
     "metadata": {},
     "output_type": "execute_result"
    }
   ],
   "source": [
    "type(a)"
   ]
  },
  {
   "cell_type": "code",
   "execution_count": null,
   "id": "2918d507",
   "metadata": {},
   "outputs": [],
   "source": [
    "df['ad_date'] + pd.Timedelta(days=30)\n",
    "DateOffset"
   ]
  },
  {
   "cell_type": "code",
   "execution_count": null,
   "id": "f31b4982",
   "metadata": {},
   "outputs": [],
   "source": []
  },
  {
   "cell_type": "code",
   "execution_count": 356,
   "id": "6d83d3dd",
   "metadata": {},
   "outputs": [],
   "source": []
  },
  {
   "cell_type": "code",
   "execution_count": 357,
   "id": "9dfbace6",
   "metadata": {},
   "outputs": [],
   "source": []
  },
  {
   "cell_type": "code",
   "execution_count": 354,
   "id": "8d2daed5",
   "metadata": {},
   "outputs": [
    {
     "data": {
      "text/plain": [
       "id_client                     int64\n",
       "id_global                   float64\n",
       "id_city                     float64\n",
       "gender                       object\n",
       "married                      object\n",
       "first_time                  float64\n",
       "age                         float64\n",
       "is_educ                     float64\n",
       "cellphone                   float64\n",
       "is_active                   float64\n",
       "cl_segm                     float64\n",
       "amt_loan                      int64\n",
       "date_loan            datetime64[ns]\n",
       "credit_type                  object\n",
       "date_loan_offset     datetime64[ns]\n",
       "delta               timedelta64[ns]\n",
       "dtype: object"
      ]
     },
     "execution_count": 354,
     "metadata": {},
     "output_type": "execute_result"
    }
   ],
   "source": [
    "df.dtypes"
   ]
  },
  {
   "cell_type": "code",
   "execution_count": 362,
   "id": "17881a49",
   "metadata": {},
   "outputs": [
    {
     "data": {
      "text/html": [
       "<div>\n",
       "<style scoped>\n",
       "    .dataframe tbody tr th:only-of-type {\n",
       "        vertical-align: middle;\n",
       "    }\n",
       "\n",
       "    .dataframe tbody tr th {\n",
       "        vertical-align: top;\n",
       "    }\n",
       "\n",
       "    .dataframe thead th {\n",
       "        text-align: right;\n",
       "    }\n",
       "</style>\n",
       "<table border=\"1\" class=\"dataframe\">\n",
       "  <thead>\n",
       "    <tr style=\"text-align: right;\">\n",
       "      <th></th>\n",
       "      <th>id_client</th>\n",
       "      <th>id_global</th>\n",
       "      <th>id_city</th>\n",
       "      <th>gender</th>\n",
       "      <th>married</th>\n",
       "      <th>first_time</th>\n",
       "      <th>age</th>\n",
       "      <th>is_educ</th>\n",
       "      <th>cellphone</th>\n",
       "      <th>is_active</th>\n",
       "      <th>cl_segm</th>\n",
       "      <th>amt_loan</th>\n",
       "      <th>date_loan</th>\n",
       "      <th>credit_type</th>\n",
       "      <th>date_loan_offset</th>\n",
       "      <th>delta</th>\n",
       "      <th>delta_days</th>\n",
       "    </tr>\n",
       "  </thead>\n",
       "  <tbody>\n",
       "    <tr>\n",
       "      <th>0</th>\n",
       "      <td>2756</td>\n",
       "      <td>1791.0</td>\n",
       "      <td>15.0</td>\n",
       "      <td>M</td>\n",
       "      <td>False</td>\n",
       "      <td>1.0</td>\n",
       "      <td>82.0</td>\n",
       "      <td>0.0</td>\n",
       "      <td>NaN</td>\n",
       "      <td>0.0</td>\n",
       "      <td>2.0</td>\n",
       "      <td>90000</td>\n",
       "      <td>2021-05-01</td>\n",
       "      <td>TOP-UP</td>\n",
       "      <td>2021-06-03 03:00:00</td>\n",
       "      <td>33 days 03:00:00</td>\n",
       "      <td>33</td>\n",
       "    </tr>\n",
       "    <tr>\n",
       "      <th>1</th>\n",
       "      <td>2101</td>\n",
       "      <td>3978.0</td>\n",
       "      <td>1.0</td>\n",
       "      <td>F</td>\n",
       "      <td>False</td>\n",
       "      <td>1.0</td>\n",
       "      <td>84.0</td>\n",
       "      <td>0.0</td>\n",
       "      <td>8.916453e+10</td>\n",
       "      <td>0.0</td>\n",
       "      <td>2.0</td>\n",
       "      <td>500000</td>\n",
       "      <td>2020-02-05</td>\n",
       "      <td>POS-1</td>\n",
       "      <td>2020-03-07 03:00:00</td>\n",
       "      <td>31 days 03:00:00</td>\n",
       "      <td>31</td>\n",
       "    </tr>\n",
       "    <tr>\n",
       "      <th>2</th>\n",
       "      <td>684</td>\n",
       "      <td>3409.0</td>\n",
       "      <td>2.0</td>\n",
       "      <td>M</td>\n",
       "      <td>False</td>\n",
       "      <td>1.0</td>\n",
       "      <td>84.0</td>\n",
       "      <td>1.0</td>\n",
       "      <td>8.916521e+10</td>\n",
       "      <td>1.0</td>\n",
       "      <td>2.0</td>\n",
       "      <td>440000</td>\n",
       "      <td>2021-04-23</td>\n",
       "      <td>POS-1</td>\n",
       "      <td>2021-05-25 03:00:00</td>\n",
       "      <td>32 days 03:00:00</td>\n",
       "      <td>32</td>\n",
       "    </tr>\n",
       "    <tr>\n",
       "      <th>3</th>\n",
       "      <td>1330</td>\n",
       "      <td>1880.0</td>\n",
       "      <td>2.0</td>\n",
       "      <td>M</td>\n",
       "      <td>False</td>\n",
       "      <td>1.0</td>\n",
       "      <td>44.0</td>\n",
       "      <td>0.0</td>\n",
       "      <td>8.985401e+10</td>\n",
       "      <td>1.0</td>\n",
       "      <td>2.0</td>\n",
       "      <td>440000</td>\n",
       "      <td>2021-04-30</td>\n",
       "      <td>CC</td>\n",
       "      <td>2021-06-01 03:00:00</td>\n",
       "      <td>32 days 03:00:00</td>\n",
       "      <td>32</td>\n",
       "    </tr>\n",
       "    <tr>\n",
       "      <th>4</th>\n",
       "      <td>734</td>\n",
       "      <td>3494.0</td>\n",
       "      <td>2.0</td>\n",
       "      <td>M</td>\n",
       "      <td>False</td>\n",
       "      <td>1.0</td>\n",
       "      <td>84.0</td>\n",
       "      <td>1.0</td>\n",
       "      <td>8.916150e+10</td>\n",
       "      <td>1.0</td>\n",
       "      <td>2.0</td>\n",
       "      <td>200000</td>\n",
       "      <td>2019-07-13</td>\n",
       "      <td>POS-1</td>\n",
       "      <td>2019-08-15 03:00:00</td>\n",
       "      <td>33 days 03:00:00</td>\n",
       "      <td>33</td>\n",
       "    </tr>\n",
       "  </tbody>\n",
       "</table>\n",
       "</div>"
      ],
      "text/plain": [
       "   id_client  id_global  id_city gender married  first_time   age  is_educ  \\\n",
       "0       2756     1791.0     15.0      M   False         1.0  82.0      0.0   \n",
       "1       2101     3978.0      1.0      F   False         1.0  84.0      0.0   \n",
       "2        684     3409.0      2.0      M   False         1.0  84.0      1.0   \n",
       "3       1330     1880.0      2.0      M   False         1.0  44.0      0.0   \n",
       "4        734     3494.0      2.0      M   False         1.0  84.0      1.0   \n",
       "\n",
       "      cellphone  is_active  cl_segm  amt_loan  date_loan credit_type  \\\n",
       "0           NaN        0.0      2.0     90000 2021-05-01      TOP-UP   \n",
       "1  8.916453e+10        0.0      2.0    500000 2020-02-05       POS-1   \n",
       "2  8.916521e+10        1.0      2.0    440000 2021-04-23       POS-1   \n",
       "3  8.985401e+10        1.0      2.0    440000 2021-04-30          CC   \n",
       "4  8.916150e+10        1.0      2.0    200000 2019-07-13       POS-1   \n",
       "\n",
       "     date_loan_offset            delta  delta_days  \n",
       "0 2021-06-03 03:00:00 33 days 03:00:00          33  \n",
       "1 2020-03-07 03:00:00 31 days 03:00:00          31  \n",
       "2 2021-05-25 03:00:00 32 days 03:00:00          32  \n",
       "3 2021-06-01 03:00:00 32 days 03:00:00          32  \n",
       "4 2019-08-15 03:00:00 33 days 03:00:00          33  "
      ]
     },
     "execution_count": 362,
     "metadata": {},
     "output_type": "execute_result"
    }
   ],
   "source": [
    "df.head(5)"
   ]
  },
  {
   "cell_type": "code",
   "execution_count": 361,
   "id": "782e654e",
   "metadata": {},
   "outputs": [],
   "source": []
  },
  {
   "cell_type": "code",
   "execution_count": 363,
   "id": "8547b6c0",
   "metadata": {},
   "outputs": [],
   "source": []
  },
  {
   "cell_type": "markdown",
   "id": "dd7c180e",
   "metadata": {},
   "source": [
    "# ВИЗУАЛИЗАЦИЯ"
   ]
  },
  {
   "cell_type": "code",
   "execution_count": 387,
   "id": "a08298f4",
   "metadata": {},
   "outputs": [
    {
     "data": {
      "text/plain": [
       "(array([ 10.,   6.,  25.,  65., 111., 425., 188., 116.,  49.,  15.]),\n",
       " array([ 5. ,  6.2,  7.4,  8.6,  9.8, 11. , 12.2, 13.4, 14.6, 15.8, 17. ]),\n",
       " <BarContainer object of 10 artists>)"
      ]
     },
     "execution_count": 387,
     "metadata": {},
     "output_type": "execute_result"
    },
    {
     "data": {
      "image/png": "[encoded data removed]",
      "text/plain": [
       "<Figure size 432x288 with 1 Axes>"
      ]
     },
     "metadata": {
      "needs_background": "light"
     },
     "output_type": "display_data"
    }
   ],
   "source": [
    "import seaborn\n",
    "from scipy.stats import binom\n",
    "data=binom.rvs(n=17,p=0.7,loc=0,size=1010)\n",
    "plt.hist(data)\n"
   ]
  },
  {
   "cell_type": "code",
   "execution_count": 388,
   "id": "d4fdfa99",
   "metadata": {},
   "outputs": [
    {
     "data": {
      "text/plain": [
       "<seaborn.axisgrid.FacetGrid at 0x29103a88e80>"
      ]
     },
     "execution_count": 388,
     "metadata": {},
     "output_type": "execute_result"
    },
    {
     "data": {
      "image/png": "[encoded data removed]",
      "text/plain": [
       "<Figure size 360x360 with 1 Axes>"
      ]
     },
     "metadata": {
      "needs_background": "light"
     },
     "output_type": "display_data"
    }
   ],
   "source": [
    "ax=seaborn.displot(data,\n",
    "                #kde=True,\n",
    "                color='pink',\n",
    "                #hist_kws={\"linewidth\": 22,'alpha':0.77}\n",
    "                   )\n",
    "ax.set(xlabel='Binomial',ylabel='Frequency')"
   ]
  },
  {
   "cell_type": "code",
   "execution_count": 385,
   "id": "cd43ed54",
   "metadata": {},
   "outputs": [
    {
     "data": {
      "text/plain": [
       "(array([3.960e+02, 8.250e+02, 1.388e+03, 1.732e+03, 1.774e+03, 1.497e+03,\n",
       "        1.055e+03, 6.640e+02, 5.460e+02, 7.700e+01, 2.900e+01, 1.000e+01,\n",
       "        3.000e+00, 3.000e+00, 0.000e+00, 1.000e+00]),\n",
       " array([ 0.   ,  1.125,  2.25 ,  3.375,  4.5  ,  5.625,  6.75 ,  7.875,\n",
       "         9.   , 10.125, 11.25 , 12.375, 13.5  , 14.625, 15.75 , 16.875,\n",
       "        18.   ]),\n",
       " <BarContainer object of 16 artists>)"
      ]
     },
     "execution_count": 385,
     "metadata": {},
     "output_type": "execute_result"
    },
    {
     "data": {
      "image/png": "[encoded data removed]",
      "text/plain": [
       "<Figure size 432x288 with 1 Axes>"
      ]
     },
     "metadata": {
      "needs_background": "light"
     },
     "output_type": "display_data"
    }
   ],
   "source": [
    "import numpy as np\n",
    "s=np.random.poisson(5, 10000)\n",
    "import matplotlib.pyplot as plt\n",
    "plt.hist(s,16,color='Green')"
   ]
  },
  {
   "cell_type": "code",
   "execution_count": 408,
   "id": "0b32ca95",
   "metadata": {},
   "outputs": [
    {
     "data": {
      "text/plain": [
       "<seaborn.axisgrid.FacetGrid at 0x29105254850>"
      ]
     },
     "execution_count": 408,
     "metadata": {},
     "output_type": "execute_result"
    },
    {
     "data": {
      "image/png": "[encoded data removed]",
      "text/plain": [
       "<Figure size 360x360 with 1 Axes>"
      ]
     },
     "metadata": {
      "needs_background": "light"
     },
     "output_type": "display_data"
    }
   ],
   "source": [
    "import seaborn as sns\n",
    "sns.lmplot(x = 'age', y = 'cl_segm', data=df[['age','cl_segm']]\n",
    "          ,fit_reg=True)"
   ]
  },
  {
   "cell_type": "code",
   "execution_count": 409,
   "id": "abc672bb",
   "metadata": {},
   "outputs": [
    {
     "data": {
      "text/plain": [
       "<seaborn.axisgrid.FacetGrid at 0x29104f80640>"
      ]
     },
     "execution_count": 409,
     "metadata": {},
     "output_type": "execute_result"
    },
    {
     "data": {
      "image/png": "[encoded data removed]",
      "text/plain": [
       "<Figure size 360x360 with 1 Axes>"
      ]
     },
     "metadata": {
      "needs_background": "light"
     },
     "output_type": "display_data"
    }
   ],
   "source": [
    "sns.lmplot(x='age', y='amt_loan', data=df[df['cl_segm']!=2],\n",
    "           fit_reg=True, # No regression line\n",
    "           #hue='cl_segm'\n",
    "          )"
   ]
  },
  {
   "cell_type": "code",
   "execution_count": 403,
   "id": "f73b1253",
   "metadata": {},
   "outputs": [
    {
     "data": {
      "text/plain": [
       "Index(['id_client', 'id_global', 'id_city', 'gender', 'married', 'first_time',\n",
       "       'age', 'is_educ', 'cellphone', 'is_active', 'cl_segm', 'amt_loan',\n",
       "       'date_loan', 'credit_type', 'date_loan_offset', 'delta', 'delta_days',\n",
       "       'percent_delta_days'],\n",
       "      dtype='object')"
      ]
     },
     "execution_count": 403,
     "metadata": {},
     "output_type": "execute_result"
    }
   ],
   "source": [
    "df.columns"
   ]
  },
  {
   "cell_type": "code",
   "execution_count": 411,
   "id": "3b15fb9d",
   "metadata": {},
   "outputs": [
    {
     "data": {
      "text/plain": [
       "<AxesSubplot:>"
      ]
     },
     "execution_count": 411,
     "metadata": {},
     "output_type": "execute_result"
    },
    {
     "data": {
      "image/png": "[encoded data removed]",
      "text/plain": [
       "<Figure size 432x288 with 1 Axes>"
      ]
     },
     "metadata": {
      "needs_background": "light"
     },
     "output_type": "display_data"
    }
   ],
   "source": [
    "sns.boxplot(data=df[['cl_segm','is_educ','is_active']])"
   ]
  },
  {
   "cell_type": "code",
   "execution_count": 372,
   "id": "4c5bcc3d",
   "metadata": {},
   "outputs": [],
   "source": [
    "n, p = 5, 0.4\n",
    "mean, var, skew, kurt = binom.stats(n, p, moments='mvsk')"
   ]
  },
  {
   "cell_type": "code",
   "execution_count": 368,
   "id": "a1dac4cd",
   "metadata": {},
   "outputs": [
    {
     "data": {
      "text/plain": [
       "array(2.)"
      ]
     },
     "execution_count": 368,
     "metadata": {},
     "output_type": "execute_result"
    }
   ],
   "source": [
    "mean"
   ]
  },
  {
   "cell_type": "code",
   "execution_count": 369,
   "id": "7b2f5ef5",
   "metadata": {},
   "outputs": [
    {
     "data": {
      "text/plain": [
       "array(1.2)"
      ]
     },
     "execution_count": 369,
     "metadata": {},
     "output_type": "execute_result"
    }
   ],
   "source": [
    "var"
   ]
  },
  {
   "cell_type": "code",
   "execution_count": 370,
   "id": "3ddec297",
   "metadata": {},
   "outputs": [
    {
     "data": {
      "text/plain": [
       "array(0.18257419)"
      ]
     },
     "execution_count": 370,
     "metadata": {},
     "output_type": "execute_result"
    }
   ],
   "source": [
    "skew"
   ]
  },
  {
   "cell_type": "code",
   "execution_count": 414,
   "id": "c90bad88",
   "metadata": {},
   "outputs": [],
   "source": [
    "df = pd.read_csv('C:/Users/D.Elistratov/Documents/Презентации лекций/Неделя 7/Pokemon.csv', sep=';')"
   ]
  },
  {
   "cell_type": "code",
   "execution_count": 415,
   "id": "01ef8684",
   "metadata": {},
   "outputs": [
    {
     "data": {
      "text/html": [
       "<div>\n",
       "<style scoped>\n",
       "    .dataframe tbody tr th:only-of-type {\n",
       "        vertical-align: middle;\n",
       "    }\n",
       "\n",
       "    .dataframe tbody tr th {\n",
       "        vertical-align: top;\n",
       "    }\n",
       "\n",
       "    .dataframe thead th {\n",
       "        text-align: right;\n",
       "    }\n",
       "</style>\n",
       "<table border=\"1\" class=\"dataframe\">\n",
       "  <thead>\n",
       "    <tr style=\"text-align: right;\">\n",
       "      <th></th>\n",
       "      <th>#</th>\n",
       "      <th>Name</th>\n",
       "      <th>Type 1</th>\n",
       "      <th>Type 2</th>\n",
       "      <th>Total</th>\n",
       "      <th>HP</th>\n",
       "      <th>Attack</th>\n",
       "      <th>Defense</th>\n",
       "      <th>Sp. Atk</th>\n",
       "      <th>Sp. Def</th>\n",
       "      <th>Speed</th>\n",
       "      <th>Stage</th>\n",
       "      <th>Legendary</th>\n",
       "    </tr>\n",
       "  </thead>\n",
       "  <tbody>\n",
       "    <tr>\n",
       "      <th>0</th>\n",
       "      <td>1</td>\n",
       "      <td>Bulbasaur</td>\n",
       "      <td>Grass</td>\n",
       "      <td>Poison</td>\n",
       "      <td>318</td>\n",
       "      <td>45</td>\n",
       "      <td>49</td>\n",
       "      <td>49</td>\n",
       "      <td>65</td>\n",
       "      <td>65</td>\n",
       "      <td>45</td>\n",
       "      <td>1</td>\n",
       "      <td>False</td>\n",
       "    </tr>\n",
       "    <tr>\n",
       "      <th>1</th>\n",
       "      <td>2</td>\n",
       "      <td>Ivysaur</td>\n",
       "      <td>Grass</td>\n",
       "      <td>Poison</td>\n",
       "      <td>405</td>\n",
       "      <td>60</td>\n",
       "      <td>62</td>\n",
       "      <td>63</td>\n",
       "      <td>80</td>\n",
       "      <td>80</td>\n",
       "      <td>60</td>\n",
       "      <td>2</td>\n",
       "      <td>False</td>\n",
       "    </tr>\n",
       "    <tr>\n",
       "      <th>2</th>\n",
       "      <td>3</td>\n",
       "      <td>Venusaur</td>\n",
       "      <td>Grass</td>\n",
       "      <td>Poison</td>\n",
       "      <td>525</td>\n",
       "      <td>80</td>\n",
       "      <td>82</td>\n",
       "      <td>83</td>\n",
       "      <td>100</td>\n",
       "      <td>100</td>\n",
       "      <td>80</td>\n",
       "      <td>3</td>\n",
       "      <td>False</td>\n",
       "    </tr>\n",
       "    <tr>\n",
       "      <th>3</th>\n",
       "      <td>4</td>\n",
       "      <td>Charmander</td>\n",
       "      <td>Fire</td>\n",
       "      <td>NaN</td>\n",
       "      <td>309</td>\n",
       "      <td>39</td>\n",
       "      <td>52</td>\n",
       "      <td>43</td>\n",
       "      <td>60</td>\n",
       "      <td>50</td>\n",
       "      <td>65</td>\n",
       "      <td>1</td>\n",
       "      <td>False</td>\n",
       "    </tr>\n",
       "    <tr>\n",
       "      <th>4</th>\n",
       "      <td>5</td>\n",
       "      <td>Charmeleon</td>\n",
       "      <td>Fire</td>\n",
       "      <td>NaN</td>\n",
       "      <td>405</td>\n",
       "      <td>58</td>\n",
       "      <td>64</td>\n",
       "      <td>58</td>\n",
       "      <td>80</td>\n",
       "      <td>65</td>\n",
       "      <td>80</td>\n",
       "      <td>2</td>\n",
       "      <td>False</td>\n",
       "    </tr>\n",
       "  </tbody>\n",
       "</table>\n",
       "</div>"
      ],
      "text/plain": [
       "   #        Name Type 1  Type 2  Total  HP  Attack  Defense  Sp. Atk  Sp. Def  \\\n",
       "0  1   Bulbasaur  Grass  Poison    318  45      49       49       65       65   \n",
       "1  2     Ivysaur  Grass  Poison    405  60      62       63       80       80   \n",
       "2  3    Venusaur  Grass  Poison    525  80      82       83      100      100   \n",
       "3  4  Charmander   Fire     NaN    309  39      52       43       60       50   \n",
       "4  5  Charmeleon   Fire     NaN    405  58      64       58       80       65   \n",
       "\n",
       "   Speed  Stage  Legendary  \n",
       "0     45      1      False  \n",
       "1     60      2      False  \n",
       "2     80      3      False  \n",
       "3     65      1      False  \n",
       "4     80      2      False  "
      ]
     },
     "execution_count": 415,
     "metadata": {},
     "output_type": "execute_result"
    }
   ],
   "source": [
    "df.head()\n"
   ]
  },
  {
   "cell_type": "code",
   "execution_count": 416,
   "id": "3a913509",
   "metadata": {},
   "outputs": [
    {
     "data": {
      "text/plain": [
       "<seaborn.axisgrid.FacetGrid at 0x29103728550>"
      ]
     },
     "execution_count": 416,
     "metadata": {},
     "output_type": "execute_result"
    },
    {
     "data": {
      "image/png": "[encoded data removed]",
      "text/plain": [
       "<Figure size 360x360 with 1 Axes>"
      ]
     },
     "metadata": {
      "needs_background": "light"
     },
     "output_type": "display_data"
    }
   ],
   "source": [
    "################# Scatter plot\n",
    "\n",
    "sns.lmplot(x='Attack', y='Defense', data=df)\n"
   ]
  },
  {
   "cell_type": "code",
   "execution_count": 419,
   "id": "1d94baa8",
   "metadata": {},
   "outputs": [
    {
     "data": {
      "text/plain": [
       "<seaborn.axisgrid.FacetGrid at 0x291054dc760>"
      ]
     },
     "execution_count": 419,
     "metadata": {},
     "output_type": "execute_result"
    },
    {
     "data": {
      "image/png": "[encoded data removed]",
      "text/plain": [
       "<Figure size 402.375x360 with 1 Axes>"
      ]
     },
     "metadata": {
      "needs_background": "light"
     },
     "output_type": "display_data"
    }
   ],
   "source": [
    "# Scatterplot arguments\n",
    "sns.lmplot(x='Attack', y='Defense', data=df,\n",
    "           fit_reg=True, # No regression line\n",
    "           hue='Stage')   # Color by evolution stage"
   ]
  },
  {
   "cell_type": "code",
   "execution_count": 420,
   "id": "2d9191ad",
   "metadata": {},
   "outputs": [
    {
     "data": {
      "text/plain": [
       "(0.0, 140.45)"
      ]
     },
     "execution_count": 420,
     "metadata": {},
     "output_type": "execute_result"
    },
    {
     "data": {
      "image/png": "[encoded data removed]",
      "text/plain": [
       "<Figure size 402.375x360 with 1 Axes>"
      ]
     },
     "metadata": {
      "needs_background": "light"
     },
     "output_type": "display_data"
    }
   ],
   "source": [
    "# Plot using Seaborn\n",
    "sns.lmplot(x='Attack', y='Defense', data=df,\n",
    "           fit_reg=False, \n",
    "           hue='Stage')\n",
    " \n",
    "# Tweak using Matplotlib\n",
    "plt.ylim(0, None)\n",
    "plt.xlim(0, None)"
   ]
  },
  {
   "cell_type": "code",
   "execution_count": 421,
   "id": "6e0c894b",
   "metadata": {},
   "outputs": [
    {
     "data": {
      "text/plain": [
       "<AxesSubplot:>"
      ]
     },
     "execution_count": 421,
     "metadata": {},
     "output_type": "execute_result"
    },
    {
     "data": {
      "image/png": "[encoded data removed]",
      "text/plain": [
       "<Figure size 432x288 with 1 Axes>"
      ]
     },
     "metadata": {
      "needs_background": "light"
     },
     "output_type": "display_data"
    }
   ],
   "source": [
    "sns.boxplot(data=df)"
   ]
  },
  {
   "cell_type": "code",
   "execution_count": 423,
   "id": "a4a823c1",
   "metadata": {},
   "outputs": [
    {
     "data": {
      "text/plain": [
       "<AxesSubplot:>"
      ]
     },
     "execution_count": 423,
     "metadata": {},
     "output_type": "execute_result"
    },
    {
     "data": {
      "image/png": "[encoded data removed]",
      "text/plain": [
       "<Figure size 432x288 with 1 Axes>"
      ]
     },
     "metadata": {
      "needs_background": "light"
     },
     "output_type": "display_data"
    }
   ],
   "source": [
    "# Pre-format DataFrame\n",
    "stats_df = df.drop(['#', 'Total', 'Stage', 'Legendary'], axis=1)\n",
    " \n",
    "# New boxplot using stats_df\n",
    "sns.boxplot(data=stats_df)"
   ]
  },
  {
   "cell_type": "code",
   "execution_count": 425,
   "id": "8ae535d6",
   "metadata": {},
   "outputs": [
    {
     "name": "stderr",
     "output_type": "stream",
     "text": [
      "C:\\Users\\D.Elistratov\\anaconda3\\lib\\site-packages\\seaborn\\categorical.py:1296: UserWarning: 10.7% of the points cannot be placed; you may want to decrease the size of the markers or use stripplot.\n",
      "  warnings.warn(msg, UserWarning)\n"
     ]
    },
    {
     "data": {
      "text/plain": [
       "<AxesSubplot:xlabel='Type 1', ylabel='Attack'>"
      ]
     },
     "execution_count": 425,
     "metadata": {},
     "output_type": "execute_result"
    },
    {
     "data": {
      "image/png": "[encoded data removed]",
      "text/plain": [
       "<Figure size 432x288 with 1 Axes>"
      ]
     },
     "metadata": {
      "needs_background": "light"
     },
     "output_type": "display_data"
    }
   ],
   "source": [
    "# Swarm plot with Pokemon color palette\n",
    "sns.swarmplot(x='Type 1', y='Attack', data=df, \n",
    "              #palette=pkmn_type_colors\n",
    "             )"
   ]
  },
  {
   "cell_type": "code",
   "execution_count": 427,
   "id": "fa56f9e7",
   "metadata": {},
   "outputs": [
    {
     "data": {
      "text/plain": [
       "<AxesSubplot:xlabel='Type 1', ylabel='Attack'>"
      ]
     },
     "execution_count": 427,
     "metadata": {},
     "output_type": "execute_result"
    },
    {
     "data": {
      "image/png": "[encoded data removed]",
      "text/plain": [
       "<Figure size 432x288 with 1 Axes>"
      ]
     },
     "metadata": {
      "needs_background": "light"
     },
     "output_type": "display_data"
    }
   ],
   "source": [
    "# Violin plot with Pokemon color palette\n",
    "sns.violinplot(x='Type 1', y='Attack', data=df, \n",
    "               #palette=pkmn_type_colors\n",
    "              ) # Set color palette"
   ]
  },
  {
   "cell_type": "code",
   "execution_count": 429,
   "id": "6f684dd4",
   "metadata": {},
   "outputs": [
    {
     "data": {
      "text/plain": [
       "Text(0.5, 1.0, 'Attack by Type')"
      ]
     },
     "execution_count": 429,
     "metadata": {},
     "output_type": "execute_result"
    },
    {
     "data": {
      "image/png": "[encoded data removed]",
      "text/plain": [
       "<Figure size 720x432 with 1 Axes>"
      ]
     },
     "metadata": {
      "needs_background": "light"
     },
     "output_type": "display_data"
    }
   ],
   "source": [
    "# Set figure size with matplotlib\n",
    "plt.figure(figsize=(10,6))\n",
    " \n",
    "# Create plot\n",
    "sns.violinplot(x='Type 1',\n",
    "               y='Attack', \n",
    "               data=df, \n",
    "               inner=None, # Remove the bars inside the violins\n",
    "               #palette=pkmn_type_colors\n",
    "              )\n",
    " \n",
    "sns.swarmplot(x='Type 1', \n",
    "              y='Attack', \n",
    "              data=df, \n",
    "              color='k', # Make points black\n",
    "              alpha=0.7) # and slightly transparent\n",
    " \n",
    "# Set title with matplotlib\n",
    "plt.title('Attack by Type')"
   ]
  },
  {
   "cell_type": "code",
   "execution_count": 430,
   "id": "e1537c9d",
   "metadata": {},
   "outputs": [
    {
     "data": {
      "text/plain": [
       "<AxesSubplot:>"
      ]
     },
     "execution_count": 430,
     "metadata": {},
     "output_type": "execute_result"
    },
    {
     "data": {
      "image/png": "[encoded data removed]",
      "text/plain": [
       "<Figure size 432x288 with 2 Axes>"
      ]
     },
     "metadata": {
      "needs_background": "light"
     },
     "output_type": "display_data"
    }
   ],
   "source": [
    "# Calculate correlations\n",
    "corr = stats_df.corr()\n",
    " \n",
    "# Heatmap\n",
    "sns.heatmap(corr)"
   ]
  },
  {
   "cell_type": "code",
   "execution_count": 431,
   "id": "fea9345b",
   "metadata": {},
   "outputs": [
    {
     "name": "stderr",
     "output_type": "stream",
     "text": [
      "C:\\Users\\D.Elistratov\\anaconda3\\lib\\site-packages\\seaborn\\distributions.py:2557: FutureWarning: `distplot` is a deprecated function and will be removed in a future version. Please adapt your code to use either `displot` (a figure-level function with similar flexibility) or `histplot` (an axes-level function for histograms).\n",
      "  warnings.warn(msg, FutureWarning)\n"
     ]
    },
    {
     "data": {
      "text/plain": [
       "<AxesSubplot:xlabel='Attack', ylabel='Density'>"
      ]
     },
     "execution_count": 431,
     "metadata": {},
     "output_type": "execute_result"
    },
    {
     "data": {
      "image/png": "[encoded data removed]",
      "text/plain": [
       "<Figure size 432x288 with 1 Axes>"
      ]
     },
     "metadata": {
      "needs_background": "light"
     },
     "output_type": "display_data"
    }
   ],
   "source": [
    "sns.distplot(df.Attack)"
   ]
  },
  {
   "cell_type": "code",
   "execution_count": 434,
   "id": "d4e82c21",
   "metadata": {},
   "outputs": [
    {
     "name": "stderr",
     "output_type": "stream",
     "text": [
      "C:\\Users\\D.Elistratov\\anaconda3\\lib\\site-packages\\seaborn\\distributions.py:2557: FutureWarning: `distplot` is a deprecated function and will be removed in a future version. Please adapt your code to use either `displot` (a figure-level function with similar flexibility) or `histplot` (an axes-level function for histograms).\n",
      "  warnings.warn(msg, FutureWarning)\n"
     ]
    },
    {
     "data": {
      "text/plain": [
       "<AxesSubplot:xlabel='amt_loan', ylabel='Density'>"
      ]
     },
     "execution_count": 434,
     "metadata": {},
     "output_type": "execute_result"
    },
    {
     "data": {
      "image/png": "[encoded data removed]",
      "text/plain": [
       "<Figure size 432x288 with 1 Axes>"
      ]
     },
     "metadata": {
      "needs_background": "light"
     },
     "output_type": "display_data"
    }
   ],
   "source": [
    "sns.distplot(dfb.amt_loan)"
   ]
  },
  {
   "cell_type": "code",
   "execution_count": 437,
   "id": "c882bdc4",
   "metadata": {},
   "outputs": [
    {
     "data": {
      "text/plain": [
       "(array([ 0,  1,  2,  3,  4,  5,  6,  7,  8,  9, 10, 11, 12, 13, 14, 15, 16,\n",
       "        17, 18, 19, 20, 21, 22, 23, 24, 25, 26]),\n",
       " [Text(0, 0, '15000'),\n",
       "  Text(1, 0, '30000'),\n",
       "  Text(2, 0, '40000'),\n",
       "  Text(3, 0, '50000'),\n",
       "  Text(4, 0, '60000'),\n",
       "  Text(5, 0, '70000'),\n",
       "  Text(6, 0, '90000'),\n",
       "  Text(7, 0, '95000'),\n",
       "  Text(8, 0, '100000'),\n",
       "  Text(9, 0, '110000'),\n",
       "  Text(10, 0, '125000'),\n",
       "  Text(11, 0, '150000'),\n",
       "  Text(12, 0, '175000'),\n",
       "  Text(13, 0, '200000'),\n",
       "  Text(14, 0, '250000'),\n",
       "  Text(15, 0, '300000'),\n",
       "  Text(16, 0, '375000'),\n",
       "  Text(17, 0, '400000'),\n",
       "  Text(18, 0, '440000'),\n",
       "  Text(19, 0, '500000'),\n",
       "  Text(20, 0, '650000'),\n",
       "  Text(21, 0, '750000'),\n",
       "  Text(22, 0, '880000'),\n",
       "  Text(23, 0, '900000'),\n",
       "  Text(24, 0, '1000000'),\n",
       "  Text(25, 0, '1500000'),\n",
       "  Text(26, 0, '1750000')])"
      ]
     },
     "execution_count": 437,
     "metadata": {},
     "output_type": "execute_result"
    },
    {
     "data": {
      "image/png": "[encoded data removed]",
      "text/plain": [
       "<Figure size 432x288 with 1 Axes>"
      ]
     },
     "metadata": {
      "needs_background": "light"
     },
     "output_type": "display_data"
    }
   ],
   "source": [
    "\n",
    "sns.countplot(x='amt_loan', data=dfb#, palette=pkmn_type_colors\n",
    "             )\n",
    "plt.xticks(rotation = 90)"
   ]
  },
  {
   "cell_type": "code",
   "execution_count": 438,
   "id": "12947be7",
   "metadata": {},
   "outputs": [
    {
     "data": {
      "text/plain": [
       "<Figure size 432x288 with 0 Axes>"
      ]
     },
     "metadata": {},
     "output_type": "display_data"
    },
    {
     "data": {
      "image/png": "[encoded data removed]",
      "text/plain": [
       "<Figure size 432x288 with 1 Axes>"
      ]
     },
     "metadata": {
      "needs_background": "light"
     },
     "output_type": "display_data"
    },
    {
     "data": {
      "image/png": "[encoded data removed]",
      "text/plain": [
       "<Figure size 432x288 with 4 Axes>"
      ]
     },
     "metadata": {
      "needs_background": "light"
     },
     "output_type": "display_data"
    }
   ],
   "source": [
    "fig = plt.figure()  # an empty figure with no Axes\n",
    "fig, ax = plt.subplots()  # a figure with a single Axes\n",
    "fig, axs = plt.subplots(2, 2)  # a figure with a 2x2 grid of Axes"
   ]
  },
  {
   "cell_type": "code",
   "execution_count": 439,
   "id": "9db4a26d",
   "metadata": {},
   "outputs": [
    {
     "data": {
      "text/plain": [
       "<matplotlib.legend.Legend at 0x29106f6cdc0>"
      ]
     },
     "execution_count": 439,
     "metadata": {},
     "output_type": "execute_result"
    },
    {
     "data": {
      "image/png": "[encoded data removed]",
      "text/plain": [
       "<Figure size 432x288 with 1 Axes>"
      ]
     },
     "metadata": {
      "needs_background": "light"
     },
     "output_type": "display_data"
    }
   ],
   "source": [
    "x = np.linspace(0, 2, 100)\n",
    "\n",
    "# Note that even in the OO-style, we use `.pyplot.figure` to create the figure.\n",
    "fig, ax = plt.subplots()  # Create a figure and an axes.\n",
    "ax.plot(x, x, label='linear')  # Plot some data on the axes.\n",
    "ax.plot(x, x**2, label='quadratic')  # Plot more data on the axes...\n",
    "ax.plot(x, x**3, label='cubic')  # ... and some more.\n",
    "ax.set_xlabel('x label')  # Add an x-label to the axes.\n",
    "ax.set_ylabel('y label')  # Add a y-label to the axes.\n",
    "ax.set_title(\"Simple Plot\")  # Add a title to the axes.\n",
    "ax.legend()  # Add a legend."
   ]
  },
  {
   "cell_type": "code",
   "execution_count": 440,
   "id": "9f44da0d",
   "metadata": {},
   "outputs": [
    {
     "name": "stderr",
     "output_type": "stream",
     "text": [
      "C:\\Users\\D.Elistratov\\anaconda3\\lib\\site-packages\\seaborn\\categorical.py:3714: UserWarning: The `factorplot` function has been renamed to `catplot`. The original name will be removed in a future release. Please update your code. Note that the default `kind` in `factorplot` (`'point'`) has changed `'strip'` in `catplot`.\n",
      "  warnings.warn(msg)\n"
     ]
    },
    {
     "data": {
      "text/plain": [
       "<seaborn.axisgrid.FacetGrid at 0x29106fa3640>"
      ]
     },
     "execution_count": 440,
     "metadata": {},
     "output_type": "execute_result"
    },
    {
     "data": {
      "image/png": "[encoded data removed]",
      "text/plain": [
       "<Figure size 1080x360 with 3 Axes>"
      ]
     },
     "metadata": {
      "needs_background": "light"
     },
     "output_type": "display_data"
    }
   ],
   "source": [
    "# Factor Plot\n",
    "g = sns.factorplot(x='Type 1', \n",
    "                   y='Attack', \n",
    "                   data=df, \n",
    "                   hue='Stage',  # Color by stage\n",
    "                   col='Stage',  # Separate by stage\n",
    "                   kind='swarm') # Swarmplot\n",
    " \n",
    "# Rotate x-axis labels\n",
    "g.set_xticklabels(rotation=-45)\n",
    " \n",
    "# Doesn't work because only rotates last plot\n",
    "# plt.xticks(rotation=-45)"
   ]
  },
  {
   "cell_type": "code",
   "execution_count": 441,
   "id": "fae6bab5",
   "metadata": {},
   "outputs": [
    {
     "data": {
      "image/png": "[encoded data removed]",
      "text/plain": [
       "<Figure size 360x216 with 1 Axes>"
      ]
     },
     "metadata": {
      "needs_background": "light"
     },
     "output_type": "display_data"
    }
   ],
   "source": [
    "rng = np.arange(50)\n",
    "rnd = np.random.randint(0, 10, size=(3, rng.size))\n",
    "yrs = 1950 + rng\n",
    "\n",
    "fig, ax = plt.subplots(figsize=(5, 3))\n",
    "ax.stackplot(yrs, rng + rnd, labels=['Eastasia', 'Eurasia', 'Oceania'])\n",
    "ax.set_title('Combined debt growth over time')\n",
    "ax.legend(loc='upper left')\n",
    "ax.set_ylabel('Total debt')\n",
    "ax.set_xlim(xmin=yrs[0], xmax=yrs[-1])\n",
    "fig.tight_layout()"
   ]
  },
  {
   "cell_type": "code",
   "execution_count": 469,
   "id": "752974d1",
   "metadata": {},
   "outputs": [
    {
     "data": {
      "image/png": "[encoded data removed]",
      "text/plain": [
       "<Figure size 576x288 with 2 Axes>"
      ]
     },
     "metadata": {
      "needs_background": "light"
     },
     "output_type": "display_data"
    }
   ],
   "source": [
    "x = np.random.randint(low=1, high=11, size=50)\n",
    "y = x + np.random.randint(1, 5, size=x.size)\n",
    "data = np.column_stack((x, y))\n",
    "\n",
    "fig, (ax1, ax2) = plt.subplots(nrows=1, ncols=2,\n",
    "                                figsize=(8, 4))\n",
    "\n",
    "ax1.scatter(x=x, y=y, marker='o', c='r', edgecolor='b')\n",
    "ax1.set_title('Scatter: $x$ versus $y$')\n",
    "ax1.set_xlabel('$x$')\n",
    "ax1.set_ylabel('$y$')\n",
    "\n",
    "ax2.hist(data, bins=np.arange(data.min(), data.max()),\n",
    "          label=('x', 'y'))\n",
    "ax2.legend(loc=(0.65, 0.8))\n",
    "ax2.set_title('Frequencies of $x$ and $y$')\n",
    "ax2.yaxis.tick_left()"
   ]
  },
  {
   "cell_type": "code",
   "execution_count": 472,
   "id": "16006c02",
   "metadata": {},
   "outputs": [
    {
     "data": {
      "text/plain": [
       "(False, False)"
      ]
     },
     "execution_count": 472,
     "metadata": {},
     "output_type": "execute_result"
    }
   ],
   "source": [
    "(fig.axes[0] is ax1, fig.axes[1] is ax2)"
   ]
  },
  {
   "cell_type": "code",
   "execution_count": 471,
   "id": "8af00030",
   "metadata": {},
   "outputs": [
    {
     "data": {
      "image/png": "[encoded data removed]",
      "text/plain": [
       "<Figure size 504x504 with 4 Axes>"
      ]
     },
     "metadata": {
      "needs_background": "light"
     },
     "output_type": "display_data"
    }
   ],
   "source": [
    "fig, ax = plt.subplots(nrows=2, ncols=2, figsize=(7, 7))"
   ]
  },
  {
   "cell_type": "code",
   "execution_count": 480,
   "id": "fac752fb",
   "metadata": {},
   "outputs": [
    {
     "data": {
      "text/plain": [
       "False"
      ]
     },
     "execution_count": 480,
     "metadata": {},
     "output_type": "execute_result"
    }
   ],
   "source": [
    "fig.axes is ax1"
   ]
  },
  {
   "cell_type": "code",
   "execution_count": 481,
   "id": "8ccda71b",
   "metadata": {},
   "outputs": [
    {
     "data": {
      "text/plain": [
       "[<AxesSubplot:>, <AxesSubplot:>, <AxesSubplot:>, <AxesSubplot:>]"
      ]
     },
     "execution_count": 481,
     "metadata": {},
     "output_type": "execute_result"
    }
   ],
   "source": [
    "fig.axes"
   ]
  },
  {
   "cell_type": "code",
   "execution_count": 499,
   "id": "47a0cef2",
   "metadata": {},
   "outputs": [
    {
     "data": {
      "image/png": "[encoded data removed]",
      "text/plain": [
       "<Figure size 864x576 with 3 Axes>"
      ]
     },
     "metadata": {
      "needs_background": "light"
     },
     "output_type": "display_data"
    }
   ],
   "source": [
    "gridsize = (3, 2)\n",
    "fig = plt.figure(figsize=(12, 8))\n",
    "ax1 = plt.subplot2grid(gridsize, (0, 0), colspan=2, rowspan=2)\n",
    "ax2 = plt.subplot2grid(gridsize, (2, 0))\n",
    "ax3 = plt.subplot2grid(gridsize, (2, 1))"
   ]
  },
  {
   "cell_type": "code",
   "execution_count": 483,
   "id": "1b78e4e3",
   "metadata": {},
   "outputs": [
    {
     "ename": "NameError",
     "evalue": "name 'age' is not defined",
     "output_type": "error",
     "traceback": [
      "\u001b[1;31m---------------------------------------------------------------------------\u001b[0m",
      "\u001b[1;31mNameError\u001b[0m                                 Traceback (most recent call last)",
      "\u001b[1;32m<ipython-input-483-f59e81b5c6e6>\u001b[0m in \u001b[0;36m<module>\u001b[1;34m\u001b[0m\n\u001b[0;32m      1\u001b[0m ax1.set_title('Home value as a function of home age & area population',\n\u001b[0;32m      2\u001b[0m                fontsize=14)\n\u001b[1;32m----> 3\u001b[1;33m \u001b[0msctr\u001b[0m \u001b[1;33m=\u001b[0m \u001b[0max1\u001b[0m\u001b[1;33m.\u001b[0m\u001b[0mscatter\u001b[0m\u001b[1;33m(\u001b[0m\u001b[0mx\u001b[0m\u001b[1;33m=\u001b[0m\u001b[0mage\u001b[0m\u001b[1;33m,\u001b[0m \u001b[0my\u001b[0m\u001b[1;33m=\u001b[0m\u001b[0mpop\u001b[0m\u001b[1;33m,\u001b[0m \u001b[0mc\u001b[0m\u001b[1;33m=\u001b[0m\u001b[0my\u001b[0m\u001b[1;33m,\u001b[0m \u001b[0mcmap\u001b[0m\u001b[1;33m=\u001b[0m\u001b[1;34m'RdYlGn'\u001b[0m\u001b[1;33m)\u001b[0m\u001b[1;33m\u001b[0m\u001b[1;33m\u001b[0m\u001b[0m\n\u001b[0m\u001b[0;32m      4\u001b[0m \u001b[0mplt\u001b[0m\u001b[1;33m.\u001b[0m\u001b[0mcolorbar\u001b[0m\u001b[1;33m(\u001b[0m\u001b[0msctr\u001b[0m\u001b[1;33m,\u001b[0m \u001b[0max\u001b[0m\u001b[1;33m=\u001b[0m\u001b[0max1\u001b[0m\u001b[1;33m,\u001b[0m \u001b[0mformat\u001b[0m\u001b[1;33m=\u001b[0m\u001b[1;34m'$%d'\u001b[0m\u001b[1;33m)\u001b[0m\u001b[1;33m\u001b[0m\u001b[1;33m\u001b[0m\u001b[0m\n\u001b[0;32m      5\u001b[0m \u001b[0max1\u001b[0m\u001b[1;33m.\u001b[0m\u001b[0mset_yscale\u001b[0m\u001b[1;33m(\u001b[0m\u001b[1;34m'log'\u001b[0m\u001b[1;33m)\u001b[0m\u001b[1;33m\u001b[0m\u001b[1;33m\u001b[0m\u001b[0m\n",
      "\u001b[1;31mNameError\u001b[0m: name 'age' is not defined"
     ]
    }
   ],
   "source": [
    "ax1.set_title('Home value as a function of home age & area population',\n",
    "               fontsize=14)\n",
    "sctr = ax1.scatter(x=age, y=pop, c=y, cmap='RdYlGn')\n",
    "plt.colorbar(sctr, ax=ax1, format='$%d')\n",
    "ax1.set_yscale('log')\n",
    "ax2.hist(age, bins='auto')\n",
    "ax3.hist(pop, bins='auto', log=True)\n",
    "\n",
    "add_titlebox(ax2, 'Histogram: home age')\n",
    "add_titlebox(ax3, 'Histogram: area population (log scl.)')"
   ]
  },
  {
   "cell_type": "code",
   "execution_count": 485,
   "id": "24aed9c2",
   "metadata": {},
   "outputs": [],
   "source": [
    "dft = pd.read_csv('C:/Users/D.Elistratov/Documents/Презентации лекций/Неделя 7/TAXI.csv')\n"
   ]
  },
  {
   "cell_type": "code",
   "execution_count": null,
   "id": "a653203f",
   "metadata": {},
   "outputs": [],
   "source": [
    "fig = plt.figure(figsize=(12, 8))\n",
    "ax1 = plt.subplot2grid(gridsize, (0, 0), colspan=2, rowspan=2)\n",
    "ax2 = plt.subplot2grid(gridsize, (2, 0))\n",
    "ax3 = plt.subplot2grid(gridsize, (2, 1))"
   ]
  },
  {
   "cell_type": "code",
   "execution_count": 492,
   "id": "835abcd0",
   "metadata": {},
   "outputs": [
    {
     "data": {
      "image/png": "[encoded data removed]",
      "text/plain": [
       "<Figure size 432x288 with 4 Axes>"
      ]
     },
     "metadata": {
      "needs_background": "light"
     },
     "output_type": "display_data"
    }
   ],
   "source": [
    "for i in range (1, 5):\n",
    "    plt.subplot(2, 2, i)\n",
    "    plt.text(0.5,0.5, str((2, 2, i)), ha='center', fontsize = 10)\n",
    "    plt.tight_layout()\n",
    "    plt.grid(True)"
   ]
  },
  {
   "cell_type": "code",
   "execution_count": 491,
   "id": "d362f7ca",
   "metadata": {},
   "outputs": [
    {
     "data": {
      "image/png": "[encoded data removed]",
      "text/plain": [
       "<Figure size 432x288 with 1 Axes>"
      ]
     },
     "metadata": {
      "needs_background": "light"
     },
     "output_type": "display_data"
    }
   ],
   "source": [
    "plt.grid(True)"
   ]
  },
  {
   "cell_type": "code",
   "execution_count": 505,
   "id": "beae17bc",
   "metadata": {},
   "outputs": [
    {
     "data": {
      "image/png": "[encoded data removed]",
      "text/plain": [
       "<Figure size 504x504 with 4 Axes>"
      ]
     },
     "metadata": {
      "needs_background": "light"
     },
     "output_type": "display_data"
    }
   ],
   "source": [
    "fig, ax = plt.subplots(nrows=2, ncols=2, figsize=(7, 7))\n",
    "ax = ax.flatten()\n",
    "#ax1 = plt.subplot2grid((0, 0), colspan=2, rowspan=2)\n",
    "#ax2 = plt.subplot2grid((2, 0))\n",
    "#ax3 = plt.subplot2grid((2, 1))"
   ]
  },
  {
   "cell_type": "code",
   "execution_count": 506,
   "id": "7b46a62f",
   "metadata": {},
   "outputs": [
    {
     "data": {
      "text/plain": [
       "array([<AxesSubplot:>, <AxesSubplot:>, <AxesSubplot:>, <AxesSubplot:>],\n",
       "      dtype=object)"
      ]
     },
     "execution_count": 506,
     "metadata": {},
     "output_type": "execute_result"
    }
   ],
   "source": [
    "ax"
   ]
  },
  {
   "cell_type": "code",
   "execution_count": 508,
   "id": "28679d90",
   "metadata": {},
   "outputs": [
    {
     "data": {
      "text/plain": [
       "<AxesSubplot:>"
      ]
     },
     "execution_count": 508,
     "metadata": {},
     "output_type": "execute_result"
    }
   ],
   "source": [
    "ax2"
   ]
  },
  {
   "cell_type": "code",
   "execution_count": null,
   "id": "feaa84eb",
   "metadata": {},
   "outputs": [],
   "source": []
  }
 ],
 "metadata": {
  "kernelspec": {
   "display_name": "Python 3",
   "language": "python",
   "name": "python3"
  },
  "language_info": {
   "codemirror_mode": {
    "name": "ipython",
    "version": 3
   },
   "file_extension": ".py",
   "mimetype": "text/x-python",
   "name": "python",
   "nbconvert_exporter": "python",
   "pygments_lexer": "ipython3",
   "version": "3.8.8"
  }
 },
 "nbformat": 4,
 "nbformat_minor": 5
}
