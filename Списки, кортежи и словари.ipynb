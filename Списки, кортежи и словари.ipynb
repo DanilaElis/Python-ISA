{
 "cells": [
  {
   "cell_type": "markdown",
   "id": "d9aeedf0",
   "metadata": {},
   "source": [
    "# Списки"
   ]
  },
  {
   "cell_type": "code",
   "execution_count": 22,
   "id": "912bbdee",
   "metadata": {},
   "outputs": [],
   "source": [
    "import pandas as pd\n",
    "df = pd.read_csv('C:/Users/D.Elistratov/Documents/Презентации лекций/Неделя 6/ПИТОН/Marketing_pilot.csv') #skymusic.marketing_pilot_proc"
   ]
  },
  {
   "cell_type": "code",
   "execution_count": 26,
   "id": "e4c88daa",
   "metadata": {},
   "outputs": [
    {
     "data": {
      "text/plain": [
       "RangeIndex(start=0, stop=15171, step=1)"
      ]
     },
     "execution_count": 26,
     "metadata": {},
     "output_type": "execute_result"
    }
   ],
   "source": [
    "df.index"
   ]
  },
  {
   "cell_type": "code",
   "execution_count": 28,
   "id": "2b60574e",
   "metadata": {},
   "outputs": [
    {
     "data": {
      "text/plain": [
       "2869068964720"
      ]
     },
     "execution_count": 28,
     "metadata": {},
     "output_type": "execute_result"
    }
   ],
   "source": [
    "id(df)"
   ]
  },
  {
   "cell_type": "code",
   "execution_count": 27,
   "id": "1ba3fdff",
   "metadata": {},
   "outputs": [],
   "source": [
    "df = df.set_index('user_id')"
   ]
  },
  {
   "cell_type": "code",
   "execution_count": 19,
   "id": "314aefbc",
   "metadata": {},
   "outputs": [
    {
     "data": {
      "text/plain": [
       "Int64Index([ 5061,  4616,   842,  3571,  4642,   370,  4466,  2692,  3891,\n",
       "              608,\n",
       "            ...\n",
       "            11745, 11746,  9169, 11748, 11749, 11750,   106,  3706, 11753,\n",
       "            11754],\n",
       "           dtype='int64', name='user_id', length=15171)"
      ]
     },
     "execution_count": 19,
     "metadata": {},
     "output_type": "execute_result"
    }
   ],
   "source": [
    "type(df['ad_date'])\n",
    "df['ad_date'].index"
   ]
  },
  {
   "cell_type": "code",
   "execution_count": 29,
   "id": "7a2587e3",
   "metadata": {},
   "outputs": [],
   "source": [
    "a = 3"
   ]
  },
  {
   "cell_type": "code",
   "execution_count": 35,
   "id": "f258b657",
   "metadata": {},
   "outputs": [
    {
     "data": {
      "text/plain": [
       "140736844277712"
      ]
     },
     "execution_count": 35,
     "metadata": {},
     "output_type": "execute_result"
    }
   ],
   "source": [
    "id(a)"
   ]
  },
  {
   "cell_type": "code",
   "execution_count": 33,
   "id": "9e2b38f8",
   "metadata": {},
   "outputs": [],
   "source": [
    "a = a + 3"
   ]
  },
  {
   "cell_type": "code",
   "execution_count": 34,
   "id": "dd121147",
   "metadata": {},
   "outputs": [
    {
     "data": {
      "text/plain": [
       "6"
      ]
     },
     "execution_count": 34,
     "metadata": {},
     "output_type": "execute_result"
    }
   ],
   "source": [
    "a"
   ]
  },
  {
   "cell_type": "code",
   "execution_count": 36,
   "id": "0e220730",
   "metadata": {},
   "outputs": [
    {
     "name": "stdout",
     "output_type": "stream",
     "text": [
      "[1, 2, 3, 4, 5]\n",
      "2869105705664\n"
     ]
    }
   ],
   "source": [
    "lst = [1, 2, 3, 4, 5]\n",
    "\n",
    "#lst.append('Строка')\n",
    "\n",
    "print(lst)\n",
    "print(id(lst))"
   ]
  },
  {
   "cell_type": "code",
   "execution_count": 7,
   "id": "1c942893",
   "metadata": {},
   "outputs": [
    {
     "data": {
      "text/plain": [
       "[3, 4]"
      ]
     },
     "execution_count": 7,
     "metadata": {},
     "output_type": "execute_result"
    }
   ],
   "source": [
    "lst[2:-1]"
   ]
  },
  {
   "cell_type": "code",
   "execution_count": 37,
   "id": "52344638",
   "metadata": {},
   "outputs": [],
   "source": [
    "lst.append('Строка')"
   ]
  },
  {
   "cell_type": "code",
   "execution_count": 38,
   "id": "7bb92e31",
   "metadata": {},
   "outputs": [
    {
     "name": "stdout",
     "output_type": "stream",
     "text": [
      "2869105705664\n"
     ]
    }
   ],
   "source": [
    "print(id(lst))"
   ]
  },
  {
   "cell_type": "code",
   "execution_count": 41,
   "id": "2dd5f846",
   "metadata": {},
   "outputs": [],
   "source": [
    "#ll = [df['ad_date'], df['purchase_date'], 3]\n",
    "#print(ll)"
   ]
  },
  {
   "cell_type": "code",
   "execution_count": 44,
   "id": "fd73b0af",
   "metadata": {},
   "outputs": [],
   "source": [
    "a = [1, 1, 2, 3, 5, 8, 13, 21, 34, 55, 89]"
   ]
  },
  {
   "cell_type": "code",
   "execution_count": 45,
   "id": "c9b0d127",
   "metadata": {},
   "outputs": [
    {
     "name": "stdout",
     "output_type": "stream",
     "text": [
      "1\n",
      "1\n",
      "2\n",
      "3\n"
     ]
    }
   ],
   "source": [
    "for i in a:\n",
    "    if i < 5:\n",
    "        print(i)\n"
   ]
  },
  {
   "cell_type": "code",
   "execution_count": 55,
   "id": "b91e2157",
   "metadata": {},
   "outputs": [
    {
     "name": "stdout",
     "output_type": "stream",
     "text": [
      "Первый:1; последний:5\n"
     ]
    }
   ],
   "source": [
    "lst = [1, 2, 3, 4, 5]\n",
    "#print(lst[0])\n",
    "#print(lst[-1])\n",
    "print('Первый:'+str(lst[0])+'; последний:'+str(lst[-1]))\n",
    "#print(f'Первый: {lst[0]}; последний: {lst[-1]}')"
   ]
  },
  {
   "cell_type": "code",
   "execution_count": 58,
   "id": "ebe15713",
   "metadata": {},
   "outputs": [
    {
     "name": "stdout",
     "output_type": "stream",
     "text": [
      "LALANANA\n"
     ]
    }
   ],
   "source": [
    "a = 'LALA'\n",
    "b= 'NANA'\n",
    "print(a+b)"
   ]
  },
  {
   "cell_type": "code",
   "execution_count": null,
   "id": "e221dedc",
   "metadata": {},
   "outputs": [],
   "source": []
  },
  {
   "cell_type": "code",
   "execution_count": 59,
   "id": "541f7855",
   "metadata": {},
   "outputs": [],
   "source": [
    "x = (1,2,3)"
   ]
  },
  {
   "cell_type": "code",
   "execution_count": 60,
   "id": "6ef0988f",
   "metadata": {},
   "outputs": [
    {
     "data": {
      "text/plain": [
       "(1, 2, 3)"
      ]
     },
     "execution_count": 60,
     "metadata": {},
     "output_type": "execute_result"
    }
   ],
   "source": [
    "x"
   ]
  },
  {
   "cell_type": "code",
   "execution_count": 61,
   "id": "35a72550",
   "metadata": {},
   "outputs": [
    {
     "data": {
      "text/plain": [
       "tuple"
      ]
     },
     "execution_count": 61,
     "metadata": {},
     "output_type": "execute_result"
    }
   ],
   "source": [
    "type(x)"
   ]
  },
  {
   "cell_type": "code",
   "execution_count": 62,
   "id": "b21ee0cf",
   "metadata": {},
   "outputs": [],
   "source": [
    "x = 1,2,3"
   ]
  },
  {
   "cell_type": "code",
   "execution_count": 63,
   "id": "84e0d908",
   "metadata": {},
   "outputs": [
    {
     "data": {
      "text/plain": [
       "(1, 2, 3)"
      ]
     },
     "execution_count": 63,
     "metadata": {},
     "output_type": "execute_result"
    }
   ],
   "source": [
    "x"
   ]
  },
  {
   "cell_type": "code",
   "execution_count": 64,
   "id": "71c39fc0",
   "metadata": {},
   "outputs": [],
   "source": [
    "def my_func(a):\n",
    "    b = a**2\n",
    "    c = a**3\n",
    "    return b, c"
   ]
  },
  {
   "cell_type": "code",
   "execution_count": 65,
   "id": "fa3a4cf0",
   "metadata": {},
   "outputs": [
    {
     "data": {
      "text/plain": [
       "(9, 27)"
      ]
     },
     "execution_count": 65,
     "metadata": {},
     "output_type": "execute_result"
    }
   ],
   "source": [
    "my_func(3)"
   ]
  },
  {
   "cell_type": "code",
   "execution_count": 74,
   "id": "d73d8b48",
   "metadata": {},
   "outputs": [],
   "source": [
    "var1, var2 = my_func(3)\n",
    "var = my_func(3)"
   ]
  },
  {
   "cell_type": "code",
   "execution_count": 75,
   "id": "118ce532",
   "metadata": {},
   "outputs": [
    {
     "name": "stdout",
     "output_type": "stream",
     "text": [
      "<class 'int'>\n",
      "<class 'int'>\n",
      "<class 'tuple'>\n"
     ]
    }
   ],
   "source": [
    "print(type(var1))\n",
    "print(type(var2))\n",
    "print(type(var))\n"
   ]
  },
  {
   "cell_type": "code",
   "execution_count": null,
   "id": "3625c7c0",
   "metadata": {},
   "outputs": [],
   "source": []
  },
  {
   "cell_type": "code",
   "execution_count": null,
   "id": "1f19785a",
   "metadata": {},
   "outputs": [],
   "source": []
  },
  {
   "cell_type": "code",
   "execution_count": null,
   "id": "90029c3e",
   "metadata": {},
   "outputs": [],
   "source": []
  },
  {
   "cell_type": "code",
   "execution_count": 76,
   "id": "bfb0bd1a",
   "metadata": {},
   "outputs": [
    {
     "name": "stdout",
     "output_type": "stream",
     "text": [
      "<class 'list'>\n",
      "2869104205568\n",
      "<class 'tuple'>\n",
      "2869104443712\n"
     ]
    }
   ],
   "source": [
    "c = [1,2,3]\n",
    "print(type(c))\n",
    "print(id(c))\n",
    "\n",
    "d = 1,2,3\n",
    "print(type(d))\n",
    "print(id(d))\n"
   ]
  },
  {
   "cell_type": "code",
   "execution_count": 77,
   "id": "b7881682",
   "metadata": {},
   "outputs": [
    {
     "name": "stdout",
     "output_type": "stream",
     "text": [
      "[1, 2, 3, 4]\n",
      "2869104205568\n"
     ]
    }
   ],
   "source": [
    "c.append(4)\n",
    "print(c)\n",
    "print(id(c))"
   ]
  },
  {
   "cell_type": "code",
   "execution_count": 78,
   "id": "8c869c24",
   "metadata": {},
   "outputs": [
    {
     "name": "stdout",
     "output_type": "stream",
     "text": [
      "(1, 2, 3, 4)\n",
      "2869104557328\n"
     ]
    }
   ],
   "source": [
    "d = d + (4,)\n",
    "print(d)\n",
    "print(id(d))"
   ]
  },
  {
   "cell_type": "markdown",
   "id": "d3863aaa",
   "metadata": {},
   "source": [
    "# Кортежи"
   ]
  },
  {
   "cell_type": "code",
   "execution_count": 79,
   "id": "d101a308",
   "metadata": {},
   "outputs": [
    {
     "name": "stdout",
     "output_type": "stream",
     "text": [
      "()\n",
      "()\n"
     ]
    }
   ],
   "source": [
    "x = ()\n",
    "print(x)\n",
    "#Create an empty tuple with tuple() function built-in Python\n",
    "tuplex = tuple()\n",
    "print(tuplex)"
   ]
  },
  {
   "cell_type": "code",
   "execution_count": 87,
   "id": "4baceb0d",
   "metadata": {},
   "outputs": [
    {
     "name": "stdout",
     "output_type": "stream",
     "text": [
      "(5,)\n",
      "<class 'tuple'>\n"
     ]
    }
   ],
   "source": [
    "#Create a tuple with numbers\n",
    "#tuplex = 5, 10, 15, 20, 25\n",
    "#print(tuplex)\n",
    "\n",
    "#Create a tuple of one item\n",
    "tuplex = (5,)\n",
    "print(tuplex)\n",
    "print(type(tuplex))"
   ]
  },
  {
   "cell_type": "code",
   "execution_count": 90,
   "id": "6981d2ec",
   "metadata": {},
   "outputs": [
    {
     "name": "stdout",
     "output_type": "stream",
     "text": [
      "[5]\n",
      "<class 'list'>\n"
     ]
    }
   ],
   "source": [
    "listx = [5,]\n",
    "print(listx)\n",
    "print(type(listx))"
   ]
  },
  {
   "cell_type": "code",
   "execution_count": null,
   "id": "5ead1bf4",
   "metadata": {},
   "outputs": [],
   "source": []
  },
  {
   "cell_type": "code",
   "execution_count": 91,
   "id": "c51859d9",
   "metadata": {},
   "outputs": [],
   "source": [
    "t = 'a', 'b'"
   ]
  },
  {
   "cell_type": "code",
   "execution_count": 92,
   "id": "ddf1b6e8",
   "metadata": {},
   "outputs": [
    {
     "data": {
      "text/plain": [
       "('a', 'b')"
      ]
     },
     "execution_count": 92,
     "metadata": {},
     "output_type": "execute_result"
    }
   ],
   "source": [
    "t"
   ]
  },
  {
   "cell_type": "code",
   "execution_count": 103,
   "id": "8b3d2b39",
   "metadata": {},
   "outputs": [
    {
     "name": "stdout",
     "output_type": "stream",
     "text": [
      "2\n"
     ]
    }
   ],
   "source": [
    "listx = [1,2,3]\n",
    "n1, n2, n3 = listx\n",
    "print(n2)"
   ]
  },
  {
   "cell_type": "code",
   "execution_count": 104,
   "id": "795e82d7",
   "metadata": {},
   "outputs": [
    {
     "name": "stdout",
     "output_type": "stream",
     "text": [
      "(4, 8, 3)\n"
     ]
    }
   ],
   "source": [
    "#create a tuple\n",
    "tuplex = 4, 8, 3 \n",
    "print(tuplex)\n",
    "\n",
    "\n",
    "n1, n2, n3 = tuplex\n",
    "#unpack a tuple in variables\n",
    "#print(n2)\n",
    "\n",
    "#print(n1 + n2 + n3) \n",
    "#the number of variables must be equal to the number of items of the tuple\n",
    "n1, n2, n3 = tuplex "
   ]
  },
  {
   "cell_type": "code",
   "execution_count": 110,
   "id": "b3c844ac",
   "metadata": {},
   "outputs": [
    {
     "data": {
      "text/plain": [
       "(4, 6, 2)"
      ]
     },
     "execution_count": 110,
     "metadata": {},
     "output_type": "execute_result"
    }
   ],
   "source": [
    "tuplex[:3]"
   ]
  },
  {
   "cell_type": "code",
   "execution_count": 116,
   "id": "9a5a2c40",
   "metadata": {},
   "outputs": [
    {
     "name": "stdout",
     "output_type": "stream",
     "text": [
      "Адрес tuplex  =  2869104408320\n",
      "\n",
      "\n",
      "Адрес tuplex  =  2869104408320\n",
      "Адрес tuplex2 =  2869104408704\n",
      "\n",
      "\n",
      "Адрес tuplex  =  2869104408320\n",
      "Адрес tuplex2 =  2869104408704\n",
      "Адрес tuplex3 =  2869104552976\n",
      "\n",
      "\n"
     ]
    }
   ],
   "source": [
    "#create a tuple\n",
    "tuplex = (4, 6, 2, 8, 3, 1) \n",
    "print(\"Адрес tuplex  = \",id(tuplex))\n",
    "print('\\n')\n",
    "#print(tuplex)\n",
    "\n",
    "#tuples are immutable, so you can not add new elements\n",
    "#using merge of tuples with the + operator you can add an element and it will create a new tuple\n",
    "tuplex2 = tuplex + (9,)\n",
    "print(\"Адрес tuplex  = \",id(tuplex))\n",
    "print(\"Адрес tuplex2 = \",id(tuplex2))\n",
    "print('\\n')\n",
    "#print(tuplex)\n",
    "\n",
    "#adding items in a specific index\n",
    "tuplex3 = tuplex2[:5] + (15, 20, 25) + tuplex2[:5]\n",
    "#print(tuplex)\n",
    "print(\"Адрес tuplex  = \",id(tuplex))\n",
    "print(\"Адрес tuplex2 = \",id(tuplex2))\n",
    "print(\"Адрес tuplex3 = \",id(tuplex3))\n",
    "print('\\n')\n",
    "\n",
    "#converting the tuple to list\n",
    "#listx = list(tuplex) \n",
    "\n",
    "#use different ways to add items in list\n",
    "#listx.append(30)\n",
    "#tuplex = tuple(listx)\n",
    "#print(tuplex)"
   ]
  },
  {
   "cell_type": "code",
   "execution_count": 118,
   "id": "f77314b6",
   "metadata": {},
   "outputs": [
    {
     "name": "stdout",
     "output_type": "stream",
     "text": [
      "\n",
      "\n",
      "(4, 6, 2, 8, 3, 1)\n",
      "\n",
      "\n",
      "(4, 6, 2, 8, 3, 1, 9)\n",
      "(4, 6, 2, 8, 3, 15, 20, 25, 4, 6, 2, 8, 3)\n",
      "\n",
      "\n"
     ]
    }
   ],
   "source": [
    "#create a tuple\n",
    "tuplex = (4, 6, 2, 8, 3, 1) \n",
    "#print(\"Адрес tuplex  = \",id(tuplex))\n",
    "print('\\n')\n",
    "print(tuplex)\n",
    "\n",
    "#tuples are immutable, so you can not add new elements\n",
    "#using merge of tuples with the + operator you can add an element and it will create a new tuple\n",
    "tuplex = tuplex + (9,)\n",
    "#print(\"Адрес tuplex  = \",id(tuplex))\n",
    "print('\\n')\n",
    "print(tuplex)\n",
    "\n",
    "#adding items in a specific index\n",
    "tuplex = tuplex[:5] + (15, 20, 25) + tuplex[:5]\n",
    "print(tuplex)\n",
    "#print(\"Адрес tuplex  = \",id(tuplex))\n",
    "print('\\n')"
   ]
  },
  {
   "cell_type": "code",
   "execution_count": 121,
   "id": "9a5b6804",
   "metadata": {},
   "outputs": [],
   "source": [
    "listx = list(tuplex) \n",
    "\n",
    "lst1 = [1,3,5,7]\n",
    "tpl1 = tuple(lst1)"
   ]
  },
  {
   "cell_type": "code",
   "execution_count": 123,
   "id": "1ae9de34",
   "metadata": {},
   "outputs": [
    {
     "data": {
      "text/plain": [
       "[1, 3]"
      ]
     },
     "execution_count": 123,
     "metadata": {},
     "output_type": "execute_result"
    }
   ],
   "source": [
    "lst1[:2]"
   ]
  },
  {
   "cell_type": "code",
   "execution_count": 122,
   "id": "b22d6531",
   "metadata": {},
   "outputs": [
    {
     "data": {
      "text/plain": [
       "(1, 3, 5, 7)"
      ]
     },
     "execution_count": 122,
     "metadata": {},
     "output_type": "execute_result"
    }
   ],
   "source": [
    "tpl1"
   ]
  },
  {
   "cell_type": "code",
   "execution_count": 130,
   "id": "05484281",
   "metadata": {},
   "outputs": [
    {
     "name": "stdout",
     "output_type": "stream",
     "text": [
      "exercises\n"
     ]
    }
   ],
   "source": [
    "tup = ('e', 'x', 'e', 'r', 'c', 'i', 's', 'e', 's')\n",
    "str =  ''.join(tup)\n",
    "print(str)"
   ]
  },
  {
   "cell_type": "code",
   "execution_count": null,
   "id": "8d051589",
   "metadata": {},
   "outputs": [],
   "source": []
  },
  {
   "cell_type": "code",
   "execution_count": 131,
   "id": "1e9096c8",
   "metadata": {},
   "outputs": [
    {
     "name": "stdout",
     "output_type": "stream",
     "text": [
      "exercises\n"
     ]
    }
   ],
   "source": [
    "lst = ['e', 'x', 'e', 'r', 'c', 'i', 's', 'e', 's']\n",
    "str =  ''.join(lst)\n",
    "print(str)"
   ]
  },
  {
   "cell_type": "code",
   "execution_count": null,
   "id": "dd876405",
   "metadata": {},
   "outputs": [],
   "source": []
  },
  {
   "cell_type": "code",
   "execution_count": 132,
   "id": "a1282cd1",
   "metadata": {},
   "outputs": [
    {
     "name": "stdout",
     "output_type": "stream",
     "text": [
      "True\n",
      "False\n"
     ]
    }
   ],
   "source": [
    "tuplex = (\"w\", 3, \"r\", \"e\", \"s\", \"o\", \"u\", \"r\", \"c\", \"e\")\n",
    "print(\"r\" in tuplex)\n",
    "print(5 in tuplex)"
   ]
  },
  {
   "cell_type": "code",
   "execution_count": 133,
   "id": "928d2c68",
   "metadata": {},
   "outputs": [
    {
     "name": "stdout",
     "output_type": "stream",
     "text": [
      "True\n",
      "False\n"
     ]
    }
   ],
   "source": [
    "listx = [\"w\", 3, \"r\", \"e\", \"s\", \"o\", \"u\", \"r\", \"c\", \"e\"]\n",
    "print(\"r\" in listx)\n",
    "print(5 in listx)"
   ]
  },
  {
   "cell_type": "code",
   "execution_count": null,
   "id": "4026821d",
   "metadata": {},
   "outputs": [],
   "source": [
    "#Convert list to tuple\n",
    "listx = [5, 10, 7, 4, 15, 3]\n",
    "print(listx)\n",
    "#use the tuple() function built-in Python, passing as parameter the list\n",
    "tuplex = tuple(listx)\n",
    "print(tuplex)"
   ]
  },
  {
   "cell_type": "code",
   "execution_count": 157,
   "id": "6b34e1b0",
   "metadata": {},
   "outputs": [
    {
     "name": "stdout",
     "output_type": "stream",
     "text": [
      "[1, 2, 3, 4, 5]\n",
      "(2, 3, 4, 5)\n"
     ]
    }
   ],
   "source": [
    "tuplex = (1,2,3,4,5)\n",
    "#print(tuplex)\n",
    "#lstt = list(tuplex)\n",
    "print(lstt)\n",
    "#print(lstt)\n",
    "#lstt.remove(4)\n",
    "#print(lstt)\n",
    "#tuplex = tuple(lstt)\n",
    "#print(tuplex)\n",
    "\n",
    "lstt = list(tuplex)\n",
    "lstt.remove(1)\n",
    "tuplex = tuple(lstt)\n",
    "\n",
    "print(tuplex)"
   ]
  },
  {
   "cell_type": "code",
   "execution_count": 158,
   "id": "e374b81a",
   "metadata": {},
   "outputs": [
    {
     "name": "stdout",
     "output_type": "stream",
     "text": [
      "('w', 3, 'r', 's', 'o', 'u', 'r', 'c', 'e')\n",
      "('w', 3, 's', 'o', 'u', 'r', 'c', 'e')\n",
      "('w', 3, 's', 'o', 'u', 'r', 'e')\n"
     ]
    }
   ],
   "source": [
    "#create a tuple\n",
    "tuplex = \"w\", 3, \"r\", \"s\", \"o\", \"u\", \"r\", \"c\", \"e\"\n",
    "print(tuplex)\n",
    "\n",
    "#tuples are immutable, so you can not remove elements\n",
    "#using merge of tuples with the + operator you can remove an item and it will create a new tuple\n",
    "tuplex = tuplex[:2] + tuplex[3:]\n",
    "print(tuplex)\n",
    "\n",
    "#converting the tuple to list\n",
    "listx = list(tuplex) \n",
    "\n",
    "#use different ways to remove an item of the list\n",
    "listx.remove(\"c\") \n",
    "#converting the tuple to list\n",
    "tuplex = tuple(listx)\n",
    "print(tuplex)"
   ]
  },
  {
   "cell_type": "code",
   "execution_count": 159,
   "id": "873d3d3d",
   "metadata": {},
   "outputs": [
    {
     "name": "stdout",
     "output_type": "stream",
     "text": [
      "<class 'slice'>\n",
      "(2, 4, 3, 5, 4, 6)\n",
      "(6, 7, 8, 6, 1)\n",
      "(2, 4, 3, 5, 4, 6, 7, 8, 6, 1)\n",
      "(3, 5, 4, 6)\n",
      "('H', 'E', 'L', 'L', 'O', ' ', 'W', 'O', 'R', 'L', 'D')\n",
      "('L', 'O', 'W', 'R')\n",
      "('H', 'O', 'R')\n",
      "('L', ' ')\n"
     ]
    }
   ],
   "source": [
    "#create a tuple\n",
    "tuplex = (2, 4, 3, 5, 4, 6, 7, 8, 6, 1)\n",
    "#used tuple[start:stop] the start index is inclusive and the stop index\n",
    "_slice = tuplex[3:5]\n",
    "#is exclusive\n",
    "print(slice)\n",
    "\n",
    "#if the start index isn't defined, is taken from the beg inning of the tuple\n",
    "_slice = tuplex[:6]\n",
    "print(_slice)\n",
    "\n",
    "#if the end index isn't defined, is taken until the end of the tuple\n",
    "_slice = tuplex[5:]\n",
    "print(_slice)\n",
    "\n",
    "#if neither is defined, returns the full tuple\n",
    "_slice = tuplex[:]\n",
    "print(_slice)\n",
    "\n",
    "#The indexes can be defined with negative values\n",
    "_slice = tuplex[-8:-4]\n",
    "print(_slice)\n",
    "\n",
    "#create another tuple\n",
    "tuplex = tuple(\"HELLO WORLD\")\n",
    "print(tuplex)\n",
    "\n",
    "#step specify an increment between the elements to cut of the tuple\n",
    "#tuple[start:stop:step]\n",
    "_slice = tuplex[2:9:2]\n",
    "print(_slice)\n",
    "\n",
    "#returns a tuple with a jump every 3 items\n",
    "_slice = tuplex[::4]\n",
    "print(_slice)\n",
    "\n",
    "#when step is negative the jump is made back\n",
    "_slice = tuplex[9:2:-4]\n",
    "print(_slice)"
   ]
  },
  {
   "cell_type": "code",
   "execution_count": null,
   "id": "74c6c7b5",
   "metadata": {},
   "outputs": [],
   "source": [
    "#create a tuple\n",
    "tuplex = tuple(\"index tuple\")\n",
    "print(tuplex)\n",
    "#get index of the first item whose value is passed as parameter\n",
    "index = tuplex.index(\"p\")\n",
    "print(index)\n",
    "#define the index from which you want to search\n",
    "index = tuplex.index(\"p\", 5)\n",
    "print(index)\n",
    "#define the segment of the tuple to be searched\n",
    "index = tuplex.index(\"e\", 3, 6)\n",
    "print(index)\n",
    "#if item not exists in the tuple return ValueError Exception\n",
    "index = tuplex.index(\"y\")"
   ]
  },
  {
   "cell_type": "code",
   "execution_count": null,
   "id": "c28d3739",
   "metadata": {},
   "outputs": [],
   "source": [
    "#create a tuple\n",
    "tuplex = tuple(\"w3resource\")\n",
    "print(tuplex)\n",
    "#use the len() function to known the length of tuple\n",
    "print(len(tuplex))"
   ]
  },
  {
   "cell_type": "code",
   "execution_count": 190,
   "id": "c34c197c",
   "metadata": {},
   "outputs": [],
   "source": [
    "a = 1,2,3,4,5,6,7"
   ]
  },
  {
   "cell_type": "code",
   "execution_count": 191,
   "id": "cefa68f1",
   "metadata": {},
   "outputs": [
    {
     "name": "stdout",
     "output_type": "stream",
     "text": [
      "(1, 2, 3, 4, 5, 6, 7)\n"
     ]
    }
   ],
   "source": [
    "print(a[::])"
   ]
  },
  {
   "cell_type": "code",
   "execution_count": 193,
   "id": "3a451553",
   "metadata": {},
   "outputs": [
    {
     "name": "stdout",
     "output_type": "stream",
     "text": [
      "(1, 3, 5, 7)\n"
     ]
    }
   ],
   "source": [
    "print(a[::2])"
   ]
  },
  {
   "cell_type": "code",
   "execution_count": 194,
   "id": "a4d066a3",
   "metadata": {},
   "outputs": [
    {
     "name": "stdout",
     "output_type": "stream",
     "text": [
      "(7, 6, 5, 4, 3, 2, 1)\n"
     ]
    }
   ],
   "source": [
    "print(a[::-1])"
   ]
  },
  {
   "cell_type": "code",
   "execution_count": 195,
   "id": "6a60f7a3",
   "metadata": {},
   "outputs": [
    {
     "name": "stdout",
     "output_type": "stream",
     "text": [
      "(7, 5, 3, 1)\n"
     ]
    }
   ],
   "source": [
    "print(a[::-2])"
   ]
  },
  {
   "cell_type": "code",
   "execution_count": 184,
   "id": "e4950a13",
   "metadata": {},
   "outputs": [],
   "source": [
    "new_tup = x_tuple[::-1]"
   ]
  },
  {
   "cell_type": "code",
   "execution_count": 185,
   "id": "b75ecd9d",
   "metadata": {},
   "outputs": [
    {
     "data": {
      "text/plain": [
       "('c', 'b', 'a')"
      ]
     },
     "execution_count": 185,
     "metadata": {},
     "output_type": "execute_result"
    }
   ],
   "source": [
    "new_tup"
   ]
  },
  {
   "cell_type": "code",
   "execution_count": 188,
   "id": "798e2ce8",
   "metadata": {},
   "outputs": [],
   "source": [
    "new_list = x_list[::-2]"
   ]
  },
  {
   "cell_type": "code",
   "execution_count": 189,
   "id": "4fcc3044",
   "metadata": {},
   "outputs": [
    {
     "data": {
      "text/plain": [
       "['c', 'a']"
      ]
     },
     "execution_count": 189,
     "metadata": {},
     "output_type": "execute_result"
    }
   ],
   "source": [
    "new_list"
   ]
  },
  {
   "cell_type": "markdown",
   "id": "eac13dcf",
   "metadata": {},
   "source": [
    "# Словари"
   ]
  },
  {
   "cell_type": "code",
   "execution_count": null,
   "id": "e9cf1479",
   "metadata": {},
   "outputs": [],
   "source": [
    "import operator \n"
   ]
  },
  {
   "cell_type": "code",
   "execution_count": 231,
   "id": "4886a568",
   "metadata": {},
   "outputs": [
    {
     "ename": "TypeError",
     "evalue": "unhashable type: 'list'",
     "output_type": "error",
     "traceback": [
      "\u001b[1;31m---------------------------------------------------------------------------\u001b[0m",
      "\u001b[1;31mTypeError\u001b[0m                                 Traceback (most recent call last)",
      "\u001b[1;32m<ipython-input-231-10af5bad08bd>\u001b[0m in \u001b[0;36m<module>\u001b[1;34m\u001b[0m\n\u001b[1;32m----> 1\u001b[1;33m dict1 = {\n\u001b[0m\u001b[0;32m      2\u001b[0m     \u001b[1;34m'Ваня'\u001b[0m\u001b[1;33m:\u001b[0m\u001b[1;36m6\u001b[0m\u001b[1;33m\u001b[0m\u001b[1;33m\u001b[0m\u001b[0m\n\u001b[0;32m      3\u001b[0m     \u001b[1;33m,\u001b[0m\u001b[1;34m'Вася'\u001b[0m\u001b[1;33m:\u001b[0m\u001b[1;36m5\u001b[0m\u001b[1;33m\u001b[0m\u001b[1;33m\u001b[0m\u001b[0m\n\u001b[0;32m      4\u001b[0m     \u001b[1;33m,\u001b[0m\u001b[1;34m'Даня'\u001b[0m\u001b[1;33m:\u001b[0m\u001b[1;36m4\u001b[0m\u001b[1;33m\u001b[0m\u001b[1;33m\u001b[0m\u001b[0m\n\u001b[0;32m      5\u001b[0m     \u001b[1;33m,\u001b[0m \u001b[1;36m6\u001b[0m\u001b[1;33m:\u001b[0m\u001b[1;34m'lll'\u001b[0m\u001b[1;33m\u001b[0m\u001b[1;33m\u001b[0m\u001b[0m\n",
      "\u001b[1;31mTypeError\u001b[0m: unhashable type: 'list'"
     ]
    }
   ],
   "source": [
    "dict1 = {\n",
    "    'Ваня':6\n",
    "    ,'Вася':5\n",
    "    ,'Даня':4\n",
    "    , 6:'lll'\n",
    "    , (3,4): 3\n",
    "    , [1,2]: 4\n",
    "}"
   ]
  },
  {
   "cell_type": "code",
   "execution_count": 206,
   "id": "a6f5d042",
   "metadata": {},
   "outputs": [
    {
     "data": {
      "text/plain": [
       "dict"
      ]
     },
     "execution_count": 206,
     "metadata": {},
     "output_type": "execute_result"
    }
   ],
   "source": [
    "type(dict1)"
   ]
  },
  {
   "cell_type": "code",
   "execution_count": 207,
   "id": "eb593fc0",
   "metadata": {},
   "outputs": [
    {
     "data": {
      "text/plain": [
       "{'Ваня': 6, 'Вася': 5, 'Даня': 4, 6: 'lll', (3, 4): 3}"
      ]
     },
     "execution_count": 207,
     "metadata": {},
     "output_type": "execute_result"
    }
   ],
   "source": [
    "dict1"
   ]
  },
  {
   "cell_type": "code",
   "execution_count": 212,
   "id": "667a14c3",
   "metadata": {},
   "outputs": [],
   "source": [
    "dict2 = {\n",
    "    'id_driver':'count'\n",
    "    ,'cnt_all':'sum'\n",
    "    ,'payment':'mean'\n",
    "}"
   ]
  },
  {
   "cell_type": "code",
   "execution_count": 213,
   "id": "f0cf399b",
   "metadata": {},
   "outputs": [
    {
     "name": "stdout",
     "output_type": "stream",
     "text": [
      "{'id_driver': 'count', 'cnt_all': 'sum', 'payment': 'mean'}\n"
     ]
    }
   ],
   "source": [
    "print(dict2)"
   ]
  },
  {
   "cell_type": "code",
   "execution_count": 220,
   "id": "1e8f7930",
   "metadata": {},
   "outputs": [
    {
     "name": "stdout",
     "output_type": "stream",
     "text": [
      "{0: 10, 1: 20}\n",
      "None\n"
     ]
    }
   ],
   "source": [
    "d = {0:10, 1:20}\n",
    "print(d)\n",
    "\n",
    "d.update({2:30})\n",
    "print(d)"
   ]
  },
  {
   "cell_type": "code",
   "execution_count": 224,
   "id": "ce128245",
   "metadata": {},
   "outputs": [
    {
     "name": "stdout",
     "output_type": "stream",
     "text": [
      "[1, 2, 3, 4]\n"
     ]
    }
   ],
   "source": [
    "a = [1,2,3]\n",
    "a.append(4)\n",
    "b = a\n",
    "print(b)"
   ]
  },
  {
   "cell_type": "code",
   "execution_count": 225,
   "id": "c0ac54c5",
   "metadata": {},
   "outputs": [
    {
     "name": "stdout",
     "output_type": "stream",
     "text": [
      "Значение 1\n",
      "Значение 3\n"
     ]
    },
    {
     "ename": "KeyError",
     "evalue": "'lala'",
     "output_type": "error",
     "traceback": [
      "\u001b[1;31m---------------------------------------------------------------------------\u001b[0m",
      "\u001b[1;31mKeyError\u001b[0m                                  Traceback (most recent call last)",
      "\u001b[1;32m<ipython-input-225-8e75e09b8908>\u001b[0m in \u001b[0;36m<module>\u001b[1;34m\u001b[0m\n\u001b[0;32m      2\u001b[0m \u001b[0mprint\u001b[0m\u001b[1;33m(\u001b[0m\u001b[0mmy_dict\u001b[0m\u001b[1;33m[\u001b[0m\u001b[1;36m121\u001b[0m\u001b[1;33m]\u001b[0m\u001b[1;33m)\u001b[0m\u001b[1;33m\u001b[0m\u001b[1;33m\u001b[0m\u001b[0m\n\u001b[0;32m      3\u001b[0m \u001b[0mprint\u001b[0m\u001b[1;33m(\u001b[0m\u001b[0mmy_dict\u001b[0m\u001b[1;33m[\u001b[0m\u001b[1;34m'key 3'\u001b[0m\u001b[1;33m]\u001b[0m\u001b[1;33m)\u001b[0m\u001b[1;33m\u001b[0m\u001b[1;33m\u001b[0m\u001b[0m\n\u001b[1;32m----> 4\u001b[1;33m \u001b[0mprint\u001b[0m\u001b[1;33m(\u001b[0m\u001b[0mmy_dict\u001b[0m\u001b[1;33m[\u001b[0m\u001b[1;34m'lala'\u001b[0m\u001b[1;33m]\u001b[0m\u001b[1;33m)\u001b[0m\u001b[1;33m\u001b[0m\u001b[1;33m\u001b[0m\u001b[0m\n\u001b[0m",
      "\u001b[1;31mKeyError\u001b[0m: 'lala'"
     ]
    }
   ],
   "source": [
    "my_dict = {121: 'Значение 1', 'key2': 'Значение 2', 'key 3': 'Значение 3'}\n",
    "print(my_dict[121])\n",
    "print(my_dict['key 3'])\n",
    "print(my_dict['lala'])\n"
   ]
  },
  {
   "cell_type": "code",
   "execution_count": 230,
   "id": "00e80cea",
   "metadata": {},
   "outputs": [
    {
     "name": "stdout",
     "output_type": "stream",
     "text": [
      "Значение 1\n",
      "Значение 2\n",
      "Что ты несешь???\n"
     ]
    }
   ],
   "source": [
    "print(my_dict.get(121,'Что ты несешь???'))\n",
    "print(my_dict.get('key2','Что ты несешь???'))\n",
    "print(my_dict.get('lala','Что ты несешь???'))\n"
   ]
  },
  {
   "cell_type": "markdown",
   "id": "808f1def",
   "metadata": {},
   "source": [
    "Главное требование к имени ключа словаря в Python – он должен быть хешируем (не изменяем). \n",
    "По сути, это означает его неизменяемость, немутируемость.\n",
    "К немутабельным объектам относят: строки, числа, булевы значения, кортежи, frozenset и некоторые другие. \n",
    "    Также, в словаре не может быть двух ключей с одинаковыми наименованиями."
   ]
  },
  {
   "cell_type": "code",
   "execution_count": 238,
   "id": "c0d7d943",
   "metadata": {},
   "outputs": [
    {
     "name": "stdout",
     "output_type": "stream",
     "text": [
      "5\n",
      "[1, 2, 99]\n",
      "71\n"
     ]
    }
   ],
   "source": [
    "my_dict = {1.1: 120, 'k2': 'Nice key', (2, 4): [1, 2, 99], True: 71, 1.1:5}\n",
    "print(my_dict[1.1])\n",
    "print(my_dict[(2, 4)])\n",
    "print(my_dict[True])\n",
    "#print(my_dict[6]) # Появится ошибка, говорящая о неверном ключе"
   ]
  },
  {
   "cell_type": "code",
   "execution_count": 237,
   "id": "32db5d79",
   "metadata": {},
   "outputs": [
    {
     "data": {
      "text/plain": [
       "{1.1: 5, 'k2': 'Nice key', (2, 4): [1, 2, 99], True: 71}"
      ]
     },
     "execution_count": 237,
     "metadata": {},
     "output_type": "execute_result"
    }
   ],
   "source": [
    "my_dict"
   ]
  },
  {
   "cell_type": "code",
   "execution_count": null,
   "id": "b8980167",
   "metadata": {},
   "outputs": [],
   "source": [
    "my_dict = {1.1: 120, 'k2': 'Nice key', (2, 4): [1, 2, 99], True: 71, frozenset({9, 1}): 'Значение',[1, 2, 3]:1}\n"
   ]
  },
  {
   "cell_type": "code",
   "execution_count": null,
   "id": "33929e80",
   "metadata": {},
   "outputs": [],
   "source": []
  },
  {
   "cell_type": "markdown",
   "id": "4c70a48d",
   "metadata": {},
   "source": [
    "Методы keys(), items(), values() еще называют объектами views (объекты просмотра словаря). Они позволяют просматривать все элементы словаря и имеют некоторые особенности:\n",
    "\n",
    "1. keys() – возвращает список ключей в исходном порядке, все элементы уникальны, ведут себя как множество (set): могут объединяться, пересекаться и т.п., являются итерабельными, их нельзя менять напрямую и вызывать по индексу\n",
    "2. values() – контейнер со значениями словаря, в котором элементы могут повторяться (т.е. не ведет себя как множество). В остальном, свойства аналогичны методу keys()\n",
    "3. items() – список элементов словаря в виде кортежей, где первым идет ключ, а вторым объектом – значение. Если значения словаря неизменямые, то контейнер items() будет обладать свойствами сета. Остальные особенности совпадают с keys()\n",
    "Немаловажная специфика объектов views – они динамично меняются при любых изменениях словаря."
   ]
  },
  {
   "cell_type": "code",
   "execution_count": 244,
   "id": "f6f9e089",
   "metadata": {},
   "outputs": [
    {
     "name": "stdout",
     "output_type": "stream",
     "text": [
      "dict_keys([1, 2, 3, 4])\n",
      "<class 'dict_keys'>\n",
      "1\n",
      "<class 'int'>\n",
      "2\n",
      "<class 'int'>\n",
      "3\n",
      "<class 'int'>\n",
      "4\n",
      "<class 'int'>\n"
     ]
    }
   ],
   "source": [
    "my_dict = {1: 'value 1', 2: 'value 2', 3: 'value 3', 4: 'value 4'}\n",
    "keys = my_dict.keys()\n",
    "print(keys)\n",
    "print(type(keys))\n",
    "\n",
    "#######################################################################\n",
    "\n",
    "for i in keys:\n",
    "    print(i)\n",
    "    print(type(i))"
   ]
  },
  {
   "cell_type": "code",
   "execution_count": 247,
   "id": "49b49f0f",
   "metadata": {},
   "outputs": [
    {
     "data": {
      "text/plain": [
       "dict_keys([1, 2, 3, 4])"
      ]
     },
     "execution_count": 247,
     "metadata": {},
     "output_type": "execute_result"
    }
   ],
   "source": [
    "my_dict = {1: 'value 1', 2: 'value 2', 3: 'value 3', 4: 'value 4'}\n",
    "keys = my_dict.keys()\n",
    "keys # Порядок ключей сохраняется\n",
    "\n",
    "# Объект keys итерируемый\n",
    "#for element in keys:\n",
    "#    print(element)\n",
    "    \n",
    "# Нельзя обратиться к элементу по индексу или добавить / удалить новые\n",
    "#keys[0] # Ошибка TypeError\n",
    "#keys[0] = 121 # Ошибка TypeError\n",
    "#del keys[0] # Ошибка TypeError"
   ]
  },
  {
   "cell_type": "code",
   "execution_count": null,
   "id": "9db6044e",
   "metadata": {},
   "outputs": [],
   "source": []
  },
  {
   "cell_type": "code",
   "execution_count": 253,
   "id": "77ab0018",
   "metadata": {},
   "outputs": [
    {
     "name": "stdout",
     "output_type": "stream",
     "text": [
      "<class 'dict_values'>\n"
     ]
    }
   ],
   "source": [
    "values = my_dict.values()\n",
    "values # Порядок значений сохраняется\n",
    "#print(values[0])\n",
    "print(type(values))"
   ]
  },
  {
   "cell_type": "code",
   "execution_count": 254,
   "id": "bacc3843",
   "metadata": {},
   "outputs": [
    {
     "data": {
      "text/plain": [
       "dict_items([(1, 'value 1'), (2, 'value 2'), (3, 'value 3'), (4, 'value 4')])"
      ]
     },
     "execution_count": 254,
     "metadata": {},
     "output_type": "execute_result"
    }
   ],
   "source": [
    "\n",
    "items = my_dict.items()\n",
    "items # Порядок пар \"ключ: значение\" сохраняется\n"
   ]
  },
  {
   "cell_type": "code",
   "execution_count": 256,
   "id": "e4e5ef17",
   "metadata": {},
   "outputs": [
    {
     "name": "stdout",
     "output_type": "stream",
     "text": [
      "<class 'dict_items'>\n"
     ]
    }
   ],
   "source": [
    "print(type(items))"
   ]
  },
  {
   "cell_type": "code",
   "execution_count": 266,
   "id": "d60987c0",
   "metadata": {},
   "outputs": [
    {
     "data": {
      "text/plain": [
       "{1: 'value 1', 2: 'value 2', 3: 'value 3', 4: 'value 4'}"
      ]
     },
     "execution_count": 266,
     "metadata": {},
     "output_type": "execute_result"
    }
   ],
   "source": [
    "my_dict"
   ]
  },
  {
   "cell_type": "code",
   "execution_count": 272,
   "id": "a742242e",
   "metadata": {},
   "outputs": [
    {
     "data": {
      "text/plain": [
       "'value 3'"
      ]
     },
     "execution_count": 272,
     "metadata": {},
     "output_type": "execute_result"
    }
   ],
   "source": [
    "my_dict.setdefault(3,'Нет такого')\n",
    "#setdefault()"
   ]
  },
  {
   "cell_type": "code",
   "execution_count": 273,
   "id": "03ed4dc6",
   "metadata": {},
   "outputs": [
    {
     "data": {
      "text/plain": [
       "{1: 'value 1', 2: 'value 2', 3: 'value 3', 4: 'value 4', 5: 'Нет такого'}"
      ]
     },
     "execution_count": 273,
     "metadata": {},
     "output_type": "execute_result"
    }
   ],
   "source": [
    "my_dict"
   ]
  },
  {
   "cell_type": "code",
   "execution_count": null,
   "id": "fb91da4f",
   "metadata": {},
   "outputs": [],
   "source": []
  },
  {
   "cell_type": "code",
   "execution_count": 287,
   "id": "cb090259",
   "metadata": {},
   "outputs": [],
   "source": [
    "d = {1: 2, 3: 4, 4: 3, 2: 1, 0: 0}"
   ]
  },
  {
   "cell_type": "code",
   "execution_count": null,
   "id": "fe257718",
   "metadata": {},
   "outputs": [],
   "source": []
  },
  {
   "cell_type": "code",
   "execution_count": 283,
   "id": "81d1db92",
   "metadata": {},
   "outputs": [
    {
     "data": {
      "text/plain": [
       "[(0, 0), (1, 2), (2, 1), (3, 4), (4, 3)]"
      ]
     },
     "execution_count": 283,
     "metadata": {},
     "output_type": "execute_result"
    }
   ],
   "source": [
    "sorted(d.items())"
   ]
  },
  {
   "cell_type": "code",
   "execution_count": 286,
   "id": "ba9e4f46",
   "metadata": {},
   "outputs": [
    {
     "ename": "TypeError",
     "evalue": "'dict' object is not callable",
     "output_type": "error",
     "traceback": [
      "\u001b[1;31m---------------------------------------------------------------------------\u001b[0m",
      "\u001b[1;31mTypeError\u001b[0m                                 Traceback (most recent call last)",
      "\u001b[1;32m<ipython-input-286-5c19613aca5a>\u001b[0m in \u001b[0;36m<module>\u001b[1;34m\u001b[0m\n\u001b[1;32m----> 1\u001b[1;33m \u001b[0mresult\u001b[0m \u001b[1;33m=\u001b[0m \u001b[0mdict\u001b[0m\u001b[1;33m(\u001b[0m\u001b[0msorted\u001b[0m\u001b[1;33m(\u001b[0m\u001b[0md\u001b[0m\u001b[1;33m.\u001b[0m\u001b[0mitems\u001b[0m\u001b[1;33m(\u001b[0m\u001b[1;33m)\u001b[0m\u001b[1;33m)\u001b[0m\u001b[1;33m)\u001b[0m\u001b[1;33m\u001b[0m\u001b[1;33m\u001b[0m\u001b[0m\n\u001b[0m",
      "\u001b[1;31mTypeError\u001b[0m: 'dict' object is not callable"
     ]
    }
   ],
   "source": [
    "result = dict(sorted(d.items()))"
   ]
  },
  {
   "cell_type": "code",
   "execution_count": null,
   "id": "f4003e15",
   "metadata": {},
   "outputs": [],
   "source": []
  },
  {
   "cell_type": "code",
   "execution_count": 277,
   "id": "cfe16992",
   "metadata": {},
   "outputs": [],
   "source": [
    "import operator"
   ]
  },
  {
   "cell_type": "code",
   "execution_count": 295,
   "id": "72c0bb81",
   "metadata": {},
   "outputs": [
    {
     "name": "stdout",
     "output_type": "stream",
     "text": [
      "[(0, 0), (2, 1), (1, 2), (4, 3), (3, 4)]\n"
     ]
    }
   ],
   "source": [
    "result = sorted(d.items(), key=operator.itemgetter(1))\n",
    "##result1 = dict(sorted(d.items(), key=operator.itemgetter(1), reverse=True))\n",
    "\n",
    "print(result)\n",
    "#print(result1)"
   ]
  },
  {
   "cell_type": "code",
   "execution_count": 296,
   "id": "4fd249c9",
   "metadata": {},
   "outputs": [
    {
     "ename": "TypeError",
     "evalue": "'dict' object is not callable",
     "output_type": "error",
     "traceback": [
      "\u001b[1;31m---------------------------------------------------------------------------\u001b[0m",
      "\u001b[1;31mTypeError\u001b[0m                                 Traceback (most recent call last)",
      "\u001b[1;32m<ipython-input-296-caa3416e955a>\u001b[0m in \u001b[0;36m<module>\u001b[1;34m\u001b[0m\n\u001b[1;32m----> 1\u001b[1;33m \u001b[0mdict\u001b[0m\u001b[1;33m(\u001b[0m\u001b[0mresult\u001b[0m\u001b[1;33m)\u001b[0m\u001b[1;33m\u001b[0m\u001b[1;33m\u001b[0m\u001b[0m\n\u001b[0m",
      "\u001b[1;31mTypeError\u001b[0m: 'dict' object is not callable"
     ]
    }
   ],
   "source": [
    "dict(result)"
   ]
  },
  {
   "cell_type": "code",
   "execution_count": 289,
   "id": "291b074f",
   "metadata": {},
   "outputs": [
    {
     "ename": "AttributeError",
     "evalue": "'dict' object has no attribute 'sort'",
     "output_type": "error",
     "traceback": [
      "\u001b[1;31m---------------------------------------------------------------------------\u001b[0m",
      "\u001b[1;31mAttributeError\u001b[0m                            Traceback (most recent call last)",
      "\u001b[1;32m<ipython-input-289-85d083568b7f>\u001b[0m in \u001b[0;36m<module>\u001b[1;34m\u001b[0m\n\u001b[1;32m----> 1\u001b[1;33m \u001b[0md\u001b[0m\u001b[1;33m.\u001b[0m\u001b[0msort\u001b[0m\u001b[1;33m(\u001b[0m\u001b[0mkey\u001b[0m\u001b[1;33m=\u001b[0m\u001b[0moperator\u001b[0m\u001b[1;33m.\u001b[0m\u001b[0mitemgetter\u001b[0m\u001b[1;33m(\u001b[0m\u001b[1;36m1\u001b[0m\u001b[1;33m)\u001b[0m\u001b[1;33m,\u001b[0m \u001b[0mreverse\u001b[0m\u001b[1;33m=\u001b[0m\u001b[1;32mTrue\u001b[0m\u001b[1;33m)\u001b[0m\u001b[1;33m\u001b[0m\u001b[1;33m\u001b[0m\u001b[0m\n\u001b[0m",
      "\u001b[1;31mAttributeError\u001b[0m: 'dict' object has no attribute 'sort'"
     ]
    }
   ],
   "source": [
    "d.sort(key=operator.itemgetter(1), reverse=True)"
   ]
  },
  {
   "cell_type": "code",
   "execution_count": 293,
   "id": "c7660312",
   "metadata": {},
   "outputs": [],
   "source": [
    "import operator\n",
    "x = {1: 2, 3: 4, 4: 3, 2: 1, 0: 0}\n",
    "sorted_x = sorted(x.items(), key=operator.itemgetter(1))"
   ]
  },
  {
   "cell_type": "code",
   "execution_count": 298,
   "id": "d682c004",
   "metadata": {},
   "outputs": [
    {
     "data": {
      "text/plain": [
       "[(0, 0), (2, 1), (1, 2), (4, 3), (3, 4)]"
      ]
     },
     "execution_count": 298,
     "metadata": {},
     "output_type": "execute_result"
    }
   ],
   "source": [
    "sorted_x"
   ]
  },
  {
   "cell_type": "code",
   "execution_count": 302,
   "id": "af3f0153",
   "metadata": {},
   "outputs": [],
   "source": [
    "x = operator.itemgetter(a, 1)"
   ]
  },
  {
   "cell_type": "code",
   "execution_count": 300,
   "id": "91d9120d",
   "metadata": {},
   "outputs": [],
   "source": [
    "a = [1,2,3]"
   ]
  },
  {
   "cell_type": "code",
   "execution_count": 303,
   "id": "9f336afe",
   "metadata": {},
   "outputs": [
    {
     "data": {
      "text/plain": [
       "operator.itemgetter([1, 2, 3], 1)"
      ]
     },
     "execution_count": 303,
     "metadata": {},
     "output_type": "execute_result"
    }
   ],
   "source": [
    "x"
   ]
  },
  {
   "cell_type": "code",
   "execution_count": null,
   "id": "6f711fb8",
   "metadata": {},
   "outputs": [],
   "source": []
  },
  {
   "cell_type": "code",
   "execution_count": 304,
   "id": "d4b4c7f2",
   "metadata": {},
   "outputs": [
    {
     "data": {
      "text/html": [
       "<div>\n",
       "<style scoped>\n",
       "    .dataframe tbody tr th:only-of-type {\n",
       "        vertical-align: middle;\n",
       "    }\n",
       "\n",
       "    .dataframe tbody tr th {\n",
       "        vertical-align: top;\n",
       "    }\n",
       "\n",
       "    .dataframe thead th {\n",
       "        text-align: right;\n",
       "    }\n",
       "</style>\n",
       "<table border=\"1\" class=\"dataframe\">\n",
       "  <thead>\n",
       "    <tr style=\"text-align: right;\">\n",
       "      <th></th>\n",
       "      <th>id_group</th>\n",
       "      <th>ad_date</th>\n",
       "      <th>purchase_date</th>\n",
       "      <th>promo_type</th>\n",
       "      <th>time_left</th>\n",
       "    </tr>\n",
       "    <tr>\n",
       "      <th>user_id</th>\n",
       "      <th></th>\n",
       "      <th></th>\n",
       "      <th></th>\n",
       "      <th></th>\n",
       "      <th></th>\n",
       "    </tr>\n",
       "  </thead>\n",
       "  <tbody>\n",
       "    <tr>\n",
       "      <th>5061</th>\n",
       "      <td>1</td>\n",
       "      <td>2021-02-06</td>\n",
       "      <td>NaN</td>\n",
       "      <td>Gold Bundle</td>\n",
       "      <td>2020-08-23</td>\n",
       "    </tr>\n",
       "    <tr>\n",
       "      <th>4616</th>\n",
       "      <td>1</td>\n",
       "      <td>2021-03-07</td>\n",
       "      <td>2021-03-20</td>\n",
       "      <td>Platinum Bundle</td>\n",
       "      <td>2020-12-26</td>\n",
       "    </tr>\n",
       "    <tr>\n",
       "      <th>842</th>\n",
       "      <td>1</td>\n",
       "      <td>2021-04-13</td>\n",
       "      <td>2021-05-28</td>\n",
       "      <td>Platinum Bundle</td>\n",
       "      <td>2021-01-02</td>\n",
       "    </tr>\n",
       "    <tr>\n",
       "      <th>3571</th>\n",
       "      <td>1</td>\n",
       "      <td>2021-04-01</td>\n",
       "      <td>2021-05-10</td>\n",
       "      <td>Bundle Limited</td>\n",
       "      <td>2020-10-21</td>\n",
       "    </tr>\n",
       "    <tr>\n",
       "      <th>4642</th>\n",
       "      <td>1</td>\n",
       "      <td>2021-08-18</td>\n",
       "      <td>NaN</td>\n",
       "      <td>Platinum Bundle</td>\n",
       "      <td>2021-06-08</td>\n",
       "    </tr>\n",
       "    <tr>\n",
       "      <th>...</th>\n",
       "      <td>...</td>\n",
       "      <td>...</td>\n",
       "      <td>...</td>\n",
       "      <td>...</td>\n",
       "      <td>...</td>\n",
       "    </tr>\n",
       "    <tr>\n",
       "      <th>11750</th>\n",
       "      <td>0</td>\n",
       "      <td>2021-03-15</td>\n",
       "      <td>2021-04-12</td>\n",
       "      <td>Platinum Bundle</td>\n",
       "      <td>2020-10-11</td>\n",
       "    </tr>\n",
       "    <tr>\n",
       "      <th>106</th>\n",
       "      <td>1</td>\n",
       "      <td>2021-01-11</td>\n",
       "      <td>2021-02-25</td>\n",
       "      <td>Gold Bundle</td>\n",
       "      <td>2020-09-30</td>\n",
       "    </tr>\n",
       "    <tr>\n",
       "      <th>3706</th>\n",
       "      <td>1</td>\n",
       "      <td>2021-05-11</td>\n",
       "      <td>2021-07-08</td>\n",
       "      <td>Gold Bundle</td>\n",
       "      <td>2021-03-16</td>\n",
       "    </tr>\n",
       "    <tr>\n",
       "      <th>11753</th>\n",
       "      <td>1</td>\n",
       "      <td>2021-02-28</td>\n",
       "      <td>NaN</td>\n",
       "      <td>Std Bundle</td>\n",
       "      <td>2020-12-23</td>\n",
       "    </tr>\n",
       "    <tr>\n",
       "      <th>11754</th>\n",
       "      <td>0</td>\n",
       "      <td>2021-06-08</td>\n",
       "      <td>2021-07-28</td>\n",
       "      <td>Gold Bundle</td>\n",
       "      <td>2021-02-23</td>\n",
       "    </tr>\n",
       "  </tbody>\n",
       "</table>\n",
       "<p>15171 rows × 5 columns</p>\n",
       "</div>"
      ],
      "text/plain": [
       "         id_group     ad_date purchase_date       promo_type   time_left\n",
       "user_id                                                                 \n",
       "5061            1  2021-02-06           NaN      Gold Bundle  2020-08-23\n",
       "4616            1  2021-03-07    2021-03-20  Platinum Bundle  2020-12-26\n",
       "842             1  2021-04-13    2021-05-28  Platinum Bundle  2021-01-02\n",
       "3571            1  2021-04-01    2021-05-10   Bundle Limited  2020-10-21\n",
       "4642            1  2021-08-18           NaN  Platinum Bundle  2021-06-08\n",
       "...           ...         ...           ...              ...         ...\n",
       "11750           0  2021-03-15    2021-04-12  Platinum Bundle  2020-10-11\n",
       "106             1  2021-01-11    2021-02-25      Gold Bundle  2020-09-30\n",
       "3706            1  2021-05-11    2021-07-08      Gold Bundle  2021-03-16\n",
       "11753           1  2021-02-28           NaN       Std Bundle  2020-12-23\n",
       "11754           0  2021-06-08    2021-07-28      Gold Bundle  2021-02-23\n",
       "\n",
       "[15171 rows x 5 columns]"
      ]
     },
     "execution_count": 304,
     "metadata": {},
     "output_type": "execute_result"
    }
   ],
   "source": [
    "df"
   ]
  },
  {
   "cell_type": "code",
   "execution_count": 310,
   "id": "04dd30e8",
   "metadata": {},
   "outputs": [],
   "source": [
    "df_gr = df[(df['purchase_date'].notnull()) & (df['promo_type']!='Gold Bundle')].groupby(['id_group','promo_type']).agg({  'purchase_date' : 'max'\n",
    "                                                     , 'ad_date':'min'\n",
    "                                                     , 'time_left':'count'\n",
    "                                                    }).reset_index().rename(columns = {'ad_date':'min_ad'\n",
    "                                                                                       , 'time_left': 'cnt'\n",
    "                                                                                       , 'purchase_date':'max_pur'\n",
    "                                                                                      })"
   ]
  },
  {
   "cell_type": "code",
   "execution_count": 311,
   "id": "f75ce61a",
   "metadata": {},
   "outputs": [
    {
     "data": {
      "text/html": [
       "<div>\n",
       "<style scoped>\n",
       "    .dataframe tbody tr th:only-of-type {\n",
       "        vertical-align: middle;\n",
       "    }\n",
       "\n",
       "    .dataframe tbody tr th {\n",
       "        vertical-align: top;\n",
       "    }\n",
       "\n",
       "    .dataframe thead th {\n",
       "        text-align: right;\n",
       "    }\n",
       "</style>\n",
       "<table border=\"1\" class=\"dataframe\">\n",
       "  <thead>\n",
       "    <tr style=\"text-align: right;\">\n",
       "      <th></th>\n",
       "      <th>id_group</th>\n",
       "      <th>promo_type</th>\n",
       "      <th>max_pur</th>\n",
       "      <th>min_ad</th>\n",
       "      <th>cnt</th>\n",
       "    </tr>\n",
       "  </thead>\n",
       "  <tbody>\n",
       "    <tr>\n",
       "      <th>0</th>\n",
       "      <td>0</td>\n",
       "      <td>Bundle Limited</td>\n",
       "      <td>2021-09-08</td>\n",
       "      <td>2021-01-01</td>\n",
       "      <td>811</td>\n",
       "    </tr>\n",
       "    <tr>\n",
       "      <th>1</th>\n",
       "      <td>0</td>\n",
       "      <td>Platinum Bundle</td>\n",
       "      <td>2021-09-07</td>\n",
       "      <td>2021-01-01</td>\n",
       "      <td>1379</td>\n",
       "    </tr>\n",
       "    <tr>\n",
       "      <th>2</th>\n",
       "      <td>0</td>\n",
       "      <td>Std Bundle</td>\n",
       "      <td>2021-09-08</td>\n",
       "      <td>2021-01-01</td>\n",
       "      <td>993</td>\n",
       "    </tr>\n",
       "    <tr>\n",
       "      <th>3</th>\n",
       "      <td>1</td>\n",
       "      <td>Bundle Limited</td>\n",
       "      <td>2021-09-08</td>\n",
       "      <td>2021-01-01</td>\n",
       "      <td>776</td>\n",
       "    </tr>\n",
       "    <tr>\n",
       "      <th>4</th>\n",
       "      <td>1</td>\n",
       "      <td>Platinum Bundle</td>\n",
       "      <td>2021-10-11</td>\n",
       "      <td>2021-01-01</td>\n",
       "      <td>1450</td>\n",
       "    </tr>\n",
       "    <tr>\n",
       "      <th>5</th>\n",
       "      <td>1</td>\n",
       "      <td>Std Bundle</td>\n",
       "      <td>2021-09-08</td>\n",
       "      <td>2021-01-01</td>\n",
       "      <td>915</td>\n",
       "    </tr>\n",
       "  </tbody>\n",
       "</table>\n",
       "</div>"
      ],
      "text/plain": [
       "   id_group       promo_type     max_pur      min_ad   cnt\n",
       "0         0   Bundle Limited  2021-09-08  2021-01-01   811\n",
       "1         0  Platinum Bundle  2021-09-07  2021-01-01  1379\n",
       "2         0       Std Bundle  2021-09-08  2021-01-01   993\n",
       "3         1   Bundle Limited  2021-09-08  2021-01-01   776\n",
       "4         1  Platinum Bundle  2021-10-11  2021-01-01  1450\n",
       "5         1       Std Bundle  2021-09-08  2021-01-01   915"
      ]
     },
     "execution_count": 311,
     "metadata": {},
     "output_type": "execute_result"
    }
   ],
   "source": [
    "df_gr"
   ]
  },
  {
   "cell_type": "code",
   "execution_count": 305,
   "id": "c82bdd0e",
   "metadata": {},
   "outputs": [
    {
     "ename": "SyntaxError",
     "evalue": "invalid syntax (<ipython-input-305-3a3d5429d628>, line 1)",
     "output_type": "error",
     "traceback": [
      "\u001b[1;36m  File \u001b[1;32m\"<ipython-input-305-3a3d5429d628>\"\u001b[1;36m, line \u001b[1;32m1\u001b[0m\n\u001b[1;33m    select max(purchase_date)\u001b[0m\n\u001b[1;37m           ^\u001b[0m\n\u001b[1;31mSyntaxError\u001b[0m\u001b[1;31m:\u001b[0m invalid syntax\n"
     ]
    }
   ],
   "source": [
    "'''select max(purchase_date) as max_pur\n",
    "        , min(ad_date) as min_ad\n",
    "        , count(*) as cnt\n",
    "        , id_group\n",
    "        ,promo_type\n",
    "from df\n",
    "where purchase_date is not null and promo_type<>'Gold Bundle'\n",
    "group by id_group\n",
    "        ,promo_type\n",
    "'''\n"
   ]
  },
  {
   "cell_type": "code",
   "execution_count": null,
   "id": "53458457",
   "metadata": {},
   "outputs": [],
   "source": []
  },
  {
   "cell_type": "code",
   "execution_count": null,
   "id": "b95ee9f8",
   "metadata": {},
   "outputs": [],
   "source": []
  },
  {
   "cell_type": "code",
   "execution_count": null,
   "id": "f3710a09",
   "metadata": {},
   "outputs": [],
   "source": []
  }
 ],
 "metadata": {
  "kernelspec": {
   "display_name": "Python 3",
   "language": "python",
   "name": "python3"
  },
  "language_info": {
   "codemirror_mode": {
    "name": "ipython",
    "version": 3
   },
   "file_extension": ".py",
   "mimetype": "text/x-python",
   "name": "python",
   "nbconvert_exporter": "python",
   "pygments_lexer": "ipython3",
   "version": "3.8.8"
  }
 },
 "nbformat": 4,
 "nbformat_minor": 5
}
