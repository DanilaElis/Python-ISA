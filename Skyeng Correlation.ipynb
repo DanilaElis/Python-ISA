{
 "cells": [
  {
   "cell_type": "code",
   "execution_count": 13,
   "id": "d6d22353",
   "metadata": {},
   "outputs": [],
   "source": [
    "import pandas as pd\n",
    "import scipy as sc\n",
    "#from scipy.stats import pearsonr,spearmanr\n",
    "\n",
    "import seaborn as sns"
   ]
  },
  {
   "cell_type": "code",
   "execution_count": 18,
   "id": "6973a488",
   "metadata": {},
   "outputs": [],
   "source": [
    "df = pd.read_csv('skyeng corr sample.csv')"
   ]
  },
  {
   "cell_type": "code",
   "execution_count": 48,
   "id": "dcd2fb6e",
   "metadata": {},
   "outputs": [],
   "source": [
    "df1 = df[(df['classes_bought'].notnull()) & (df['max_teaching_level_id'].notnull()) & (df['avg_price'].notnull()) & (df['max_teaching_level_id']!=2.0)]"
   ]
  },
  {
   "cell_type": "code",
   "execution_count": 49,
   "id": "988dd801",
   "metadata": {},
   "outputs": [
    {
     "name": "stdout",
     "output_type": "stream",
     "text": [
      "3\n",
      "11939\n"
     ]
    }
   ],
   "source": [
    "print(len(df1[df1['avg_price']==0]))\n",
    "print(len(df1[df1['avg_price']!=0]))\n"
   ]
  },
  {
   "cell_type": "code",
   "execution_count": 50,
   "id": "6262d056",
   "metadata": {},
   "outputs": [
    {
     "data": {
      "text/plain": [
       "array([64, 16,  4,  8, 32,  2, 10,  5,  1, 15, 12,  7, 18,  9,  6, 36, 20],\n",
       "      dtype=int64)"
      ]
     },
     "execution_count": 50,
     "metadata": {},
     "output_type": "execute_result"
    }
   ],
   "source": [
    "df1['classes_bought'].unique()"
   ]
  },
  {
   "cell_type": "code",
   "execution_count": 51,
   "id": "b90aef89",
   "metadata": {},
   "outputs": [
    {
     "data": {
      "text/plain": [
       "<AxesSubplot:xlabel='max_teaching_level_id', ylabel='count'>"
      ]
     },
     "execution_count": 51,
     "metadata": {},
     "output_type": "execute_result"
    },
    {
     "data": {
      "image/png": "[encoded data removed]",
      "text/plain": [
       "<Figure size 432x288 with 1 Axes>"
      ]
     },
     "metadata": {
      "needs_background": "light"
     },
     "output_type": "display_data"
    }
   ],
   "source": [
    "sns.countplot(x = 'max_teaching_level_id',data=df1, palette='hls')#x = 0, \n",
    "#plt.show()"
   ]
  },
  {
   "cell_type": "code",
   "execution_count": 52,
   "id": "6a8fca36",
   "metadata": {},
   "outputs": [
    {
     "data": {
      "text/plain": [
       "<AxesSubplot:xlabel='classes_bought', ylabel='count'>"
      ]
     },
     "execution_count": 52,
     "metadata": {},
     "output_type": "execute_result"
    },
    {
     "data": {
      "image/png": "[encoded data removed]",
      "text/plain": [
       "<Figure size 432x288 with 1 Axes>"
      ]
     },
     "metadata": {
      "needs_background": "light"
     },
     "output_type": "display_data"
    }
   ],
   "source": [
    "sns.countplot(x = 'classes_bought',data=df1, palette='hls')#x = 0, \n"
   ]
  },
  {
   "cell_type": "code",
   "execution_count": 53,
   "id": "d7dd440a",
   "metadata": {},
   "outputs": [
    {
     "name": "stderr",
     "output_type": "stream",
     "text": [
      "<ipython-input-53-94c52f44c5f8>:1: SettingWithCopyWarning: \n",
      "A value is trying to be set on a copy of a slice from a DataFrame.\n",
      "Try using .loc[row_indexer,col_indexer] = value instead\n",
      "\n",
      "See the caveats in the documentation: https://pandas.pydata.org/pandas-docs/stable/user_guide/indexing.html#returning-a-view-versus-a-copy\n",
      "  df1['avg_price_bin'] = pd.qcut(df1['avg_price'],[0, .25, .5, .75, 1.])\n"
     ]
    }
   ],
   "source": [
    "df1['avg_price_bin'] = pd.qcut(df1['avg_price'],[0, .25, .5, .75, 1.])"
   ]
  },
  {
   "cell_type": "code",
   "execution_count": 54,
   "id": "2d3d4501",
   "metadata": {},
   "outputs": [
    {
     "data": {
      "text/plain": [
       "<AxesSubplot:xlabel='avg_price_bin', ylabel='count'>"
      ]
     },
     "execution_count": 54,
     "metadata": {},
     "output_type": "execute_result"
    },
    {
     "data": {
      "image/png": "[encoded data removed]",
      "text/plain": [
       "<Figure size 432x288 with 1 Axes>"
      ]
     },
     "metadata": {
      "needs_background": "light"
     },
     "output_type": "display_data"
    }
   ],
   "source": [
    "sns.countplot(x = 'avg_price_bin',data=df1, palette='hls')#x = 0, \n"
   ]
  },
  {
   "cell_type": "code",
   "execution_count": 58,
   "id": "db980f57",
   "metadata": {},
   "outputs": [
    {
     "data": {
      "text/html": [
       "<div>\n",
       "<style scoped>\n",
       "    .dataframe tbody tr th:only-of-type {\n",
       "        vertical-align: middle;\n",
       "    }\n",
       "\n",
       "    .dataframe tbody tr th {\n",
       "        vertical-align: top;\n",
       "    }\n",
       "\n",
       "    .dataframe thead th {\n",
       "        text-align: right;\n",
       "    }\n",
       "</style>\n",
       "<table border=\"1\" class=\"dataframe\">\n",
       "  <thead>\n",
       "    <tr style=\"text-align: right;\">\n",
       "      <th></th>\n",
       "      <th>max_teaching_level_id</th>\n",
       "      <th>classes_bought</th>\n",
       "      <th>avg_price_bin</th>\n",
       "    </tr>\n",
       "  </thead>\n",
       "  <tbody>\n",
       "    <tr>\n",
       "      <th>0</th>\n",
       "      <td>3.0</td>\n",
       "      <td>14.985788</td>\n",
       "      <td>774</td>\n",
       "    </tr>\n",
       "    <tr>\n",
       "      <th>1</th>\n",
       "      <td>4.0</td>\n",
       "      <td>13.202166</td>\n",
       "      <td>3324</td>\n",
       "    </tr>\n",
       "    <tr>\n",
       "      <th>2</th>\n",
       "      <td>5.0</td>\n",
       "      <td>13.265934</td>\n",
       "      <td>4095</td>\n",
       "    </tr>\n",
       "    <tr>\n",
       "      <th>3</th>\n",
       "      <td>6.0</td>\n",
       "      <td>12.641771</td>\n",
       "      <td>3749</td>\n",
       "    </tr>\n",
       "  </tbody>\n",
       "</table>\n",
       "</div>"
      ],
      "text/plain": [
       "   max_teaching_level_id  classes_bought  avg_price_bin\n",
       "0                    3.0       14.985788            774\n",
       "1                    4.0       13.202166           3324\n",
       "2                    5.0       13.265934           4095\n",
       "3                    6.0       12.641771           3749"
      ]
     },
     "execution_count": 58,
     "metadata": {},
     "output_type": "execute_result"
    }
   ],
   "source": [
    "df1.groupby('max_teaching_level_id').agg({'classes_bought':'mean','avg_price_bin':'count'}).reset_index()"
   ]
  },
  {
   "cell_type": "code",
   "execution_count": 59,
   "id": "54f14188",
   "metadata": {},
   "outputs": [],
   "source": [
    "df_b8 = df1[df1['classes_bought']==8]"
   ]
  },
  {
   "cell_type": "code",
   "execution_count": 62,
   "id": "fe3972d2",
   "metadata": {},
   "outputs": [
    {
     "data": {
      "text/html": [
       "<div>\n",
       "<style scoped>\n",
       "    .dataframe tbody tr th:only-of-type {\n",
       "        vertical-align: middle;\n",
       "    }\n",
       "\n",
       "    .dataframe tbody tr th {\n",
       "        vertical-align: top;\n",
       "    }\n",
       "\n",
       "    .dataframe thead th {\n",
       "        text-align: right;\n",
       "    }\n",
       "</style>\n",
       "<table border=\"1\" class=\"dataframe\">\n",
       "  <thead>\n",
       "    <tr style=\"text-align: right;\">\n",
       "      <th></th>\n",
       "      <th>max_teaching_level_id</th>\n",
       "      <th>avg_price</th>\n",
       "      <th>classes_bought</th>\n",
       "      <th>avg_price_bin</th>\n",
       "    </tr>\n",
       "  </thead>\n",
       "  <tbody>\n",
       "    <tr>\n",
       "      <th>22</th>\n",
       "      <td>5.0</td>\n",
       "      <td>990.0</td>\n",
       "      <td>8</td>\n",
       "      <td>(890.0, 990.0]</td>\n",
       "    </tr>\n",
       "    <tr>\n",
       "      <th>29</th>\n",
       "      <td>6.0</td>\n",
       "      <td>1720.0</td>\n",
       "      <td>8</td>\n",
       "      <td>(990.0, 1860.0]</td>\n",
       "    </tr>\n",
       "    <tr>\n",
       "      <th>36</th>\n",
       "      <td>5.0</td>\n",
       "      <td>990.0</td>\n",
       "      <td>8</td>\n",
       "      <td>(890.0, 990.0]</td>\n",
       "    </tr>\n",
       "    <tr>\n",
       "      <th>42</th>\n",
       "      <td>6.0</td>\n",
       "      <td>1720.0</td>\n",
       "      <td>8</td>\n",
       "      <td>(990.0, 1860.0]</td>\n",
       "    </tr>\n",
       "    <tr>\n",
       "      <th>47</th>\n",
       "      <td>5.0</td>\n",
       "      <td>990.0</td>\n",
       "      <td>8</td>\n",
       "      <td>(890.0, 990.0]</td>\n",
       "    </tr>\n",
       "    <tr>\n",
       "      <th>...</th>\n",
       "      <td>...</td>\n",
       "      <td>...</td>\n",
       "      <td>...</td>\n",
       "      <td>...</td>\n",
       "    </tr>\n",
       "    <tr>\n",
       "      <th>12035</th>\n",
       "      <td>5.0</td>\n",
       "      <td>690.0</td>\n",
       "      <td>8</td>\n",
       "      <td>(-0.001, 690.0]</td>\n",
       "    </tr>\n",
       "    <tr>\n",
       "      <th>12037</th>\n",
       "      <td>5.0</td>\n",
       "      <td>990.0</td>\n",
       "      <td>8</td>\n",
       "      <td>(890.0, 990.0]</td>\n",
       "    </tr>\n",
       "    <tr>\n",
       "      <th>12038</th>\n",
       "      <td>4.0</td>\n",
       "      <td>690.0</td>\n",
       "      <td>8</td>\n",
       "      <td>(-0.001, 690.0]</td>\n",
       "    </tr>\n",
       "    <tr>\n",
       "      <th>12040</th>\n",
       "      <td>4.0</td>\n",
       "      <td>690.0</td>\n",
       "      <td>8</td>\n",
       "      <td>(-0.001, 690.0]</td>\n",
       "    </tr>\n",
       "    <tr>\n",
       "      <th>12041</th>\n",
       "      <td>4.0</td>\n",
       "      <td>690.0</td>\n",
       "      <td>8</td>\n",
       "      <td>(-0.001, 690.0]</td>\n",
       "    </tr>\n",
       "  </tbody>\n",
       "</table>\n",
       "<p>3902 rows × 4 columns</p>\n",
       "</div>"
      ],
      "text/plain": [
       "       max_teaching_level_id  avg_price  classes_bought    avg_price_bin\n",
       "22                       5.0      990.0               8   (890.0, 990.0]\n",
       "29                       6.0     1720.0               8  (990.0, 1860.0]\n",
       "36                       5.0      990.0               8   (890.0, 990.0]\n",
       "42                       6.0     1720.0               8  (990.0, 1860.0]\n",
       "47                       5.0      990.0               8   (890.0, 990.0]\n",
       "...                      ...        ...             ...              ...\n",
       "12035                    5.0      690.0               8  (-0.001, 690.0]\n",
       "12037                    5.0      990.0               8   (890.0, 990.0]\n",
       "12038                    4.0      690.0               8  (-0.001, 690.0]\n",
       "12040                    4.0      690.0               8  (-0.001, 690.0]\n",
       "12041                    4.0      690.0               8  (-0.001, 690.0]\n",
       "\n",
       "[3902 rows x 4 columns]"
      ]
     },
     "execution_count": 62,
     "metadata": {},
     "output_type": "execute_result"
    }
   ],
   "source": [
    "df_b8"
   ]
  },
  {
   "cell_type": "code",
   "execution_count": 60,
   "id": "f9067930",
   "metadata": {},
   "outputs": [
    {
     "data": {
      "text/plain": [
       "(0.13468945347491906, 2.929529794001274e-17)"
      ]
     },
     "execution_count": 60,
     "metadata": {},
     "output_type": "execute_result"
    }
   ],
   "source": [
    "pearsonr(df_b8['max_teaching_level_id'],df_b8['avg_price'])"
   ]
  },
  {
   "cell_type": "code",
   "execution_count": 61,
   "id": "fbdce1c7",
   "metadata": {},
   "outputs": [
    {
     "data": {
      "text/plain": [
       "SpearmanrResult(correlation=-0.01792537243780291, pvalue=0.26294508508885917)"
      ]
     },
     "execution_count": 61,
     "metadata": {},
     "output_type": "execute_result"
    }
   ],
   "source": [
    "spearmanr(df_b8['max_teaching_level_id'],df_b8['avg_price'])"
   ]
  },
  {
   "cell_type": "code",
   "execution_count": null,
   "id": "0bde0943",
   "metadata": {},
   "outputs": [],
   "source": []
  }
 ],
 "metadata": {
  "kernelspec": {
   "display_name": "Python 3",
   "language": "python",
   "name": "python3"
  },
  "language_info": {
   "codemirror_mode": {
    "name": "ipython",
    "version": 3
   },
   "file_extension": ".py",
   "mimetype": "text/x-python",
   "name": "python",
   "nbconvert_exporter": "python",
   "pygments_lexer": "ipython3",
   "version": "3.8.8"
  }
 },
 "nbformat": 4,
 "nbformat_minor": 5
}
