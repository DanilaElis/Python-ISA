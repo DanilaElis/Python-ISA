{
 "cells": [
  {
   "cell_type": "code",
   "execution_count": 2,
   "id": "160f46e2",
   "metadata": {},
   "outputs": [],
   "source": [
    "import pandas as pd\n",
    "import numpy as np\n",
    "\n",
    "###################\n",
    "\n",
    "from scipy.stats import ttest_1samp, ttest_ind\n",
    "from scipy.stats import norm\n",
    "from scipy.stats import t\n",
    "\n",
    "###################\n",
    "\n",
    "import matplotlib.pyplot as plt"
   ]
  },
  {
   "cell_type": "code",
   "execution_count": 3,
   "id": "406c3841",
   "metadata": {},
   "outputs": [],
   "source": [
    "df = pd.read_csv('C:/Users/D.Elistratov/Documents/Презентации лекций/Неделя 6/ПИТОН/Marketing_pilot.csv') #skymusic.marketing_pilot_proc"
   ]
  },
  {
   "cell_type": "code",
   "execution_count": 4,
   "id": "6a162d26",
   "metadata": {},
   "outputs": [],
   "source": [
    "df['ad_date'] = pd.to_datetime(df['ad_date'])\n",
    "df['purchase_date'] = pd.to_datetime(df['purchase_date'])\n",
    "\n",
    "df['flag_30'] = (df['ad_date'] + pd.Timedelta(days=30) > df['purchase_date']).astype(int)\n",
    "\n",
    "r1 = df[df['id_group']==1]['flag_30']\n",
    "r0 = df[df['id_group']==0]['flag_30']"
   ]
  },
  {
   "cell_type": "code",
   "execution_count": 15,
   "id": "559f5e1d",
   "metadata": {},
   "outputs": [],
   "source": [
    "dfs = pd.read_csv('C:/Users/D.Elistratov/Documents/Презентации лекций/Неделя 6/ПИТОН/SKYBANK.csv') #late_collection_client"
   ]
  },
  {
   "cell_type": "code",
   "execution_count": 16,
   "id": "cf21dc93",
   "metadata": {},
   "outputs": [
    {
     "data": {
      "text/html": [
       "<div>\n",
       "<style scoped>\n",
       "    .dataframe tbody tr th:only-of-type {\n",
       "        vertical-align: middle;\n",
       "    }\n",
       "\n",
       "    .dataframe tbody tr th {\n",
       "        vertical-align: top;\n",
       "    }\n",
       "\n",
       "    .dataframe thead th {\n",
       "        text-align: right;\n",
       "    }\n",
       "</style>\n",
       "<table border=\"1\" class=\"dataframe\">\n",
       "  <thead>\n",
       "    <tr style=\"text-align: right;\">\n",
       "      <th></th>\n",
       "      <th>id_client</th>\n",
       "      <th>id_global</th>\n",
       "      <th>id_city</th>\n",
       "      <th>gender</th>\n",
       "      <th>married</th>\n",
       "      <th>first_time</th>\n",
       "      <th>age</th>\n",
       "      <th>is_educ</th>\n",
       "      <th>cellphone</th>\n",
       "      <th>is_active</th>\n",
       "      <th>cl_segm</th>\n",
       "      <th>amt_loan</th>\n",
       "      <th>date_loan</th>\n",
       "      <th>credit_type</th>\n",
       "    </tr>\n",
       "  </thead>\n",
       "  <tbody>\n",
       "    <tr>\n",
       "      <th>0</th>\n",
       "      <td>2756</td>\n",
       "      <td>1791.0</td>\n",
       "      <td>15.0</td>\n",
       "      <td>M</td>\n",
       "      <td>False</td>\n",
       "      <td>1.0</td>\n",
       "      <td>82.0</td>\n",
       "      <td>0.0</td>\n",
       "      <td>NaN</td>\n",
       "      <td>0.0</td>\n",
       "      <td>2.0</td>\n",
       "      <td>90000</td>\n",
       "      <td>2021-05-01</td>\n",
       "      <td>TOP-UP</td>\n",
       "    </tr>\n",
       "    <tr>\n",
       "      <th>1</th>\n",
       "      <td>2101</td>\n",
       "      <td>3978.0</td>\n",
       "      <td>1.0</td>\n",
       "      <td>F</td>\n",
       "      <td>False</td>\n",
       "      <td>1.0</td>\n",
       "      <td>84.0</td>\n",
       "      <td>0.0</td>\n",
       "      <td>8.916453e+10</td>\n",
       "      <td>0.0</td>\n",
       "      <td>2.0</td>\n",
       "      <td>500000</td>\n",
       "      <td>2020-02-05</td>\n",
       "      <td>POS-1</td>\n",
       "    </tr>\n",
       "    <tr>\n",
       "      <th>2</th>\n",
       "      <td>684</td>\n",
       "      <td>3409.0</td>\n",
       "      <td>2.0</td>\n",
       "      <td>M</td>\n",
       "      <td>False</td>\n",
       "      <td>1.0</td>\n",
       "      <td>84.0</td>\n",
       "      <td>1.0</td>\n",
       "      <td>8.916521e+10</td>\n",
       "      <td>1.0</td>\n",
       "      <td>2.0</td>\n",
       "      <td>440000</td>\n",
       "      <td>2021-04-23</td>\n",
       "      <td>POS-1</td>\n",
       "    </tr>\n",
       "    <tr>\n",
       "      <th>3</th>\n",
       "      <td>1330</td>\n",
       "      <td>1880.0</td>\n",
       "      <td>2.0</td>\n",
       "      <td>M</td>\n",
       "      <td>False</td>\n",
       "      <td>1.0</td>\n",
       "      <td>44.0</td>\n",
       "      <td>0.0</td>\n",
       "      <td>8.985401e+10</td>\n",
       "      <td>1.0</td>\n",
       "      <td>2.0</td>\n",
       "      <td>440000</td>\n",
       "      <td>2021-04-30</td>\n",
       "      <td>CC</td>\n",
       "    </tr>\n",
       "    <tr>\n",
       "      <th>4</th>\n",
       "      <td>734</td>\n",
       "      <td>3494.0</td>\n",
       "      <td>2.0</td>\n",
       "      <td>M</td>\n",
       "      <td>False</td>\n",
       "      <td>1.0</td>\n",
       "      <td>84.0</td>\n",
       "      <td>1.0</td>\n",
       "      <td>8.916150e+10</td>\n",
       "      <td>1.0</td>\n",
       "      <td>2.0</td>\n",
       "      <td>200000</td>\n",
       "      <td>2019-07-13</td>\n",
       "      <td>POS-1</td>\n",
       "    </tr>\n",
       "  </tbody>\n",
       "</table>\n",
       "</div>"
      ],
      "text/plain": [
       "   id_client  id_global  id_city gender married  first_time   age  is_educ  \\\n",
       "0       2756     1791.0     15.0      M   False         1.0  82.0      0.0   \n",
       "1       2101     3978.0      1.0      F   False         1.0  84.0      0.0   \n",
       "2        684     3409.0      2.0      M   False         1.0  84.0      1.0   \n",
       "3       1330     1880.0      2.0      M   False         1.0  44.0      0.0   \n",
       "4        734     3494.0      2.0      M   False         1.0  84.0      1.0   \n",
       "\n",
       "      cellphone  is_active  cl_segm  amt_loan   date_loan credit_type  \n",
       "0           NaN        0.0      2.0     90000  2021-05-01      TOP-UP  \n",
       "1  8.916453e+10        0.0      2.0    500000  2020-02-05       POS-1  \n",
       "2  8.916521e+10        1.0      2.0    440000  2021-04-23       POS-1  \n",
       "3  8.985401e+10        1.0      2.0    440000  2021-04-30          CC  \n",
       "4  8.916150e+10        1.0      2.0    200000  2019-07-13       POS-1  "
      ]
     },
     "execution_count": 16,
     "metadata": {},
     "output_type": "execute_result"
    }
   ],
   "source": [
    "dfs.head(5)"
   ]
  },
  {
   "cell_type": "code",
   "execution_count": 6,
   "id": "5830bd89",
   "metadata": {},
   "outputs": [],
   "source": [
    "r1s = dfs[dfs['gender']=='M']['amt_loan']\n",
    "r0s = dfs[dfs['gender']=='F']['amt_loan']"
   ]
  },
  {
   "cell_type": "code",
   "execution_count": 44,
   "id": "038e87ed",
   "metadata": {},
   "outputs": [],
   "source": [
    "import numpy as np\n",
    "\n",
    "#x1_avg = r1s.mean()\n",
    "#x1_var = r1s.var()\n",
    "\n",
    "x1_stddev = np.std(r1s)\n",
    "x1_avg = np.mean(r1s)\n",
    "x1_var = np.var(r1s)\n",
    "\n",
    "\n",
    "q1 = r1s.quantile([0.25,0.5,0.6,0.75])\n",
    "\n",
    "q2 = np.quantile(r1s, [0.25,0.5,0.6,0.75])"
   ]
  },
  {
   "cell_type": "code",
   "execution_count": 45,
   "id": "c8f97c0f",
   "metadata": {},
   "outputs": [
    {
     "name": "stdout",
     "output_type": "stream",
     "text": [
      "0.25    100000.0\n",
      "0.50    250000.0\n",
      "0.60    400000.0\n",
      "0.75    650000.0\n",
      "Name: amt_loan, dtype: float64\n",
      "<class 'pandas.core.series.Series'>\n"
     ]
    }
   ],
   "source": [
    "print(q1)\n",
    "print(type(q1))"
   ]
  },
  {
   "cell_type": "code",
   "execution_count": 46,
   "id": "b29584bd",
   "metadata": {},
   "outputs": [
    {
     "name": "stdout",
     "output_type": "stream",
     "text": [
      "[100000. 250000. 400000. 650000.]\n",
      "<class 'numpy.ndarray'>\n"
     ]
    }
   ],
   "source": [
    "print(q2)\n",
    "print(type(q2))"
   ]
  },
  {
   "cell_type": "code",
   "execution_count": 48,
   "id": "9ae16195",
   "metadata": {},
   "outputs": [],
   "source": [
    "q1 = r1s.quantile([0.25])"
   ]
  },
  {
   "cell_type": "code",
   "execution_count": null,
   "id": "b3e46507",
   "metadata": {},
   "outputs": [],
   "source": []
  },
  {
   "cell_type": "code",
   "execution_count": 287,
   "id": "1eaaa05d",
   "metadata": {},
   "outputs": [
    {
     "data": {
      "text/html": [
       "<div>\n",
       "<style scoped>\n",
       "    .dataframe tbody tr th:only-of-type {\n",
       "        vertical-align: middle;\n",
       "    }\n",
       "\n",
       "    .dataframe tbody tr th {\n",
       "        vertical-align: top;\n",
       "    }\n",
       "\n",
       "    .dataframe thead th {\n",
       "        text-align: right;\n",
       "    }\n",
       "</style>\n",
       "<table border=\"1\" class=\"dataframe\">\n",
       "  <thead>\n",
       "    <tr style=\"text-align: right;\">\n",
       "      <th></th>\n",
       "      <th>promo_type</th>\n",
       "      <th>delta</th>\n",
       "    </tr>\n",
       "  </thead>\n",
       "  <tbody>\n",
       "    <tr>\n",
       "      <th>0</th>\n",
       "      <td>Bundle Limited</td>\n",
       "      <td>104.504898</td>\n",
       "    </tr>\n",
       "    <tr>\n",
       "      <th>1</th>\n",
       "      <td>Gold Bundle</td>\n",
       "      <td>104.285027</td>\n",
       "    </tr>\n",
       "    <tr>\n",
       "      <th>2</th>\n",
       "      <td>Platinum Bundle</td>\n",
       "      <td>104.303458</td>\n",
       "    </tr>\n",
       "    <tr>\n",
       "      <th>3</th>\n",
       "      <td>Std Bundle</td>\n",
       "      <td>105.036266</td>\n",
       "    </tr>\n",
       "  </tbody>\n",
       "</table>\n",
       "</div>"
      ],
      "text/plain": [
       "        promo_type       delta\n",
       "0   Bundle Limited  104.504898\n",
       "1      Gold Bundle  104.285027\n",
       "2  Platinum Bundle  104.303458\n",
       "3       Std Bundle  105.036266"
      ]
     },
     "execution_count": 287,
     "metadata": {},
     "output_type": "execute_result"
    }
   ],
   "source": [
    "df_grouped"
   ]
  },
  {
   "cell_type": "code",
   "execution_count": null,
   "id": "ef08376c",
   "metadata": {},
   "outputs": [],
   "source": [
    "#### CDF - Cumulative Distribution Function\n",
    "#### PPF - Обратная кумулятивная функция распределения\n",
    "#### PDF - Probability Density Function\n",
    "\n"
   ]
  },
  {
   "cell_type": "code",
   "execution_count": 145,
   "id": "316b17fc",
   "metadata": {},
   "outputs": [
    {
     "data": {
      "text/plain": [
       "1.959963984540054"
      ]
     },
     "execution_count": 145,
     "metadata": {},
     "output_type": "execute_result"
    }
   ],
   "source": [
    "norm.ppf(0.975)"
   ]
  },
  {
   "cell_type": "code",
   "execution_count": 146,
   "id": "fa511bee",
   "metadata": {},
   "outputs": [
    {
     "data": {
      "text/plain": [
       "0.975"
      ]
     },
     "execution_count": 146,
     "metadata": {},
     "output_type": "execute_result"
    }
   ],
   "source": [
    "norm.cdf(1.959963984540054)"
   ]
  },
  {
   "cell_type": "code",
   "execution_count": 147,
   "id": "683f2b27",
   "metadata": {},
   "outputs": [
    {
     "data": {
      "text/plain": [
       "0.24801872461073715"
      ]
     },
     "execution_count": 147,
     "metadata": {},
     "output_type": "execute_result"
    }
   ],
   "source": [
    "norm.pdf(0.975)"
   ]
  },
  {
   "cell_type": "code",
   "execution_count": 87,
   "id": "0a4f5d8b",
   "metadata": {},
   "outputs": [
    {
     "data": {
      "text/plain": [
       "[<matplotlib.lines.Line2D at 0x22da86b2250>]"
      ]
     },
     "execution_count": 87,
     "metadata": {},
     "output_type": "execute_result"
    },
    {
     "data": {
      "image/png": "[encoded data removed]",
      "text/plain": [
       "<Figure size 432x288 with 1 Axes>"
      ]
     },
     "metadata": {
      "needs_background": "light"
     },
     "output_type": "display_data"
    }
   ],
   "source": [
    "import matplotlib.pyplot as plt\n",
    "\n",
    "\n",
    "fig, ax = plt.subplots(1,1)\n",
    "\n",
    "x = np.linspace(norm.ppf(0.005),\n",
    "                norm.ppf(0.995), 100)\n",
    "ax.plot(x, norm.pdf(x),\n",
    "       color = 'r', lw=5, alpha=0.5#, label='norm pdf'\n",
    "       )\n",
    "#ax.plot(x, norm.cdf(x),\n",
    "#       'b', lw=5, alpha=0.6#, label='norm cdf'\n",
    "#       )"
   ]
  },
  {
   "cell_type": "code",
   "execution_count": 155,
   "id": "5460b62e",
   "metadata": {},
   "outputs": [
    {
     "data": {
      "image/png": "[encoded data removed]",
      "text/plain": [
       "<Figure size 432x288 with 1 Axes>"
      ]
     },
     "metadata": {
      "needs_background": "light"
     },
     "output_type": "display_data"
    }
   ],
   "source": [
    "student = np.random.standard_t(100, size=11500000)\n",
    "h = plt.hist(student, bins=100\n",
    "             , density=True\n",
    "            )"
   ]
  },
  {
   "cell_type": "code",
   "execution_count": 107,
   "id": "208874d7",
   "metadata": {},
   "outputs": [
    {
     "data": {
      "text/plain": [
       "11500000"
      ]
     },
     "execution_count": 107,
     "metadata": {},
     "output_type": "execute_result"
    }
   ],
   "source": [
    "len(student)\n"
   ]
  },
  {
   "cell_type": "code",
   "execution_count": 115,
   "id": "475dbf7e",
   "metadata": {},
   "outputs": [
    {
     "data": {
      "text/plain": [
       "<seaborn.axisgrid.FacetGrid at 0x22da8814490>"
      ]
     },
     "execution_count": 115,
     "metadata": {},
     "output_type": "execute_result"
    },
    {
     "data": {
      "image/png": "[encoded data removed]",
      "text/plain": [
       "<Figure size 360x360 with 1 Axes>"
      ]
     },
     "metadata": {
      "needs_background": "light"
     },
     "output_type": "display_data"
    }
   ],
   "source": [
    "import seaborn\n",
    "\n",
    "ax = seaborn.displot(student,\n",
    "                #kde=True, ###Kernel Density Estimation\n",
    "                #norm_hist = True,\n",
    "                color='pink'\n",
    "                   )\n",
    "ax.set(xlabel='Student Value',ylabel='Student Frequency')\n",
    "#plt.xticks(np.unique(student));"
   ]
  },
  {
   "cell_type": "code",
   "execution_count": null,
   "id": "e209ad6e",
   "metadata": {},
   "outputs": [],
   "source": []
  },
  {
   "cell_type": "code",
   "execution_count": 125,
   "id": "f9a7e05e",
   "metadata": {},
   "outputs": [
    {
     "data": {
      "image/png": "[encoded data removed]",
      "text/plain": [
       "<Figure size 432x288 with 1 Axes>"
      ]
     },
     "metadata": {
      "needs_background": "light"
     },
     "output_type": "display_data"
    }
   ],
   "source": [
    "from scipy.stats import binom\n",
    "\n",
    "\n",
    "data=binom.rvs(n=17,p=0.7,loc=0,size=10000)\n",
    "plt.hist(data)\n",
    "plt.xticks(np.unique(data));"
   ]
  },
  {
   "cell_type": "code",
   "execution_count": 119,
   "id": "b5cc8986",
   "metadata": {},
   "outputs": [
    {
     "data": {
      "text/plain": [
       "10000"
      ]
     },
     "execution_count": 119,
     "metadata": {},
     "output_type": "execute_result"
    }
   ],
   "source": [
    "#len(data)"
   ]
  },
  {
   "cell_type": "code",
   "execution_count": 153,
   "id": "c8b2cfea",
   "metadata": {},
   "outputs": [
    {
     "data": {
      "image/png": "[encoded data removed]",
      "text/plain": [
       "<Figure size 360x360 with 1 Axes>"
      ]
     },
     "metadata": {
      "needs_background": "light"
     },
     "output_type": "display_data"
    }
   ],
   "source": [
    "ax=seaborn.displot(data,\n",
    "                #kde=True, ###Kernel Density Estimation\n",
    "                color='pink',\n",
    "                   )\n",
    "ax.set(xlabel='Binomial',ylabel='Frequency')\n",
    "plt.xticks(np.unique(data));"
   ]
  },
  {
   "cell_type": "code",
   "execution_count": 154,
   "id": "87fc235e",
   "metadata": {},
   "outputs": [
    {
     "data": {
      "image/png": "[encoded data removed]",
      "text/plain": [
       "<Figure size 432x288 with 1 Axes>"
      ]
     },
     "metadata": {
      "needs_background": "light"
     },
     "output_type": "display_data"
    }
   ],
   "source": [
    "ax=seaborn.histplot(data,\n",
    "                #kde=True, ###Kernel Density Estimation\n",
    "                color='pink',\n",
    "                stat = 'probability'\n",
    "                   )\n",
    "ax.set(xlabel='Binomial',ylabel='Frequency')\n",
    "plt.xticks(np.unique(data));"
   ]
  },
  {
   "cell_type": "code",
   "execution_count": 128,
   "id": "260b63ca",
   "metadata": {},
   "outputs": [
    {
     "data": {
      "text/plain": [
       "11.899999999999999"
      ]
     },
     "execution_count": 128,
     "metadata": {},
     "output_type": "execute_result"
    }
   ],
   "source": [
    "17*0.7"
   ]
  },
  {
   "cell_type": "code",
   "execution_count": 129,
   "id": "97ceafc1",
   "metadata": {},
   "outputs": [
    {
     "data": {
      "text/plain": [
       "11.9086"
      ]
     },
     "execution_count": 129,
     "metadata": {},
     "output_type": "execute_result"
    }
   ],
   "source": [
    "data.mean()"
   ]
  },
  {
   "cell_type": "code",
   "execution_count": 141,
   "id": "8ef126c9",
   "metadata": {},
   "outputs": [
    {
     "data": {
      "image/png": "[encoded data removed]",
      "text/plain": [
       "<Figure size 432x288 with 1 Axes>"
      ]
     },
     "metadata": {
      "needs_background": "light"
     },
     "output_type": "display_data"
    }
   ],
   "source": [
    "s=np.random.poisson(5, 1000000)\n",
    "plt.hist(s\n",
    "         ,color='Green'\n",
    "         , density = True\n",
    "        );\n"
   ]
  },
  {
   "cell_type": "code",
   "execution_count": 156,
   "id": "665b5a9d",
   "metadata": {},
   "outputs": [
    {
     "data": {
      "text/plain": [
       "array([9, 6, 4, ..., 9, 9, 9])"
      ]
     },
     "execution_count": 156,
     "metadata": {},
     "output_type": "execute_result"
    }
   ],
   "source": [
    "s"
   ]
  },
  {
   "cell_type": "code",
   "execution_count": 143,
   "id": "3a6d611e",
   "metadata": {},
   "outputs": [
    {
     "data": {
      "image/png": "[encoded data removed]",
      "text/plain": [
       "<Figure size 360x360 with 1 Axes>"
      ]
     },
     "metadata": {
      "needs_background": "light"
     },
     "output_type": "display_data"
    }
   ],
   "source": [
    "ax=seaborn.displot(s,\n",
    "                #kde=True,\n",
    "                color='green',\n",
    "                #hist_kws={\"linewidth\": 22,'alpha':0.77}\n",
    "                   )\n",
    "ax.set(xlabel='Poisson',ylabel='Frequency')\n",
    "plt.xticks(np.unique(s));"
   ]
  },
  {
   "cell_type": "code",
   "execution_count": null,
   "id": "ede6bdb4",
   "metadata": {},
   "outputs": [],
   "source": []
  }
 ],
 "metadata": {
  "kernelspec": {
   "display_name": "Python 3",
   "language": "python",
   "name": "python3"
  },
  "language_info": {
   "codemirror_mode": {
    "name": "ipython",
    "version": 3
   },
   "file_extension": ".py",
   "mimetype": "text/x-python",
   "name": "python",
   "nbconvert_exporter": "python",
   "pygments_lexer": "ipython3",
   "version": "3.8.8"
  }
 },
 "nbformat": 4,
 "nbformat_minor": 5
}
