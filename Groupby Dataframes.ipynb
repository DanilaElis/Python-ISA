{
 "cells": [
  {
   "cell_type": "code",
   "execution_count": 2,
   "id": "ffacecde",
   "metadata": {},
   "outputs": [],
   "source": [
    "import pandas as pd"
   ]
  },
  {
   "cell_type": "code",
   "execution_count": 17,
   "id": "972487de",
   "metadata": {},
   "outputs": [],
   "source": [
    "dfm = pd.read_csv('C:/Users/D.Elistratov/Documents/Презентации лекций/Неделя 6/ПИТОН/Marketing_pilot.csv')\n",
    "df = pd.read_csv('C:/Users/D.Elistratov/Documents/Презентации лекций/Неделя 6/ПИТОН/SKYBANK.csv')"
   ]
  },
  {
   "cell_type": "code",
   "execution_count": 18,
   "id": "b474d72a",
   "metadata": {},
   "outputs": [],
   "source": [
    "dfm['ad_date'] = pd.to_datetime(dfm['ad_date'])\n",
    "dfm['purchase_date'] = pd.to_datetime(dfm['purchase_date'])\n",
    "dfm['time_left'] = pd.to_datetime(dfm['time_left'])"
   ]
  },
  {
   "cell_type": "code",
   "execution_count": 19,
   "id": "8b61a92d",
   "metadata": {},
   "outputs": [],
   "source": [
    "dfm['flag_30'] = (dfm['ad_date'] + pd.Timedelta(days=30) > dfm['purchase_date']).astype(int)\n",
    "dfm['flag_60'] = (dfm['ad_date'] + pd.Timedelta(days=60) > dfm['purchase_date']).astype(int)\n",
    "dfm['flag_90'] = (dfm['ad_date'] + pd.Timedelta(days=90) > dfm['purchase_date']).astype(int)"
   ]
  },
  {
   "cell_type": "code",
   "execution_count": 20,
   "id": "1a5ac8b7",
   "metadata": {},
   "outputs": [
    {
     "data": {
      "text/plain": [
       "\"\\n\\nselect promo_type, id_group, count(user_id) as cnt_all, sum(flag_30) as cnt_30, sum(flag_60) as cnt_60, sum(flag_90) as cnt_90\\nfrom dfm\\nwhere promo_type<>'Gold Bundle'\\ngroup by promo_type, id_group\\n\\n\""
      ]
     },
     "execution_count": 20,
     "metadata": {},
     "output_type": "execute_result"
    }
   ],
   "source": [
    "'''\n",
    "\n",
    "select promo_type, id_group, count(user_id) as cnt_all, sum(flag_30) as cnt_30, sum(flag_60) as cnt_60, sum(flag_90) as cnt_90\n",
    "from dfm\n",
    "where promo_type<>'Gold Bundle'\n",
    "group by promo_type, id_group\n",
    "\n",
    "'''\n",
    "\n",
    "dfm_gr = dfm[dfm['promo_type']!='Gold Bundle'].groupby(['promo_type','id_group']).agg({'user_id':'count'\n",
    "                                                , 'flag_30': 'sum'\n",
    "                                                , 'flag_60': 'sum'\n",
    "                                                , 'flag_90': 'sum'\n",
    "                                                    }).reset_index().rename(columns={'user_id':'cnt_all'\n",
    "                                                                                   , 'flag_30': 'cnt_30'\n",
    "                                                                                   , 'flag_60': 'cnt_60'\n",
    "                                                                                   , 'flag_90': 'cnt_90'\n",
    "                                                                                     }  \n",
    "                                                                            )"
   ]
  },
  {
   "cell_type": "code",
   "execution_count": 21,
   "id": "37f40c68",
   "metadata": {},
   "outputs": [],
   "source": [
    "dfm_gr['ratio_30'] = dfm_gr['cnt_30'] / dfm_gr['cnt_all']\n",
    "dfm_gr['ratio_60'] = dfm_gr['cnt_60'] / dfm_gr['cnt_all']\n",
    "dfm_gr['ratio_90'] = dfm_gr['cnt_90'] / dfm_gr['cnt_all']"
   ]
  },
  {
   "cell_type": "code",
   "execution_count": 22,
   "id": "cac1bd58",
   "metadata": {},
   "outputs": [],
   "source": [
    "'''\n",
    "select sum(amt_loan)\n",
    "        , credit_type\n",
    "from df\n",
    "where gender is not null\n",
    "group by credit_type\n",
    "'''\n",
    "\n",
    "df_gr_cnt_crtype = df[df['gender'].notnull()].groupby('credit_type').sum()['amt_loan'].reset_index()"
   ]
  },
  {
   "cell_type": "code",
   "execution_count": 23,
   "id": "31423862",
   "metadata": {},
   "outputs": [],
   "source": [
    "'''\n",
    "select count(id_client)\n",
    "        , credit_type\n",
    "        , cl_segm\n",
    "        , gender\n",
    "from df\n",
    "where gender is not null\n",
    "group by credit_type\n",
    "        , cl_segm\n",
    "        , gender\n",
    "'''\n",
    "\n",
    "df_gr_3 = df[(df['gender'].notnull())].groupby(['credit_type','cl_segm','gender']).count()['id_client'].reset_index()"
   ]
  },
  {
   "cell_type": "code",
   "execution_count": 25,
   "id": "4ef69247",
   "metadata": {},
   "outputs": [],
   "source": [
    "'''\n",
    "select sum(amt_loan)\n",
    "        , credit_type\n",
    "        , cl_segm\n",
    "from df\n",
    "where amt_loan > 100000 and is_active = 1\n",
    "group by credit_type\n",
    "        , cl_segm\n",
    "'''\n",
    "\n",
    "df_gr_4 = df[(df['amt_loan'] > 100000) & (df['is_active'] == 1)].groupby(['credit_type','cl_segm']).sum()[['amt_loan','age']].reset_index()"
   ]
  },
  {
   "cell_type": "code",
   "execution_count": 26,
   "id": "b51d087d",
   "metadata": {},
   "outputs": [],
   "source": [
    "'''\n",
    "select sum(amt_loan) as sum_credit\n",
    "        , count(*) as cnt_all\n",
    "        , credit_type\n",
    "        , gender\n",
    "from df\n",
    "where amt_loan > 10000 and cellphone is not null\n",
    "group by credit_type\n",
    "        , gender\n",
    "'''\n",
    "\n",
    "df_gr_5 = df[(df['amt_loan'] > 10000) \n",
    "           & (df['cellphone'].notnull())].groupby(['credit_type'\n",
    "                                                  ,'gender']).agg({\"amt_loan\":'sum'\n",
    "                                                                            , 'id_client':'count'\n",
    "                                                                  }).reset_index().rename(columns = {'amt_loan':'sum_credit'\n",
    "                                                                                                     , 'id_client':'cnt_all'\n",
    "                                                                                                     , 'gender': 'genderrr'\n",
    "                                                                                                    })"
   ]
  },
  {
   "cell_type": "code",
   "execution_count": 27,
   "id": "b83943be",
   "metadata": {},
   "outputs": [],
   "source": [
    "df['date_loan'] = pd.to_datetime(df['date_loan'])\n",
    "\n",
    "df['date_loan_offset'] = df['date_loan'] + pd.DateOffset(months=1) + pd.DateOffset(days=2) + pd.DateOffset(hours=3)\n"
   ]
  },
  {
   "cell_type": "code",
   "execution_count": 29,
   "id": "53d7d4bb",
   "metadata": {},
   "outputs": [],
   "source": [
    "df['delta'] = df['date_loan_offset'] - df['date_loan'] \n",
    "df['delta_days'] = df['delta'].dt.components['days']"
   ]
  },
  {
   "cell_type": "code",
   "execution_count": 30,
   "id": "e4c2471e",
   "metadata": {},
   "outputs": [],
   "source": [
    "df['percent_delta_days'] = df['delta_days'] / df['delta_days'].sum()*100"
   ]
  },
  {
   "cell_type": "code",
   "execution_count": null,
   "id": "fa7868fe",
   "metadata": {},
   "outputs": [],
   "source": []
  }
 ],
 "metadata": {
  "kernelspec": {
   "display_name": "Python 3",
   "language": "python",
   "name": "python3"
  },
  "language_info": {
   "codemirror_mode": {
    "name": "ipython",
    "version": 3
   },
   "file_extension": ".py",
   "mimetype": "text/x-python",
   "name": "python",
   "nbconvert_exporter": "python",
   "pygments_lexer": "ipython3",
   "version": "3.8.8"
  }
 },
 "nbformat": 4,
 "nbformat_minor": 5
}
