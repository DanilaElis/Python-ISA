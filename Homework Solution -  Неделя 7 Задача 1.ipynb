{
 "cells": [
  {
   "cell_type": "code",
   "execution_count": 62,
   "id": "276dee35",
   "metadata": {},
   "outputs": [],
   "source": [
    "import pandas as pd\n",
    "import numpy as np\n",
    "from scipy.stats import ttest_1samp\n",
    "from scipy.stats import ttest_ind\n"
   ]
  },
  {
   "cell_type": "code",
   "execution_count": 67,
   "id": "facb9498",
   "metadata": {},
   "outputs": [],
   "source": [
    "def stat_analysis(row1, row2, m = 430000, diff_means = 0 ,alpha = 0.05):\n",
    "    x1_avg = row1.mean()\n",
    "    x1_var = row1.var()\n",
    "    x1_stddev = np.std(row1)\n",
    "    q1 = row1.quantile([0.25,0.5,0.75])\n",
    "    \n",
    "    print(\"Среднее значение первого ряда = \",x1_avg)\n",
    "    print(\"Дисперсия первого ряда = \",x1_var)\n",
    "    print(\"Стандартное отклонение первого ряда = \",x1_stddev)\n",
    "    print(\"Квантили = \",q1)\n",
    "    print('\\n')\n",
    "        \n",
    "    ##### one-sample hypothesis    \n",
    "    tset1, pval1 = ttest_1samp(row1, m)    \n",
    "    print('p-value of t-test one-sample for row1' ,pval1)\n",
    "    if pval1 < alpha:    # alpha value is 0.05 or 5%\n",
    "        print(\" we are rejecting null hypothesis\")\n",
    "    else:\n",
    "        print(\"we are accepting null hypothesis\")\n",
    "    print('t-value = ',tset1)\n",
    "    print('\\n')\n",
    "        \n",
    "    if len(row2)>=1:\n",
    "        \n",
    "        x2_avg = row2.mean()\n",
    "        x2_var = row2.var()\n",
    "        x2_stddev = np.std(row2)\n",
    "        q2 = row2.quantile([0.25,0.5,0.75])\n",
    "        \n",
    "        print(\"Среднее значение второго ряда = \",x2_avg)\n",
    "        print(\"Дисперсия второго ряда = \",x2_var)\n",
    "        print(\"Стандартное отклонение второго ряда = \",x2_stddev)\n",
    "        print(\"Квантили = \",q1)\n",
    "        print('\\n')\n",
    "        \n",
    "        ##### one-sample hypothesis\n",
    "        tset2, pval2 = ttest_1samp(row2, m)    \n",
    "        print('p-value of t-test one-sample for row2' ,pval2)\n",
    "        if pval2 < alpha:    # alpha value is 0.05 or 5%\n",
    "            print(\" we are rejecting null hypothesis\")\n",
    "        else:\n",
    "            print(\"we are accepting null hypothesis\")\n",
    "        print('t-value = ',tset2)\n",
    "        print('\\n')\n",
    "        \n",
    "    ##### two-sample hypothesis\n",
    "    tset_two, pval_two = ttest_ind(row1, row2) \n",
    "    print('p-value of t-test two-sample' ,pval_two)\n",
    "    if pval_two < alpha:    # alpha value is 0.05 or 5%\n",
    "        print(\" we are rejecting null hypothesis\")\n",
    "    else:\n",
    "        print(\"we are accepting null hypothesis\")\n",
    "    print('t-value = ',tset_two)"
   ]
  },
  {
   "cell_type": "code",
   "execution_count": 68,
   "id": "bdc48b47",
   "metadata": {},
   "outputs": [
    {
     "name": "stdout",
     "output_type": "stream",
     "text": [
      "Среднее значение первого ряда =  433715.9214830971\n",
      "Дисперсия первого ряда =  185918249315.38104\n",
      "Стандартное отклонение первого ряда =  431064.8167319519\n",
      "Квантили =  0.25    100000.0\n",
      "0.50    250000.0\n",
      "0.75    650000.0\n",
      "Name: amt_loan, dtype: float64\n",
      "\n",
      "\n",
      "p-value of t-test one-sample for row1 0.7121204305701521\n",
      "we are accepting null hypothesis\n",
      "t-value =  0.36906697386868614\n",
      "\n",
      "\n",
      "Среднее значение второго ряда =  431432.664756447\n",
      "Дисперсия второго ряда =  193186329830.65558\n",
      "Стандартное отклонение второго ряда =  439319.7191869931\n",
      "Квантили =  0.25    100000.0\n",
      "0.50    250000.0\n",
      "0.75    650000.0\n",
      "Name: amt_loan, dtype: float64\n",
      "\n",
      "\n",
      "p-value of t-test one-sample for row2 0.9160229456933054\n",
      "we are accepting null hypothesis\n",
      "t-value =  0.10547018852833401\n",
      "\n",
      "\n",
      "p-value of t-test two-sample 0.8920301948546419\n",
      "we are accepting null hypothesis\n",
      "t-value =  0.1357477417663771\n"
     ]
    }
   ],
   "source": [
    "stat_analysis(r1s,r0s)"
   ]
  },
  {
   "cell_type": "code",
   "execution_count": 3,
   "id": "cdb86e93",
   "metadata": {},
   "outputs": [],
   "source": [
    "df = pd.read_csv('C:/Users/D.Elistratov/Documents/Презентации лекций/Неделя 6/ПИТОН/Marketing_pilot.csv')"
   ]
  },
  {
   "cell_type": "code",
   "execution_count": 7,
   "id": "748ce98b",
   "metadata": {},
   "outputs": [],
   "source": [
    "df['ad_date'] = pd.to_datetime(df['ad_date'])\n",
    "df['purchase_date'] = pd.to_datetime(df['purchase_date'])\n",
    "\n",
    "df['flag_30'] = (df['ad_date'] + pd.Timedelta(days=30) > df['purchase_date']).astype(int)\n",
    "\n",
    "r1 = df[df['id_group']==1]['flag_30']\n",
    "r0 = df[df['id_group']==0]['flag_30']"
   ]
  },
  {
   "cell_type": "code",
   "execution_count": 17,
   "id": "55cb803a",
   "metadata": {},
   "outputs": [
    {
     "name": "stdout",
     "output_type": "stream",
     "text": [
      "Среднее значение первого ряда =  0.25388874242024784\n",
      "Дисперсия первого ряда =  0.1894542230848351\n",
      "Стандартное отклонение первого ряда =  0.43523470552392296\n",
      "Среднее значение первого ряда =  0.25115359261700726\n",
      "Дисперсия первого ряда =  0.18810026451274325\n",
      "Стандартное отклонение первого ряда =  0.43367668317835967\n"
     ]
    }
   ],
   "source": [
    "stat_analysis(r1,r0)"
   ]
  },
  {
   "cell_type": "code",
   "execution_count": 51,
   "id": "32f4ea12",
   "metadata": {},
   "outputs": [],
   "source": [
    "dfs = pd.read_csv('C:/Users/D.Elistratov/Documents/Презентации лекций/Неделя 6/ПИТОН/SKYBANK.csv')"
   ]
  },
  {
   "cell_type": "code",
   "execution_count": 53,
   "id": "33921422",
   "metadata": {},
   "outputs": [],
   "source": [
    "r1s = dfs[dfs['gender']=='M']['amt_loan']\n",
    "r0s = dfs[dfs['gender']=='F']['amt_loan']"
   ]
  },
  {
   "cell_type": "code",
   "execution_count": null,
   "id": "601cdfbd",
   "metadata": {},
   "outputs": [],
   "source": []
  }
 ],
 "metadata": {
  "kernelspec": {
   "display_name": "Python 3",
   "language": "python",
   "name": "python3"
  },
  "language_info": {
   "codemirror_mode": {
    "name": "ipython",
    "version": 3
   },
   "file_extension": ".py",
   "mimetype": "text/x-python",
   "name": "python",
   "nbconvert_exporter": "python",
   "pygments_lexer": "ipython3",
   "version": "3.8.8"
  }
 },
 "nbformat": 4,
 "nbformat_minor": 5
}
